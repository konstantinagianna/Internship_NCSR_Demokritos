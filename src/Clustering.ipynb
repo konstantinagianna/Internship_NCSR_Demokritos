{
 "cells": [
  {
   "cell_type": "code",
   "execution_count": 2,
   "metadata": {
    "scrolled": false
   },
   "outputs": [
    {
     "name": "stderr",
     "output_type": "stream",
     "text": [
      "[nltk_data] Downloading package stopwords to\n",
      "[nltk_data]     C:\\Users\\Dell\\AppData\\Roaming\\nltk_data...\n",
      "[nltk_data]   Package stopwords is already up-to-date!\n"
     ]
    }
   ],
   "source": [
    "import pandas as pd\n",
    "import numpy as np\n",
    "import nltk\n",
    "nltk.download('stopwords') \n",
    "from nltk.corpus import stopwords\n",
    "import string\n",
    "import spacy\n",
    "import el_core_news_md\n",
    "nlp = el_core_news_md.load()\n",
    "from greek_stemmer import GreekStemmer\n",
    "stemmer = GreekStemmer()\n",
    "import re\n",
    "\n",
    "total_stop_words = (nlp.Defaults.stop_words).union(set(stopwords.words('greek')))\n",
    "total_stop_words = total_stop_words.union({'ή', 'μόνον'})\n",
    "total_puncts = string.punctuation + '«»–“”\\xa0‘•…●\\uf0b7◗♥.'\n",
    "total_stop_words = list(total_stop_words) + list(string.punctuation)\n",
    "#total_stop_words += [stemming(word) for word in total_stop_words]\n",
    "\n",
    "\n",
    "\n",
    "def texts_retrieval(data_filename):\n",
    "    df_texts = pd.read_csv(data_filename, index_col=None)\n",
    "    return df_texts['text']\n",
    "\n",
    "\n",
    "\n",
    "def sentences_retrieval(texts):\n",
    "    documents = []\n",
    "    for text in texts:\n",
    "        documents += nltk.sent_tokenize(text)\n",
    "    final_documents = []\n",
    "    for j in range(len(documents)):   \n",
    "        if re.search(r'[.!;][Α-ΩA-Z\"«“]', documents[j]) != None :\n",
    "            sents = re.split(r'([.!;][Α-ΩA-Z\"«“])', documents[j])\n",
    "            sentences = []\n",
    "            for i in range(len(sents)):\n",
    "                if i == 0:\n",
    "                    sentences.append(sents[i])\n",
    "                elif i%2 == 0:\n",
    "                     sentences.append(sents[i-1][1] + sents[i])\n",
    "            for sentence in sentences:\n",
    "                if len(sentence)>3:\n",
    "                    final_documents.append(sentence)\n",
    "        else:\n",
    "            if len(documents[j])>3:\n",
    "                final_documents.append(documents[j])\n",
    "        \n",
    "    return final_documents\n",
    "\n",
    "\n",
    "\n",
    "def filter_punctuation(words):\n",
    "    filtered_words = []\n",
    "    for word in words:\n",
    "        pun = []\n",
    "        for letter in word:\n",
    "            pun.append(letter in total_puncts)\n",
    "\n",
    "        if not all(pun):\n",
    "            word = word.strip(total_puncts)\n",
    "            \n",
    "            if (len(word)>3):\n",
    "                for punct in total_puncts:\n",
    "                    word = word.replace(punct, ' ')\n",
    "            else:\n",
    "                for punct in total_puncts:\n",
    "                    word = word.replace(punct, '')\n",
    "                    \n",
    "            tokens = nltk.word_tokenize(word)\n",
    "            \n",
    "            for token in tokens:\n",
    "                filtered_words.append(token)\n",
    "                \n",
    "    return filtered_words\n",
    "\n",
    "\n",
    "\n",
    "def group_numbers(words):\n",
    "    new_words = []\n",
    "    for word in words:\n",
    "        if re.fullmatch(r'[0-9]+', word) != None :\n",
    "            if int(word) >= 1800 and int(word) <= 2020:\n",
    "                word = '2000'\n",
    "            else:\n",
    "                word = '1'\n",
    "        new_words.append(word)\n",
    "    return new_words\n",
    "\n",
    "\n",
    "\n",
    "def removing_accents(word):\n",
    "    \"\"\"\n",
    "    Removes accents from a given word.\n",
    "    \n",
    "    Parameters\n",
    "    ----------\n",
    "    word : str\n",
    "        the word from which we want to remove the accents\n",
    "\n",
    "    Returns\n",
    "    -------\n",
    "    str\n",
    "        the word without accents\n",
    "    \"\"\"\n",
    "    return (word.replace('ά', 'α').replace('έ', 'ε').replace('ή', 'η').replace('ί', 'ι').replace('ό', 'ο').replace('ύ', 'υ')\n",
    "            .replace('ώ', 'ω').replace('ϊ', 'ι').replace('ϋ', 'υ').replace('ΐ', 'ι').replace('ΰ', 'υ'))\n",
    "\n",
    "\n",
    "\n",
    "def stemming(word):\n",
    "    \"\"\"\n",
    "    Implements stemming for a given word.\n",
    "    \n",
    "    Parameters\n",
    "    ----------\n",
    "    word : str\n",
    "        the word that is about to be stemmed\n",
    "\n",
    "    Returns\n",
    "    -------\n",
    "    str\n",
    "        the stem of the given word at uppercase letters\n",
    "    \"\"\"\n",
    "    return stemmer.stem((removing_accents(word)).upper())"
   ]
  },
  {
   "cell_type": "code",
   "execution_count": 3,
   "metadata": {
    "scrolled": true
   },
   "outputs": [],
   "source": [
    "texts = texts_retrieval('../data/votana_total_texts_annotated.csv')\n",
    "documents = sentences_retrieval(texts)"
   ]
  },
  {
   "cell_type": "code",
   "execution_count": 3,
   "metadata": {},
   "outputs": [],
   "source": [
    "df = pd.DataFrame(columns=['Sentence'])\n",
    "df['Sentence'] = documents"
   ]
  },
  {
   "cell_type": "code",
   "execution_count": 12,
   "metadata": {},
   "outputs": [],
   "source": [
    "df.to_csv('../data/properties.csv', index=False)"
   ]
  },
  {
   "cell_type": "code",
   "execution_count": 4,
   "metadata": {
    "scrolled": true
   },
   "outputs": [
    {
     "data": {
      "text/plain": [
       "41549"
      ]
     },
     "execution_count": 4,
     "metadata": {},
     "output_type": "execute_result"
    }
   ],
   "source": [
    "len(documents)"
   ]
  },
  {
   "cell_type": "code",
   "execution_count": 5,
   "metadata": {
    "scrolled": true
   },
   "outputs": [
    {
     "name": "stderr",
     "output_type": "stream",
     "text": [
      "C:\\Users\\Dell\\Anaconda3\\lib\\site-packages\\sklearn\\feature_extraction\\text.py:300: UserWarning: Your stop_words may be inconsistent with your preprocessing. Tokenizing the stop words generated tokens ['Δ', 'ἈΛΛ'] not in stop_words.\n",
      "  'stop_words.' % sorted(inconsistent))\n"
     ]
    }
   ],
   "source": [
    "from sklearn.feature_extraction.text import TfidfVectorizer\n",
    "stop_words = set(total_stop_words)\n",
    "tokenized_stop_words = nltk.word_tokenize(' '.join(total_stop_words))\n",
    "\n",
    "class Tokenizer(object):\n",
    "    def __init__(self):\n",
    "        nltk.download('punkt', quiet=True, raise_on_error=True)\n",
    "        self.stemmer = GreekStemmer()\n",
    "        \n",
    "    def _stem(self, token):\n",
    "        if (token in stop_words):\n",
    "            return token\n",
    "        return self.stemmer.stem((removing_accents(token)).upper())\n",
    "        \n",
    "    def __call__(self, line):\n",
    "        tokens = nltk.word_tokenize(line)\n",
    "        tokens = filter_punctuation(list(tokens))\n",
    "        tokens = group_numbers(tokens)\n",
    "        tokens = (self._stem(token) for token in tokens)\n",
    "        return tokens\n",
    "    \n",
    "\n",
    "vectorizer = TfidfVectorizer(max_df=0.5, min_df=6, stop_words=tokenized_stop_words, tokenizer=Tokenizer())\n",
    "tf_idf_array = vectorizer.fit_transform(documents)"
   ]
  },
  {
   "cell_type": "code",
   "execution_count": 47,
   "metadata": {},
   "outputs": [],
   "source": [
    "#print(vectorizer.stop_words_)"
   ]
  },
  {
   "cell_type": "code",
   "execution_count": 48,
   "metadata": {
    "scrolled": true
   },
   "outputs": [],
   "source": [
    "#print(vectorizer.get_feature_names())"
   ]
  },
  {
   "cell_type": "code",
   "execution_count": 23,
   "metadata": {},
   "outputs": [],
   "source": [
    "from joblib import dump, load"
   ]
  },
  {
   "cell_type": "code",
   "execution_count": 7,
   "metadata": {},
   "outputs": [
    {
     "data": {
      "text/plain": [
       "['tfidf_array.joblib']"
      ]
     },
     "execution_count": 7,
     "metadata": {},
     "output_type": "execute_result"
    }
   ],
   "source": [
    "dump(tf_idf_array, 'tfidf_array.joblib') "
   ]
  },
  {
   "cell_type": "code",
   "execution_count": 8,
   "metadata": {},
   "outputs": [],
   "source": [
    "tf_idf_array = load('tfidf_array.joblib') "
   ]
  },
  {
   "cell_type": "code",
   "execution_count": 17,
   "metadata": {
    "scrolled": true
   },
   "outputs": [],
   "source": [
    "from sklearn.cluster import KMeans\n",
    "from sklearn.metrics import silhouette_score\n",
    "\n",
    "silhouette_scores = []\n",
    "for k in range(10, 101):\n",
    "    km2 = KMeans(k, max_iter=10000)\n",
    "    preds = km2.fit_predict(tf_idf_array)\n",
    "    silhouette_scores.append(silhouette_score(tf_idf_array, preds))"
   ]
  },
  {
   "cell_type": "code",
   "execution_count": 19,
   "metadata": {
    "scrolled": true
   },
   "outputs": [
    {
     "name": "stdout",
     "output_type": "stream",
     "text": [
      "Maximum average silhouette score for k = 94\n"
     ]
    },
    {
     "data": {
      "image/png": "[encoded data removed]",
      "text/plain": [
       "<Figure size 432x288 with 1 Axes>"
      ]
     },
     "metadata": {
      "needs_background": "light"
     },
     "output_type": "display_data"
    }
   ],
   "source": [
    "import matplotlib.pyplot as plt\n",
    "plt.plot(range(10, 101), silhouette_scores)\n",
    "best_k = np.argmax(silhouette_scores) + 10\n",
    "plt.scatter(best_k, silhouette_scores[best_k-10], color='r') \n",
    "plt.xlim([10,100])\n",
    "plt.annotate(\"best k\", xy=(best_k, silhouette_scores[best_k-10]), xytext=(5, silhouette_scores[best_k-10]),arrowprops=dict(arrowstyle=\"->\")) \n",
    "print('Maximum average silhouette score for k =', best_k)"
   ]
  },
  {
   "cell_type": "code",
   "execution_count": 21,
   "metadata": {
    "scrolled": false
   },
   "outputs": [
    {
     "name": "stdout",
     "output_type": "stream",
     "text": [
      "[71 53 27 ...  0 20  0]\n"
     ]
    }
   ],
   "source": [
    "km = KMeans(best_k)\n",
    "km.fit(tf_idf_array)\n",
    "print(km.labels_)"
   ]
  },
  {
   "cell_type": "markdown",
   "metadata": {},
   "source": [
    "Παρατηρούμε ότι δε βελτιώθηκε ιδιαίτερα η απόδοση για μεγαλύτερο αριθμό clusters. Ίσα ίσα υπήρχαν και πολλά σκαμπανευάσματα. Οπότε φορτώνουμε το προηγούμενο μοντέλο με 57 clusters"
   ]
  },
  {
   "cell_type": "code",
   "execution_count": 12,
   "metadata": {
    "scrolled": true
   },
   "outputs": [
    {
     "data": {
      "text/plain": [
       "['kmeans.joblib']"
      ]
     },
     "execution_count": 12,
     "metadata": {},
     "output_type": "execute_result"
    }
   ],
   "source": [
    "dump(km, 'kmeans.joblib') "
   ]
  },
  {
   "cell_type": "code",
   "execution_count": 24,
   "metadata": {},
   "outputs": [],
   "source": [
    "km = load('kmeans.joblib') "
   ]
  },
  {
   "cell_type": "code",
   "execution_count": 25,
   "metadata": {
    "scrolled": true
   },
   "outputs": [
    {
     "data": {
      "text/plain": [
       "{'algorithm': 'auto',\n",
       " 'copy_x': True,\n",
       " 'init': 'k-means++',\n",
       " 'max_iter': 300,\n",
       " 'n_clusters': 57,\n",
       " 'n_init': 10,\n",
       " 'n_jobs': None,\n",
       " 'precompute_distances': 'auto',\n",
       " 'random_state': None,\n",
       " 'tol': 0.0001,\n",
       " 'verbose': 0}"
      ]
     },
     "execution_count": 25,
     "metadata": {},
     "output_type": "execute_result"
    }
   ],
   "source": [
    "km.get_params()"
   ]
  },
  {
   "cell_type": "code",
   "execution_count": 18,
   "metadata": {},
   "outputs": [],
   "source": [
    "df_docs = pd.read_csv('../data/properties.csv')\n",
    "df_docs['Cluster'] = km.labels_\n",
    "df_docs.to_csv('../data/properties.csv', index=False)"
   ]
  },
  {
   "cell_type": "code",
   "execution_count": 49,
   "metadata": {
    "scrolled": true
   },
   "outputs": [],
   "source": [
    "#for i in range(len(km.labels_)):\n",
    "#    if km.labels_[i] == 56:\n",
    "#        print('~')\n",
    "#        print(documents[i])"
   ]
  },
  {
   "cell_type": "code",
   "execution_count": 27,
   "metadata": {
    "scrolled": true
   },
   "outputs": [
    {
     "name": "stdout",
     "output_type": "stream",
     "text": [
      "Cluster 0: ΔΙΚ ΑΠΟΚΛΕΙΣΤ ΕΥΘΥΝ ΑΝΑΦΕΡ ΧΡΗΣ 1 ΔΕΚΕΜΒΡ ΙΑΝΟΥΑΡ ΜΑΡΤ ΣΕΠΤΕΜΒΡ\n",
      "Cluster 1: ΧΡΗΣΙΜΟΠΟΙ ΒΟΤΑΝ ΙΑΤΡ ΦΥΤ ΦΥΛΛ ΧΡΟΝ ΠΑΡΑΔΟΣΙΑΚ ΠΕΡΙΠΤΩΣ ΦΑΡΜΑΚ ΑΙΩΝ\n",
      "Cluster 2: ΒΟΤΑΝ ΦΑΡΜΑΚ ΤΡΟΦ ΧΡΗΣ ΓΝΩΣΤ 1 ΙΔΙΟΤΗΤ ΘΕΡΑΠΕΥΤ ΦΑΡΜΑΚΕΥΤ ΜΠΑΧΑΡ\n",
      "Cluster 3: ΜΕΡ ΧΡΗΣΙΜΟΠΟΙΟΥΜΕΝ ΦΥΤ 1 ΦΥΛΛ ΔΡΟΣΕΡ ΑΝΘΙΣ ΣΥΛΛΕΓ ΦΟΡ ΡΙΖ\n",
      "Cluster 4: ΠΕΡΙΕΧ ΟΥΣ ΟΞ ΣΥΣΤΑΤ ΦΛΑΒΟΝΟΕΙΔ ΦΥΤ ΓΛΥΚΟΣΙΔ 1 ΤΑΝΙΝ ΕΛΑΙ\n",
      "Cluster 5: ΠΕΡΙΣΣ ΙΔΙΟΤΗΤ ΒΟΤΑΝ 1 ΘΕΡΑΠΕΥΤ Δ ΘΥΜΑΡ ΧΡΗΣ ΦΥΤ ΧΡΟΝ\n",
      "Cluster 6: ΣΥΜΒΟΥΛΕΥ ΓΙΑΤΡ ΠΑΝΤ ΑΛΛΑΓ ΠΑΘΗΣ ΚΑΝ ΠΕΡΙΠΤΩΣ ΔΙΑΤΡΟΦ ἙΛΛΗΝΙΚΟΥ ΔΙΑΚΡΙΣ\n",
      "Cluster 7: ΚΑΡΚΙΝ ΜΑΣΤ ΜΕΛΕΤ 1 ΠΡΟΣΤΑΤ ΕΝΤΕΡ ΑΝΑΠΤΥΞ ΘΕΡΑΠΕΙ ΟΓΚ ΠΑΧΕ\n",
      "Cluster 8: ΝΕΦΡ ΠΕΤΡ ΚΥΣΤ ΟΥΡΟΔΟΧ ΔΙΟΥΡΗΤ ΧΟΛ ΧΟΛΗΔΟΧ ΠΑΘΗΣ ΟΥΡΟΠΟΙΗΤ ΛΕΙΤΟΥΡΓ\n",
      "Cluster 9: 1 2000 MG Χ ΓΡ Π ΓΡΑΜΜΑΡ ΕΒΔΟΜΑΔ ML ΕΚ\n",
      "Cluster 10: 1 ΧΡΗΣ ΦΑΡΜΑΚ ΧΡΟΝ ΜΕΛΕΤ ΔΡ 2000 ΠΕΡΙΠΤΩΣ ΓΝΩΣΤ ΤΣΑ\n",
      "Cluster 11: Δ ΒΟΤΑΝ ΙΔΙΟΤΗΤ 1 ΣΥΝΤΑΓ ΥΓΕΙ ΦΥΣΙΚ ΓΡΑΜΜΑ ΧΡΗΣΙΜΟΠΟΙΗΣ ΠΑΤ\n",
      "Cluster 12: ΜΕΛΙΣΣΟΧΟΡΤ ΥΠΕΡΟΧ ΔΡΑΣ Δ ΠΟΝΟΚΕΦΑΛ ΒΟΤΑΝ ΛΕΒΑΝΤ ΚΑΤΑΝΑΛΩΣ ΝΕΥΡ ΓΝΩΣΤ\n",
      "Cluster 13: ΕΙΔ ΥΠΑΡΧ 1 ΓΕΝ ΦΥΤ ΕΛΛΑΔ ΔΙΑΦΟΡ ΧΩΡ ΠΟΙΚΙΛ ΙΔΙΟΤΗΤ\n",
      "Cluster 14: ΣΠΟΡ ΦΥΤ 1 ΠΟΛΛΑΠΛΑΣΙΑΖ ΠΕΡΙΕΧ ΧΡΗΣΙΜΟΠΟΙ ΚΑΡΠ ΦΥΛΛ ΑΦΕΨΗΜ ΜΟΥΣΤΑΡΔ\n",
      "Cluster 15: ΠΡΟΣΟΧ ΧΡΕΙΑΖ ΧΡΗΣ ΤΟΞ ΜΕΓΑΛ ΕΓΚΥΜΟΣΥΝ ΧΡΗΣΙΜΟΠΟΙΕΙΤΑ ΠΟΣΟΤΗΤ ΠΡΟΚΑΛΕΣ ΛΑΜΒΑΝ\n",
      "Cluster 16: ΥΨ ΜΕΤΡ 1 ΦΤΑΝ ΕΚΑΤΟΣΤ ΠΟΛΥΕΤ ΦΥΤ ΦΤΑΣ ΘΑΜΝ ΔΕΝΤΡ\n",
      "Cluster 17: ΧΡΗΣΙΜΟΠΟΙΕΙΤΑ ΙΑΤΡ ΠΕΡΙΠΤΩΣ ΠΑΘΗΣ ΑΝΤΙΜΕΤΩΠΙΣ ΕΥΡ ΜΑΓΕΙΡ ΒΟΤΑΝ ΠΑΡΑΔΟΣΙΑΚ ΘΕΡΑΠΕΥΤ\n",
      "Cluster 18: PROIONTA TIS FISIS LIFE ΜΕΙΛ ΕΠΙΚΟΙΝΩΝ ΕΝΔΙΑΦΕΡ COMΔΕΙΤΕ ΔΙΑΤΡΟΦ COM\n",
      "Cluster 19: ΦΥΤ ΦΑΡΜΑΚΕΥΤ 1 ΓΝΩΣΤ ΙΝ ΡΙΖ ΙΔΙΟΤΗΤ ΧΡΗΣ ΒΑΜΜ ΘΕΡΑΠΕΥΤ\n",
      "Cluster 20: ΗΜΕΡ ΠΙΝ ΦΟΡ 1 ΦΛΙΤΖΑΝ ΣΟΥΡΩΝ ΒΑΜΜ ΔΥΟ ΡΟΦΗΜ ΝΕΡ\n",
      "Cluster 21: ΔΙΑΒΗΤ ΤΥΠ ΣΑΚΧΑΡ 1 ΣΑΚΧΑΡΩΔ ΑΙΜ ΙΝΣΟΥΛΙΝ ΑΤΟΜ ΒΟΗΘ ΧΟΛΗΣΤΕΡΙΝ\n",
      "Cluster 22: ΠΙΕΣ ΑΡΤΗΡΙΑΚ ΥΨΗΛ ΜΕΙΩΝ ΜΕΙΩΣ ΑΙΜ ΚΑΡΔΙΑΚ ΒΟΗΘ ΕΠΙΠΕΔ ΡΙΧΝ\n",
      "Cluster 23: ΠΟΝ ΑΝΑΚΟΥΦΙΖ ΑΡΘΡΩΣ ΑΝΑΚΟΥΦΙΣ ΜΥΙΚ ΑΡΘΡΙΤΙΔ ΣΤΟΜΑΧ ΠΕΡΙΟΔ ΡΕΥΜΑΤ ΒΟΗΘ\n",
      "Cluster 24: ΒΙΤΑΜΙΝ C ΠΛΟΥΣ ΠΕΡΙΕΧ Α ΣΙΔΗΡ ΑΣΒΕΣΤ ΚΑΛ Β ΜΕΤΑΛΛ\n",
      "Cluster 25: ΠΕΡΙΟΧ ΧΩΡ ΣΥΝΑΝΤ ΕΥΡΩΠ ΟΝΟΜΑΣ ΚΑΛΛΙΕΡΓΕΙΤΑ ΕΛΛΑΔ ΑΣΙ ΒΟΡΕΙ ΑΥΤΟΦΥ\n",
      "Cluster 26: 1 ΝΕΡ ΛΕΠΤ ΦΛΙΤΖΑΝ ΓΡ ΒΡΑΣΤ ΑΦΗΝ ΚΟΥΤΑΛΑΚ ΛΙΤΡ ΚΟΥΤΑΛ\n",
      "Cluster 27: ΙΔΙΟΤΗΤ ΘΕΡΑΠΕΥΤ ΓΝΩΣΤ ΒΟΤΑΝ ΑΝΤΙΦΛΕΓΜΟΝΩΔ ΦΥΤ ΧΡΗΣ ΦΑΡΜΑΚΕΥΤ ΔΙΟΥΡΗΤ ΣΤΥΠΤ\n",
      "Cluster 28: ΑΙΜ ΚΥΚΛΟΦΟΡ ΡΟ ΑΓΓΕΙ ΒΕΛΤΙΩΝ ΕΓΚΕΦΑΛ ΑΥΞΑΝ ΚΑΡΔ ΚΑΘΑΡΙΖ ΑΡΤΗΡ\n",
      "Cluster 29: ΑΡΘΡΟΥ ΕΚΤΥΠΩΣ ΠΕΡΙΓΡΑΦΟΜΕΝ ΠΡΟΕΚΥΨ ΙΣΟΡΡΟΠΗΜΕΝ ΠΛΑΙΣΙ ΑΛΛΑΓ ΥΓΙΕΙ ΑΡΧ ΠΑΡΑΠΑΝ\n",
      "Cluster 30: ΑΝΘ ΦΥΛΛ ΛΕΥΚ ΚΙΤΡΙΝ ΧΡΩΜ ΜΙΚΡ ΦΥΤ ΠΕΤΑΛ ΣΥΛΛΕΓ ΘΗΛΥΚ\n",
      "Cluster 31: ΜΠΟΡ ΧΡΗΣΙΜΟΠΟΙ Δ ΠΡΟΣΘΕΣ ΦΤΙΑΞ ΒΟΤΑΝ 1 ΚΑΝ ΒΡ ΦΥΛΛ\n",
      "Cluster 32: ΕΛΑΙ ΑΙΘΕΡ ΠΕΡΙΕΧ ΣΤΑΓΟΝ 1 ΦΥΤ ΙΔΙΟΤΗΤ ΣΥΣΤΑΤ ΧΡΗΣΙΜΟΠΟΙΕΙΤΑ ΛΕΒΑΝΤ\n",
      "Cluster 33: ΧΑΡΑΚΤΗΡΙΣΤ ΓΕΥΣ ΦΥΤ ΜΥΡΩΔ ΧΡΩΜ ΑΡΩΜ ΙΔΙΟΤΗΤ ΒΟΤΑΝ ΑΠΟΚΤ ΑΝΑΓΚΑΖ\n",
      "Cluster 34: ΕΛΛΗΝ ΑΡΧΑΙ ΒΟΤΑΝ ΡΩΜΑΙ ΘΕΡΑΠΕΥΤ ΚΡΟΚ ΦΑΡΜΑΚ ΡΙΓΑΝ ΓΝΩΣΤ ΦΑΡΜΑΚΕΥΤ\n",
      "Cluster 35: OF AND A THE IN 1 2000 JOURNAL ON CANCER\n",
      "Cluster 36: ΕΞΩΤΕΡ ΧΡΗΣ ΕΣΩΤΕΡ ΧΡΗΣΙΜΟΠΟΙΕΙΤΑ ΠΛΗΓ ΧΡΗΣΙΜΟΠΟΙ ΚΑΤΑΠΛΑΣΜ ΔΕΡΜ ΕΛΚ ΕΓΚΑΥΜ\n",
      "Cluster 37: ΕΝΑΥΣΜ ΠΛΗΡΟΦΟΡΙΑΚ ΣΕΛΙΔ ΠΕΡΑΙΤΕΡ ΣΤΟΧ ΧΑΡΑΚΤΗΡ ΕΡΕΥΝ ΓΙΝ ΔΙΑΚΡΙΤ ΔΙΑΚΟΠ\n",
      "Cluster 38: ΣΩΜ ΒΟΗΘ ΦΥΣΙΚ ΒΟΤΑΝ ΛΕΙΤΟΥΡΓ ΤΟΞΙΝ ΛΙΠ ΑΥΞΑΝ ΙΣΟΡΡΟΠ ΑΣΘΕΝΕΙ\n",
      "Cluster 39: ΜΕΓΑΛ ΔΟΣ ΠΟΣΟΤΗΤ ΦΥΤ 1 ΔΙΑΣΤΗΜ ΧΡΟΝ ΠΡΟΚΑΛΕΣ ΚΑΤΑΝΑΛΩΣ ΠΡΟΚΑΛ\n",
      "Cluster 40: ΝΕΥΡ ΣΥΣΤΗΜ ΚΕΝΤΡ ΗΡΕΜ ΑΥΠΝ ΗΡΕΜΙΣΤ ΤΟΝΩΝ ΔΙΑΤΑΡΑΧ ΑΓΧ ΠΕΡΙΠΤΩΣ\n",
      "Cluster 41: ΚΥΤΤΑΡ ΚΑΡΚΙΝ 1 ΑΝΑΠΤΥΞ ΜΕΛΕΤ ΟΓΚ ΠΟΛΛΑΠΛΑΣΙΑΣΜ ΚΑΝΝΑΒΙΝΟΕΙΔ ΑΝΘΡΩΠΙΝ ΥΓΙ\n",
      "Cluster 42: ΔΡΑΣ ΑΝΤΙΦΛΕΓΜΟΝΩΔ ΑΝΤΙΜΙΚΡΟΒΙΑΚ ΙΣΧΥΡ ΜΕΛΕΤ ΔΙΟΥΡΗΤ 1 ΒΟΤΑΝ ΕΥΕΡΓΕΤ ΑΝΤΙΣΗΠΤ\n",
      "Cluster 43: ΒΑΣΙΛ ΦΡΕΣΚ ΧΕΙΜΩΝ ΠΙΠΕΡ ΠΟΙΚΙΛ ΒΟΤΑΝ ΚΑΛ ΣΚΟΡΔ ΔΡΟΣΕΡ ΙΕΡ\n",
      "Cluster 44: ΦΥΛΛ ΕΛΙ ΑΦΕΨΗΜ ΦΡΕΣΚ ΦΥΤ 1 ΧΥΜ ΠΡΑΣΙΝ ΜΙΣΧ ΡΙΖ\n",
      "Cluster 45: ΕΠΙΠΕΔ ΧΟΛΗΣΤΕΡΟΛ ΑΙΜ ΣΑΚΧΑΡ ΜΕΙΩΝ ΜΕΙΩΣ ΧΟΛΗΣΤΕΡΙΝ ΤΡΙΓΛΥΚΕΡΙΔ ΓΛΥΚΟΖ LDL\n",
      "Cluster 46: ΒΛΑΣΤ ΦΥΛΛ ΑΝΘ ΤΡΥΦΕΡ ΟΡΘ ΦΥΤ ΝΕΑΡ ΡΙΖ ΧΡΗΣΙΜΟΠΟ ΤΡΩΓ\n",
      "Cluster 47: ΧΡΗΣΙΜΟΠΟ ΦΥΛΛ ΣΚΟΠ ΘΕΡΑΠΕΥΤ ΦΥΤ ΣΠΟΡ ΚΑΡΠ ΡΙΖ ΘΕΡΑΠΕΙ ΑΝΘ\n",
      "Cluster 48: ΠΑΡΕΝΕΡΓΕΙ ΦΑΡΜΑΚ ΧΩΡΙΣ ΑΝΑΦΕΡΘ ΠΡΟΦΥΛΑΞ ΑΛΛΗΛΕΠΙΔΡΑΣ ΧΡΗΣ ΧΟΛΗΣΤΕΡΙΝ ΟΡΙΣΤ ΑΣΦΑΛ\n",
      "Cluster 49: ΟΝΟΜ ΠΡΟΕΡΧ ΛΕΞ ΣΗΜΑΙΝ ΛΑΤΙΝ ΟΝΟΜΑΣ ΠΗΡ ΕΛΛΗΝ ΣΥΝΑΝΤ ΦΥΤ\n",
      "Cluster 50: ΟΙΚΟΓΕΝΕΙ ΑΝΗΚ ΦΥΤ ΧΕΙΛΑΝΘ ΓΕΝ ΕΙΔ ΚΑΤΗΓΟΡ 1 ΜΕΝΤ ΣΤΑΥΡΑΝΘ\n",
      "Cluster 51: ΓΕΥΣ ΠΙΚΡ ΓΛΥΚ ΑΡΩΜ ΕΥΧΑΡΙΣΤ ΕΝΤΟΝ ΠΙΚΑΝΤΙΚ ΦΥΛΛ ΣΥΣΤΑΤ ΔΙΝ\n",
      "Cluster 52: ΘΕΡΑΠΕΙ ΧΡΗΣΙΜΟΠΟΙ ΧΡΗΣΙΜΟΠΟΙΕΙΤΑ ΠΡΟΒΛΗΜ ΑΣΘΕΝΕΙ ΙΑΤΡ ΑΠΟΤΕΛΕΣΜΑΤ ΦΥΣΙΚ ΧΡΗΣ ΧΡΟΝ\n",
      "Cluster 53: ΑΝΟΣΟΠΟΙΗΤ ΣΥΣΤΗΜ ΕΝΙΣΧΥ ΕΝΙΣΧΥΣ ΟΡΓΑΝΙΣΜ Ι ΛΟΙΜΩΞ ΛΕΙΤΟΥΡΓ ΑΣΘΕΝΕΙ ΒΑΚΤΗΡ\n",
      "Cluster 54: ΚΑΛ ΚΑΝ ΛΕΙΤΟΥΡΓ ΥΓΕΙ ΒΟΤΑΝ ΣΤΟΜΑΧ ΦΥΤ ΠΗΓ ΔΙΟΥΡΗΤ ΒΟΗΘ\n",
      "Cluster 55: ΒΟΗΘ ΠΕΨ ΑΝΤΙΜΕΤΩΠΙΣ ΟΡΓΑΝΙΣΜ ΠΕΡΙΠΤΩΣ ΙΔΙΟΤΗΤ ΠΡΟΒΛΗΜ ΕΝΤΕΡ ΣΤΟΜΑΧ ΑΝΑΚΟΥΦΙΣ\n",
      "Cluster 56: ΑΝΤΙΟΞΕΙΔΩΤ ΕΛΕΥΘΕΡ ΔΡΑΣ ΙΣΧΥΡ ΙΔΙΟΤΗΤ ΟΥΣ ΡΙΖ ΑΝΤΙΦΛΕΓΜΟΝΩΔ ΠΕΡΙΕΧ ΠΛΟΥΣ\n"
     ]
    }
   ],
   "source": [
    "terms = vectorizer.get_feature_names()\n",
    "order_centroids = km.cluster_centers_.argsort()[:, ::-1]\n",
    "for i in range(57):\n",
    "    out = \"Cluster %d:\" % i\n",
    "    for ind in order_centroids[i, :10]:\n",
    "        out += ' %s' % terms[ind]\n",
    "    print(out)"
   ]
  },
  {
   "cell_type": "markdown",
   "metadata": {},
   "source": [
    "* Cluster 0: \n",
    "    * Κλασική πρόταση στο τέλος για αποποίηση ευθύνης κλπ.\n",
    "    \n",
    "* Cluster 1: ΟΧΙ τόσο ξεκάθαρο\n",
    "    * τρόποι και λόγοι χρήσης βοτάνων\n",
    "    * αναφορές για διάφορες παθήσεις, ιστορικά δεδομένα και τρόπους παρασκευών\n",
    "    \n",
    "* Cluster 2: ΟΧΙ ξεκάθαρο\n",
    "    * γενικά διάφορα για βότανα, προτάσεις υπότιτλων\n",
    "    \n",
    "* Cluster 3:\n",
    "    * μέρη του φυτού, μέρη γεωγραφικά\n",
    "    * μέρες για ετοιμασίες παρασκευών και δοσολογίες\n",
    "    \n",
    "* Cluster 4:\n",
    "    * ουσίες και συστατικά που περιέχονται σε βότανα/ φυτά/ σκευάσματα\n",
    "    \n",
    "* Cluster 5: ΟΧΙ ξεκάθαρο\n",
    "    * για περισσότερα παραπομπή αλλού\n",
    "    * γενικά η λέξη περισσότερο\n",
    "    \n",
    "* Cluster 6:\n",
    "    * Κλασική προτροπή στο τέλος να συμβουλευτούν οι αναγνώστες γιατρό.\n",
    "    \n",
    "* Cluster 7:\n",
    "    * καρκίνος γενικά αλλά και συγκεκριμένα για διάφορα όργανα και μέρη του σώματος\n",
    "    \n",
    "* Cluster 8:\n",
    "    * χοληδόχος κύστη, ήπαρ, συκώτι, ουροποιητικό σύστημα\n",
    "    * πέτρες και άμμος σε αυτά\n",
    "    \n",
    "* Cluster 9:\n",
    "    * νούμερα ως γραμμάρια, δόσεις, ύψος φυτών, χρόνια, σελίδες σε βιβλιογραφία κλπ.\n",
    "    \n",
    "* Cluster 10: ΟΧΙ ξεκάθαρο\n",
    "\n",
    "* Cluster 11:\n",
    "    * δείτε ακόμη και παραπομπή σε άλλο άρθρο ή δείτε μέσα στο κείμενο γενικά\n",
    "    \n",
    "* Cluster 12:\n",
    "    * μελισσόχορτο για διάφορες παθήσεις\n",
    "    \n",
    "* Cluster 13:\n",
    "    * είδη φυτών αλλά και άλλα είδη π.χ. ζώων, ασθενειών κλπ.\n",
    "    \n",
    "* Cluster 14:\n",
    "    * σπόροι φυτών είτε για χρήσεις είτε για χαρακτηριστικά τους\n",
    "    \n",
    "* Cluster 15:\n",
    "    * περιπτώσεις όπου απαιτείται προσοχή στη χρήση βοτάνων\n",
    "    \n",
    "* Cluster 16:\n",
    "    * ύψος των φυτών και άλλες γενικές πληροφορίες για αυτά\n",
    "    \n",
    "* Cluster 17: ΟΧΙ ξεκάθαρο\n",
    "    * διάφορες χρήσεις βοτάνων σε διάφορες παθήσεις και συνταγές\n",
    "    \n",
    "* Cluster 18:\n",
    "    * στοιχεία επικοινωνίας στο μέιλ για διάθεση προϊόντων και περισσότερες πληροφορίες\n",
    "    \n",
    "* Cluster 19: ΟΧΙ ξεκάθαρο\n",
    "    * γενικά φυτά\n",
    "    \n",
    "* Cluster 20:\n",
    "    * δοσολογία την ημέρα συνήθως για ρευστά\n",
    "    \n",
    "* Cluster 21:\n",
    "    * διαβήτης\n",
    "    \n",
    "* Cluster 22:\n",
    "    * πίεση κυρίως αρτηριακή αλλά και σπάνια άλλων ειδών π.χ. συναισθηματική, στα μάτια, στις αρθρώσεις\n",
    "    \n",
    "* Cluster 23:\n",
    "    * πόνος σε διάφορα σημεία του σώματος, κυρίως σε αρθρώσεις αλλά και γυναικολογικούς, στομαχικούς κ.ά.\n",
    "    \n",
    "* Cluster 24:\n",
    "    * βιταμίνες\n",
    "    \n",
    "* Cluster 25:\n",
    "    * γεωγραφικές περιοχές και γεωλογικά χαρακτηριστικά τους\n",
    "    * χώρες, τόποι\n",
    "    * σπάνια και περιοχές σώματος\n",
    "    \n",
    "* Cluster 26:\n",
    "    * παρασκευές και ποσοτήτες κυρίως σε νερό\n",
    "    \n",
    "* Cluster 27:\n",
    "    * ιδιότητες γενικά θεραπευτικές, φαρμακευτικές, αντιικές κλπ.\n",
    "    \n",
    "* Cluster 28:\n",
    "    * αίμα, κυκλοφορικό σύστημα αλλά και άλλα όργανα με απλή αναφορά της ροής αίματος σε αυτά\n",
    "    \n",
    "* Cluster 29:\n",
    "    * τελευταίες προτάσεις για το θέμα του άρθρου και την εκτύπωσή του + γενική προειδοποίηση για διατροφή\n",
    "    \n",
    "* Cluster 30:\n",
    "    * άνθη των φυτών\n",
    "    * γενικά χαρακτηριστικά τους (π.χ. χρώμα, μυρωδιά) και πιθανώς θεραπευτικές ικανότητές τους\n",
    "    \n",
    "* Cluster 31: ΟΧΙ ξεκάθαρο\n",
    "    * συμβουλές για το τι μπορεί να κάνει ο αναγνώστης γενικά για διάφορες παθήσεις σε διάφορα βότανα\n",
    "    \n",
    "* Cluster 32:\n",
    "    * αιθέρια έλαια και έλαια βοτάνων γενικότερα\n",
    "    \n",
    "* Cluster 33:\n",
    "    * χαρακτηριστικά βοτάνων αλλά και γενικότερα αναφορές σε χαρακτηρισμούς\n",
    "    \n",
    "* Cluster 34:\n",
    "    * αναφορές στην ελληνική χλωρίδα, κουζίνα και γνώση\n",
    "    * αναφορές σε γνώσεις από την αρχαιότητα κυρίως για αρχαίους Έλληνες και Ρωμαίους\n",
    "    \n",
    "* Cluster 35:\n",
    "    * βιβλιογραφικές πηγές και αναφορές σε έρευνες\n",
    "    \n",
    "* Cluster 36:\n",
    "    * εξωτερική ή εσωτερική χρήση\n",
    "    \n",
    "* Cluster 37:\n",
    "    * διευκρίνιση πληροφοριακού χαρακτήρα σελίδας\n",
    "    \n",
    "* CLuster 38: ΟΧΙ τόσο ξεκάθαρο\n",
    "    * το ανθρώπινο σώμα γενικά, όσον αφορά περιοχές εφαρμογής κρεμών κλπ., για αποτοξίνωση, χαλάρωση, ισορροπία κλπ.\n",
    "    \n",
    "* Cluster 39: ΟΧΙ τόσο ξεκάθαρο\n",
    "    * παρενέργειες από υπερδοσολογία\n",
    "    * γενικότερα με βάση τη λέξη μεγάλο (μεγάλη χρησιμότητα, μεγάλο χρονικό διάτημα κλπ.)\n",
    "    \n",
    "* Cluster 40:\n",
    "    * νευρικό σύστημα\n",
    "    \n",
    "* Cluster 41:\n",
    "    * αναφορές σε κυτταρικό επίπεδο για διάφορα όργανα και συχνά σε καρκινικά κύτταρα\n",
    "    \n",
    "* Cluster 42:\n",
    "    * η δράση διάφορων ουσιών και βοτάνων\n",
    "    * συνήθως αντιμικροβιακή, αντιβακτηριδιακή, αντιική\n",
    "    \n",
    "* Cluster 43:\n",
    "    * βότανο βασιλικός, βασιλικός πολτός και αναφορές σε βασιλιάδες\n",
    "    \n",
    "* Cluster 44:\n",
    "    * φύλλα διάφορων φυτών, τα μορφολογικά χαρακτηριστικά τους, οι φαρμακευτικές ιδιότητές τους και χρήσεις τους\n",
    "    \n",
    "* Cluster 45:\n",
    "    * επίπεδα χοληστερόλης, τριγλυκεριδίων, σακχάρου, κορτιζόλης και διάφορων ορμονών\n",
    "    \n",
    "* Cluster 46:\n",
    "    * μέρη ενός φυτόυ (βλαστοί, φύλλα, άνθη) και τι τα κάνουμε\n",
    "    \n",
    "* Cluster 47: ΟΧΙ ξεκάθαρο\n",
    "    * διάφορες χρήσεις\n",
    "    \n",
    "* Cluster 48:\n",
    "    * αναφορά σε παρενέργειες ή απουσία αυτών\n",
    "    \n",
    "* Cluster 49:\n",
    "    * ονομασία φυτών και συχνά προέλευση αυτής\n",
    "    \n",
    "* Cluster 50:\n",
    "    * οικογένειες και κατηγορίες φυτών\n",
    "    \n",
    "* Cluster 51:\n",
    "    * γεύση βοτάνων\n",
    "    \n",
    "* Cluster 52: ΟΧΙ ξεκάθαρο\n",
    "    * θεραπείες για διάφορες παθήσεις\n",
    "    \n",
    "* Cluster 53:\n",
    "    * ανοσοποιητικό σύστημα\n",
    "    \n",
    "* Cluster 54: ΟΧΙ ξεκάθαρο\n",
    "    * με βάση τη λέξη καλό (καλή λειτουργία, κάνει καλό κλπ.)\n",
    "    \n",
    "* Cluster 55: ΟΧΙ ξεκάθαρο\n",
    "    * πού βοηθάει το κάθε βότανο\n",
    "    \n",
    "* Cluster 56:\n",
    "    * ανιοξειδωτική δράση βοτάνων"
   ]
  },
  {
   "cell_type": "code",
   "execution_count": null,
   "metadata": {},
   "outputs": [],
   "source": []
  }
 ],
 "metadata": {
  "kernelspec": {
   "display_name": "Python 3",
   "language": "python",
   "name": "python3"
  },
  "language_info": {
   "codemirror_mode": {
    "name": "ipython",
    "version": 3
   },
   "file_extension": ".py",
   "mimetype": "text/x-python",
   "name": "python",
   "nbconvert_exporter": "python",
   "pygments_lexer": "ipython3",
   "version": "3.6.10"
  }
 },
 "nbformat": 4,
 "nbformat_minor": 2
}
