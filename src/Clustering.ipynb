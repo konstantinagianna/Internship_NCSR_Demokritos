{
 "cells": [
  {
   "cell_type": "code",
   "execution_count": 8,
   "metadata": {},
   "outputs": [
    {
     "name": "stderr",
     "output_type": "stream",
     "text": [
      "[nltk_data] Downloading package stopwords to\n",
      "[nltk_data]     C:\\Users\\Dell\\AppData\\Roaming\\nltk_data...\n",
      "[nltk_data]   Package stopwords is already up-to-date!\n"
     ]
    }
   ],
   "source": [
    "import pandas as pd\n",
    "import numpy as np\n",
    "import nltk\n",
    "nltk.download('stopwords') \n",
    "from nltk.corpus import stopwords\n",
    "import string\n",
    "import spacy\n",
    "import el_core_news_md\n",
    "nlp = el_core_news_md.load()\n",
    "from greek_stemmer import GreekStemmer\n",
    "stemmer = GreekStemmer()\n",
    "import re\n",
    "\n",
    "\n",
    "\n",
    "def texts_retrieval(data_filename):\n",
    "    df_texts = pd.read_csv(data_filename, index_col=None)\n",
    "    return df_texts['text']\n",
    "\n",
    "\n",
    "\n",
    "def sentences_retrieval(texts):\n",
    "    documents = []\n",
    "    for text in texts:\n",
    "        documents += nltk.sent_tokenize(text)\n",
    "    final_documents = []\n",
    "    for j in range(len(documents)):   \n",
    "        if re.search(r'[.!;][Α-Ω]', documents[j]) != None :\n",
    "            sents = re.split(r'([.!;][Α-Ω])', documents[j])\n",
    "            sentences = []\n",
    "            for i in range(len(sents)):\n",
    "                if i == 0:\n",
    "                    sentences.append(sents[i])\n",
    "                elif i%2 == 0:\n",
    "                     sentences.append(sents[i-1][1] + sents[i])\n",
    "            for sentence in sentences:\n",
    "                if sentence != '':\n",
    "                    final_documents.append(sentence)\n",
    "        else:\n",
    "            final_documents.append(documents[j])\n",
    "        \n",
    "    return final_documents\n",
    "\n",
    "\n",
    "\n",
    "def thorough_filter(words):\n",
    "    filtered_words = []\n",
    "    for word in words:\n",
    "        pun = []\n",
    "        for letter in word:\n",
    "            pun.append(letter in (list(string.punctuation) + ['«', '»', '–', '“', '”', '\\xa0']))\n",
    "        if not all(pun):\n",
    "            filtered_words.append(word)\n",
    "    return filtered_words\n",
    "\n",
    "\n",
    "\n",
    "def removing_accents(word):\n",
    "    \"\"\"\n",
    "    Removes accents from a given word.\n",
    "    \n",
    "    Parameters\n",
    "    ----------\n",
    "    word : str\n",
    "        the word from which we want to remove the accents\n",
    "\n",
    "    Returns\n",
    "    -------\n",
    "    str\n",
    "        the word without accents\n",
    "    \"\"\"\n",
    "    return (word.replace('ά', 'α').replace('έ', 'ε').replace('ή', 'η').replace('ί', 'ι').replace('ό', 'ο').replace('ύ', 'υ')\n",
    "            .replace('ώ', 'ω').replace('ϊ', 'ι').replace('ϋ', 'υ').replace('ΐ', 'ι').replace('ΰ', 'υ'))\n",
    "\n",
    "\n",
    "\n",
    "def stemming(word):\n",
    "    \"\"\"\n",
    "    Implements stemming for a given word.\n",
    "    \n",
    "    Parameters\n",
    "    ----------\n",
    "    word : str\n",
    "        the word that is about to be stemmed\n",
    "\n",
    "    Returns\n",
    "    -------\n",
    "    str\n",
    "        the stem of the given word at uppercase letters\n",
    "    \"\"\"\n",
    "    return stemmer.stem((removing_accents(word)).upper())"
   ]
  },
  {
   "cell_type": "code",
   "execution_count": 9,
   "metadata": {},
   "outputs": [],
   "source": [
    "texts = texts_retrieval('../data/votana_total_texts_annotated.csv')\n",
    "documents = sentences_retrieval(texts)"
   ]
  },
  {
   "cell_type": "code",
   "execution_count": 10,
   "metadata": {},
   "outputs": [
    {
     "data": {
      "text/plain": [
       "41655"
      ]
     },
     "execution_count": 10,
     "metadata": {},
     "output_type": "execute_result"
    }
   ],
   "source": [
    "len(documents)"
   ]
  },
  {
   "cell_type": "code",
   "execution_count": 9,
   "metadata": {},
   "outputs": [],
   "source": [
    "total_stop_words = (nlp.Defaults.stop_words).union(set(stopwords.words('greek')))\n",
    "total_stop_words = total_stop_words.union({'ή', 'μόνον', '«', '»', '–', '“', '”', '\\xa0', '‘', '•', '…', '●', '\\uf0b7', '.◗'})\n",
    "total_stop_words = list(total_stop_words) + list(string.punctuation)\n",
    "#total_stop_words += [stemming(word) for word in total_stop_words]"
   ]
  },
  {
   "cell_type": "code",
   "execution_count": 10,
   "metadata": {
    "scrolled": true
   },
   "outputs": [],
   "source": [
    "from sklearn.feature_extraction.text import TfidfVectorizer\n",
    "stop_words = set(total_stop_words)\n",
    "tokenized_stop_words = nltk.word_tokenize(' '.join(total_stop_words))\n",
    "\n",
    "class Tokenizer(object):\n",
    "    def __init__(self):\n",
    "        nltk.download('punkt', quiet=True, raise_on_error=True)\n",
    "        self.stemmer = GreekStemmer()\n",
    "        \n",
    "    def _stem(self, token):\n",
    "        if (token in stop_words):\n",
    "            return token\n",
    "        return self.stemmer.stem((removing_accents(token)).upper())\n",
    "        \n",
    "    def __call__(self, line):\n",
    "        tokens = nltk.word_tokenize(line)\n",
    "        tokens = (self._stem(token) for token in tokens)\n",
    "        tokens = thorough_filter(list(tokens))\n",
    "        return tokens\n",
    "    \n",
    "\n",
    "vectorizer = TfidfVectorizer(max_df=0.7, min_df=6, stop_words=tokenized_stop_words, tokenizer=Tokenizer())\n",
    "tf_idf_array = vectorizer.fit_transform(documents)"
   ]
  },
  {
   "cell_type": "code",
   "execution_count": 1,
   "metadata": {},
   "outputs": [],
   "source": [
    "#print(vectorizer.stop_words_)"
   ]
  },
  {
   "cell_type": "code",
   "execution_count": 2,
   "metadata": {
    "scrolled": true
   },
   "outputs": [],
   "source": [
    "#print(vectorizer.get_feature_names())"
   ]
  },
  {
   "cell_type": "code",
   "execution_count": 13,
   "metadata": {
    "scrolled": true
   },
   "outputs": [],
   "source": [
    "from sklearn.cluster import KMeans\n",
    "from sklearn.metrics import silhouette_score\n",
    "\n",
    "silhouette_scores = []\n",
    "for k in range(2, 41):\n",
    "    km = KMeans(k, max_iter=3000)\n",
    "    preds = km.fit_predict(tf_idf_array)\n",
    "    silhouette_scores.append(silhouette_score(tf_idf_array, preds))"
   ]
  },
  {
   "cell_type": "code",
   "execution_count": 15,
   "metadata": {
    "scrolled": true
   },
   "outputs": [
    {
     "name": "stdout",
     "output_type": "stream",
     "text": [
      "Maximum average silhouette score for k = 40\n"
     ]
    },
    {
     "data": {
      "image/png": "[encoded data removed]",
      "text/plain": [
       "<Figure size 432x288 with 1 Axes>"
      ]
     },
     "metadata": {
      "needs_background": "light"
     },
     "output_type": "display_data"
    }
   ],
   "source": [
    "import matplotlib.pyplot as plt\n",
    "plt.plot(range(2, 41), silhouette_scores)\n",
    "best_k = np.argmax(silhouette_scores) + 2 \n",
    "plt.scatter(best_k, silhouette_scores[best_k-2], color='r') \n",
    "plt.xlim([2,40])\n",
    "plt.annotate(\"best k\", xy=(best_k, silhouette_scores[best_k-2]), xytext=(5, silhouette_scores[best_k-2]),arrowprops=dict(arrowstyle=\"->\")) \n",
    "print('Maximum average silhouette score for k =', best_k)"
   ]
  },
  {
   "cell_type": "code",
   "execution_count": 16,
   "metadata": {
    "scrolled": false
   },
   "outputs": [
    {
     "name": "stdout",
     "output_type": "stream",
     "text": [
      "[ 2  4 14 ...  4 20  4]\n"
     ]
    }
   ],
   "source": [
    "km = KMeans(best_k)\n",
    "km.fit(tf_idf_array)\n",
    "print(km.labels_)"
   ]
  },
  {
   "cell_type": "code",
   "execution_count": 5,
   "metadata": {},
   "outputs": [],
   "source": [
    "from joblib import dump, load"
   ]
  },
  {
   "cell_type": "code",
   "execution_count": 17,
   "metadata": {},
   "outputs": [
    {
     "data": {
      "text/plain": [
       "['kmeans.joblib']"
      ]
     },
     "execution_count": 17,
     "metadata": {},
     "output_type": "execute_result"
    }
   ],
   "source": [
    "dump(km, 'kmeans.joblib') "
   ]
  },
  {
   "cell_type": "code",
   "execution_count": 6,
   "metadata": {},
   "outputs": [],
   "source": [
    "km = load('kmeans.joblib') "
   ]
  },
  {
   "cell_type": "code",
   "execution_count": 22,
   "metadata": {
    "scrolled": true
   },
   "outputs": [],
   "source": [
    "#for i in range(len(km.labels_)):\n",
    "#    if km.labels_[i]==10:\n",
    "#        print('~')\n",
    "#        print(documents[i])"
   ]
  },
  {
   "cell_type": "code",
   "execution_count": 20,
   "metadata": {
    "scrolled": true
   },
   "outputs": [
    {
     "name": "stdout",
     "output_type": "stream",
     "text": [
      "Cluster 0: ΡΙΖ ΕΛΕΥΘΕΡ ΑΝΤΙΟΞΕΙΔΩΤ ΦΥΤ ΦΥΛΛ ΚΥΤΤΑΡ ΑΦΕΨΗΜ ΧΡΗΣΙΜΟΠΟΙ GINSENG ΘΕΡΑΠΕΥΤ\n",
      "Cluster 1: ΠΕΡΙΕΧ ΟΥΣ ΟΞ ΣΥΣΤΑΤ ΔΡΑΣΤ ΠΟΥΡΝΑΡ ΦΩΤΕΙΝ ΦΛΑΒΟΝΟΕΙΔ ΑΝΤΙΟΞΕΙΔΩΤ ΧΗΜ\n",
      "Cluster 2: ΘΕΡΑΠΕΙ ΧΡΗΣΙΜΟΠΟΙ ΧΡΗΣΙΜΟΠΟΙΕΙΤΑ ΑΣΘΕΝΕΙ ΠΡΟΒΛΗΜ ΙΑΤΡ ΑΠΟΤΕΛΕΣΜΑΤ ΦΥΣΙΚ ΧΡΗΣ ΒΟΤΑΝ\n",
      "Cluster 3: ΑΡΘΡΟΥ ΕΚΤΥΠΩΣ ΠΕΡΙΓΡΑΦΟΜΕΝ ΠΡΟΕΚΥΨ ΙΣΟΡΡΟΠΗΜΕΝ ΠΛΑΙΣΙ ΑΛΛΑΓ ΥΓΙΕΙ ΑΡΧ ΠΑΡΑΠΑΝ\n",
      "Cluster 4: ΧΡΗΣ ΚΑΛ ΜΕΓΑΛ OF ΦΑΡΜΑΚ ΧΡΟΝ ΜΕΛΕΤ ΚΑΝ ΠΟΝ ΓΕΥΣ\n",
      "Cluster 5: ΙΔΙΟΤΗΤ ΘΕΡΑΠΕΥΤ ΒΟΤΑΝ ΑΝΤΙΦΛΕΓΜΟΝΩΔ ΧΡΗΣ ΦΥΤ ΑΝΤΙΟΞΕΙΔΩΤ ΦΑΡΜΑΚΕΥΤ ΕΥΕΡΓΕΤ ΠΕΡΙΣΣ\n",
      "Cluster 6: ΕΠΙΠΕΔ ΧΟΛΗΣΤΕΡΟΛ ΑΙΜ ΣΑΚΧΑΡ ΜΕΙΩΣ ΜΕΙΩΝ ΔΙΑΒΗΤ ΧΟΛΗΣΤΕΡΙΝ ΓΛΥΚΟΖ ΥΨΗΛ\n",
      "Cluster 7: ΗΜΕΡ ΠΙΝ ΦΟΡ ΦΛΙΤΖΑΝ ΣΟΥΡΩΝ 3 ΒΑΜΜ 1 2 1-2\n",
      "Cluster 8: Δ ΒΟΤΑΝ ΜΠΟΡ ΙΔΙΟΤΗΤ ΥΓΕΙ ΣΥΝΤΑΓ ΦΥΣΙΚ ΠΕΡΙΣΣ ΔΙΑΤΡΟΦ ΔΕΝΤΡΟΛΙΒΑΝ\n",
      "Cluster 9: ΣΥΣΤΗΜ ΑΝΟΣΟΠΟΙΗΤ ΝΕΥΡ ΠΕΠΤ ΕΝΙΣΧΥ ΑΝΑΠΝΕΥΣΤ ΛΕΙΤΟΥΡΓ ΕΝΙΣΧΥΣ ΟΡΓΑΝΙΣΜ ΚΕΝΤΡ\n",
      "Cluster 10: ΑΠΟΚΛΕΙΣΤ ΔΙΚ ΑΝΑΦΕΡ ΧΡΗΣ ΔΕΚΕΜΒΡ ΙΑΝΟΥΑΡ ΜΑΡΤ ΣΕΠΤΕΜΒΡ ΟΚΤΩΒΡ ΝΟΕΜΒΡ\n",
      "Cluster 11: ΣΠΟΡ ΦΥΤ ΧΡΗΣΙΜΟΠΟ ΦΥΛΛ ΠΟΛΛΑΠΛΑΣΙΑΖ ΚΑΡΠ ΠΕΡΙΕΧ ΧΡΗΣΙΜΟΠΟΙ ΡΙΖ ΑΦΕΨΗΜ\n",
      "Cluster 12: ΝΕΡ ΛΕΠΤ ΦΛΙΤΖΑΝ 1 ΒΡΑΣΤ ΒΡΑΖ ΚΟΥΤΑΛΑΚ ΚΟΥΤΑΛ ΛΙΤΡ ΑΦΗΝ\n",
      "Cluster 13: ΓΝΩΣΤ ΑΡΧΑΙΟΤΗΤ ΙΔΙΟΤΗΤ ΒΟΤΑΝ ΦΥΤ ΙΣΤΟΡ ΘΕΡΑΠΕΥΤ ΦΑΡΜΑΚΕΥΤ ΑΡΧΑΙ ΣΤΟΙΧΕΙ\n",
      "Cluster 14: ΑΙΜ ΚΥΚΛΟΦΟΡ ΠΙΕΣ ΑΡΤΗΡΙΑΚ ΜΕΙΩΝ ΡΟ ΥΨΗΛ ΑΥΞΑΝ ΑΓΓΕΙ ΚΑΡΔΙΑΚ\n",
      "Cluster 15: ΤΣΑ ΠΡΑΣΙΝ ΒΟΥΝ ΜΑΥΡ ΙΔΙΟΤΗΤ ΡΟΦΗΜ ΠΙΝ ΦΥΛΛ ΜΕΛΕΤ ΑΝΤΙΟΞΕΙΔΩΤ\n",
      "Cluster 16: ΕΓΧΥΜ ΑΦΕΨΗΜ ΠΑΡΑΣΚΕΥΑΖ ΠΑΡΑΣΚΕΥ ΔΟΣΟΛΟΓ ΓΡ ΦΥΛΛ ΒΑΜΜ ΚΑΝ ΧΡΗΣ\n",
      "Cluster 17: ΣΙΔΗΡ ΑΣΒΕΣΤ ΒΙΤΑΜΙΝ ΜΑΓΝΗΣ ΚΑΛ C ΦΩΣΦΟΡ ΠΕΡΙΕΧ ΜΑΓΓΑΝ ΠΛΟΥΣ\n",
      "Cluster 18: ΕΝΑΥΣΜ ΠΛΗΡΟΦΟΡΙΑΚ ΣΕΛΙΔ ΧΑΡΑΚΤΗΡ ΠΕΡΑΙΤΕΡ ΣΤΟΧ ΕΡΕΥΝ ΓΙΝ ΔΕΥΤΕΡΕΥΟΝΤ ΔΕΡΜΑΤΙΤΙΔ\n",
      "Cluster 19: ΔΡΑΣ ΑΝΤΙΦΛΕΓΜΟΝΩΔ ΑΝΤΙΟΞΕΙΔΩΤ ΙΣΧΥΡ ΑΝΤΙΜΙΚΡΟΒΙΑΚ ΜΕΛΕΤ ΑΝΤΙΚΑΡΚΙΝ ΒΟΤΑΝ ΕΥΕΡΓΕΤ ΟΦΕΙΛ\n",
      "Cluster 20: ΒΟΗΘ ΠΕΨ ΑΝΤΙΜΕΤΩΠΙΣ ΟΡΓΑΝΙΣΜ ΠΟΝ ΛΕΙΤΟΥΡΓ ΣΤΟΜΑΧ ΠΡΟΒΛΗΜ ΑΝΑΚΟΥΦΙΣ ΣΩΜ\n",
      "Cluster 21: ΧΡΗΣΙΜΟΠΟΙΕΙΤΑ ΙΑΤΡ ΠΕΡΙΠΤΩΣ ΕΞΩΤΕΡ ΑΝΤΙΜΕΤΩΠΙΣ ΠΑΘΗΣ ΜΑΓΕΙΡ ΕΥΡ ΒΟΤΑΝ ΣΗΜΕΡ\n",
      "Cluster 22: ΦΥΛΛ ΕΛΙ ΦΡΕΣΚ ΧΡΗΣΙΜΟΠΟ ΦΥΤ ΧΡΗΣΙΜΟΠΟΙ ΑΦΕΨΗΜ ΧΥΜ ΜΙΣΧ ΚΑΤΑΠΛΑΣΜ\n",
      "Cluster 23: 3 ΕΒΔΟΜΑΔ ΦΟΡ ΒΟΜΒ ΥΛ ΩΜΕΓ ΑΝΤΙΟΞΕΙΔΩΤ 9 ΔΙΟΣΚΟΥΡΙΔ ΑΠΟΜΑΚΡΥΝ\n",
      "Cluster 24: ΕΛΛΗΝ ΑΡΧΑΙ ΒΟΤΑΝ ΡΩΜΑΙ ΡΙΓΑΝ ΦΑΡΜΑΚΕΥΤ ΘΕΡΑΠΕΥΤ Δ ΚΡΟΚ ΙΔΙΟΤΗΤ\n",
      "Cluster 25: ΕΛΑΙ ΑΙΘΕΡ ΠΕΡΙΕΧ ΣΤΑΓΟΝ ΦΥΤ ΣΥΣΤΑΤ ΙΔΙΟΤΗΤ ΠΤΗΤ ΦΛΑΒΟΝΟΕΙΔ ΧΡΗΣΙΜΟΠΟΙΕΙΤΑ\n",
      "Cluster 26: ΑΡΘΡΙΤΙΔ ΡΕΥΜΑΤΟΕΙΔ ΡΕΥΜΑΤΙΣΜ ΠΟΝ ΟΥΡ ΧΡΗΣΙΜΟΠΟΙΕΙΤΑ ΘΕΡΑΠΕΙ ΠΑΘΗΣ ΑΝΤΙΦΛΕΓΜΟΝΩΔ ΦΛΕΓΜΟΝ\n",
      "Cluster 27: ΚΑΡΚΙΝ ΚΥΤΤΑΡ ΜΑΣΤ ΜΕΛΕΤ ΑΝΑΠΤΥΞ ΠΡΟΣΤΑΤ ΕΝΤΕΡ ΟΓΚ ΠΑΧΕ ΚΑΝΝΑΒ\n",
      "Cluster 28: ΣΥΜΒΟΥΛΕΥ ΓΙΑΤΡ ΠΑΝΤ ΑΛΛΑΓ ΠΑΘΗΣ ΚΑΝ ΠΕΡΙΠΤΩΣ ΔΙΑΤΡΟΦ Ε. ΔΕΣΜ\n",
      "Cluster 29: ΧΡΗΣΙΜΟΠΟΙ ΒΟΤΑΝ ΜΠΟΡ ΙΑΤΡ ΠΕΡΙΠΤΩΣ ΦΥΤ ΧΡΟΝ ΦΑΡΜΑΚ ΑΙΩΝ ΕΞΩΤΕΡ\n",
      "Cluster 30: ΔΙΟΥΡΗΤ ΙΔΙΟΤΗΤ ΤΟΝΩΤ ΚΑΘΑΡΤ ΔΡΑΣ ΝΕΦΡ ΔΡ ΕΦΙΔΡΩΤ ΑΠΟΧΡΕΜΠΤ ΑΝΤΙΠΥΡΕΤ\n",
      "Cluster 31: ΦΥΤ ΦΑΡΜΑΚΕΥΤ ΙΝ ΠΟΛΥΕΤ ΑΡΩΜΑΤ ΜΕΓΑΛ ΦΑΡΜΑΚ ΠΟΩΔ ΥΨ ΥΠΑΡΧ\n",
      "Cluster 32: ΒΟΤΑΝ ΦΑΡΜΑΚ ΤΡΟΦ ΧΡΗΣ ΘΕΡΑΠΕΥΤ ΜΠΑΧΑΡ ΚΑΛ ΙΑΤΡ ΦΑΡΜΑΚΕΥΤ ΟΝΟΜΑΣ\n",
      "Cluster 33: 2 ΓΡ ΠΡΩΤΕΙΝ 49 ΙΝ ΚΟΥΤΑΛ 6 1 ΦΥΤ 39\n",
      "Cluster 34: ΑΝΘ AL ET ΦΥΛΛ ΛΕΥΚ ΚΙΤΡΙΝ ΜΙΚΡ ΧΡΩΜ ΦΥΤ ΣΥΛΛΕΓ\n",
      "Cluster 35: ΕΙΔ ΟΙΚΟΓΕΝΕΙ ΑΝΗΚ ΓΕΝ ΥΠΑΡΧ ΦΥΤ ΧΩΡ ΠΟΙΚΙΛ ΧΕΙΛΑΝΘ ΕΛΛΑΔ\n",
      "Cluster 36: ΠΟΝΟΚΕΦΑΛ ΠΟΝ ΗΜΙΚΡΑΝ ΑΝΑΚΟΥΦΙΖ ΝΕΥΡ ΑΥΠΝ ΝΑΥΤΙ ΑΓΧ ΚΡΥΟΛΟΓΗΜ ΚΟΠΩΣ\n",
      "Cluster 37: ΒΙΤΑΜΙΝ C Α ΠΛΟΥΣ ΠΕΡΙΕΧ ΜΕΤΑΛΛ ΑΝΤΙΟΞΕΙΔΩΤ ΟΞ Β ΠΗΓ\n",
      "Cluster 38: ΒΗΧ ΒΡΟΓΧΙΤΙΔ ΑΣΘΜ ΚΡΥΟΛΟΓΗΜ ΠΟΝΟΛΑΙΜ ΓΡΙΠ ΑΝΑΠΝΕΥΣΤ ΠΑΘΗΣ ΚΑΤΑΡΡΟ ΑΠΟΧΡΕΜΠΤ\n",
      "Cluster 39: ΜΕΡ ΦΥΤ ΧΡΗΣΙΜΟΠΟΙΟΥΜΕΝ ΦΥΛΛ ΔΡΟΣΕΡ ΣΥΛΛΕΓ ΧΡΗΣΙΜΟΠΟ ΦΟΡ ΡΙΖ ΣΚΟΠ\n"
     ]
    }
   ],
   "source": [
    "terms = vectorizer.get_feature_names()\n",
    "order_centroids = km.cluster_centers_.argsort()[:, ::-1]\n",
    "for i in range(best_k):\n",
    "    out = \"Cluster %d:\" % i\n",
    "    for ind in order_centroids[i, :10]:\n",
    "        out += ' %s' % terms[ind]\n",
    "    print(out)"
   ]
  },
  {
   "cell_type": "markdown",
   "metadata": {},
   "source": [
    "* Cluster 0: \n",
    "    * ρίζες φυτών/βοτάνων (μέγεθος, χρώμα, κατά πόσο τρώγονται, θεραπευτικές ιδιότητες, χρήσεις, δόσεις)\n",
    "    * ελέυθερες ρίζες (χημική ένωση) και αντιμετώπιση με αντιοξειδωτικά\n",
    "    * πιο σπάνια ρίζες μαλλιών και ρίζα προβλήματος\n",
    "    \n",
    "* Cluster 1:\n",
    "    * συστατικά/ουσίες είτε ονομαστικά (πιο συχνά) και πού περιέχονται είτε γενικά (πιο σπάνια) π.χ. χρήσιμες/βλαβερές ουσίες για οργανισμό\n",
    "    \n",
    "* Cluster 2:\n",
    "    * θεραπείες/χρήσεις βοτάνων/φυτών\n",
    "    * γενικότερες διαδικασίες θεραπειών\n",
    "    \n",
    "* Cluster 3:\n",
    "    * συνήθης επίλογος άρθρων \"Εκτύπωση άρθρουΟι συνταγές λειτουργούν στα πλαίσια μιας ισορροπημένης διατροφής και μιας γενικότερης αλλαγής του τρόπου ζωής, από τον οποίο προέκυψαν εξ αρχής τα παραπάνω περιγραφόμενα προβλήματα υγιείας\" + πιθανώς μια φράση πιο πριν\n",
    "    \n",
    "* Cluster 4:\n",
    "    * όχι τόσο ξεκάθαρο\n",
    "    \n",
    "* Cluster 5:\n",
    "    * γενικά ιδιότητες βοτάνων/φυτών (θεραπευτικές, αντιοξειδωτικές, ευεργετικές κλπ. όχι συγκεκριμένα)\n",
    "    \n",
    "* Cluster 6:\n",
    "    * χοληστερίνη, χοληστερόλη\n",
    "    * σάκχαρο, διαβήτης\n",
    "    \n",
    "* Cluster 7:\n",
    "    * δοδολογία την ημέρα (συνήθως για πόσιμα σε φλιτζάνια)\n",
    "    \n",
    "* Cluster 8:\n",
    "    * στο τέλος των άρθρων προτάσεις για άλλα άρθρα (Δείτε και..)\n",
    "    * πιο σπάνια δείτε σε άλλες περιπτώσεις μέσα στο κείμενο\n",
    "    \n",
    "* Cluster 9:\n",
    "    * ενίσχυση κάποιου συστήματος του ανρθώπινου οργανισμού (γενικά) π.χ. πεπτικό, νευρικό, κυκλοφορικό κλπ.\n",
    "    \n",
    "* Cluster 10:\n",
    "    * κλασική πρόταση για αποποίηση ευθύνης στο τέλος \"Η χρήση όσων αναφέρονται είναι αποκλειστικά και μόνον δική σας ευθύνη\" και μετά πιθανώς ημερομηνία άρθρου και ετικέτες αυτού"
   ]
  },
  {
   "cell_type": "code",
   "execution_count": null,
   "metadata": {},
   "outputs": [],
   "source": []
  }
 ],
 "metadata": {
  "kernelspec": {
   "display_name": "Python 3",
   "language": "python",
   "name": "python3"
  },
  "language_info": {
   "codemirror_mode": {
    "name": "ipython",
    "version": 3
   },
   "file_extension": ".py",
   "mimetype": "text/x-python",
   "name": "python",
   "nbconvert_exporter": "python",
   "pygments_lexer": "ipython3",
   "version": "3.6.10"
  }
 },
 "nbformat": 4,
 "nbformat_minor": 2
}
