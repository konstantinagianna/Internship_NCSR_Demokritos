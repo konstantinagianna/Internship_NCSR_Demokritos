{
 "cells": [
  {
   "cell_type": "markdown",
   "metadata": {},
   "source": [
    "# Τελικό εργαλείο"
   ]
  },
  {
   "cell_type": "code",
   "execution_count": 1,
   "metadata": {},
   "outputs": [
    {
     "name": "stderr",
     "output_type": "stream",
     "text": [
      "[nltk_data] Downloading package stopwords to\n",
      "[nltk_data]     C:\\Users\\Dell\\AppData\\Roaming\\nltk_data...\n",
      "[nltk_data]   Package stopwords is already up-to-date!\n"
     ]
    }
   ],
   "source": [
    "import numpy as np\n",
    "import spacy\n",
    "from greek_stemmer import GreekStemmer\n",
    "stemmer = GreekStemmer()\n",
    "from joblib import dump, load\n",
    "import nltk\n",
    "import re\n",
    "nltk.download('stopwords') \n",
    "from nltk.corpus import stopwords\n",
    "import string\n",
    "import el_core_news_md\n",
    "nlp = el_core_news_md.load()\n",
    "total_stop_words = (nlp.Defaults.stop_words).union(set(stopwords.words('greek')))\n",
    "total_stop_words = total_stop_words.union({'ή', 'μόνον'})\n",
    "total_puncts = string.punctuation + '«»–“”\\xa0‘•…●\\uf0b7◗♥.'\n",
    "total_stop_words = list(total_stop_words) + list(string.punctuation)\n",
    "#total_stop_words += [stemming(word) for word in total_stop_words]\n",
    "stop_words = set(total_stop_words)\n",
    "tokenized_stop_words = nltk.word_tokenize(' '.join(total_stop_words))\n",
    "\n",
    "systems_dict = {0: 'κανένα', 1: 'νευρικό',  2: 'κυκλοφορικό', 3: 'λεμφικό-ανοσοποιητικό',  4: 'ουροποιητικό', 5: 'πεπτικό', \n",
    "                6: 'αναπνευστικό', 7: 'ερειστικό', 8: 'μυϊκό', 9: 'καλυπτήριο', 10: 'αναπαραγωγικό', 11: 'αισθητήριων οργάνων', \n",
    "                12: 'ενδοκρινών αδένων'}\n",
    "\n",
    "class Tokenizer(object):\n",
    "    def __init__(self):\n",
    "        nltk.download('punkt', quiet=True, raise_on_error=True)\n",
    "        self.stemmer = GreekStemmer()\n",
    "        \n",
    "    def _stem(self, token):\n",
    "        if (token in stop_words):\n",
    "            return token\n",
    "        return self.stemmer.stem((removing_accents(token)).upper())\n",
    "        \n",
    "    def __call__(self, line):\n",
    "        tokens = nltk.word_tokenize(line)\n",
    "        tokens = filter_punctuation(list(tokens))\n",
    "        tokens = group_numbers(tokens)\n",
    "        tokens = (self._stem(token) for token in tokens)\n",
    "        return tokens\n",
    "\n",
    "def filter_punctuation(words):\n",
    "    filtered_words = []\n",
    "    for word in words:\n",
    "        pun = []\n",
    "        for letter in word:\n",
    "            pun.append(letter in total_puncts)\n",
    "\n",
    "        if not all(pun):\n",
    "            word = word.strip(total_puncts)\n",
    "            \n",
    "            if (len(word)>3):\n",
    "                for punct in total_puncts:\n",
    "                    word = word.replace(punct, ' ')\n",
    "            else:\n",
    "                for punct in total_puncts:\n",
    "                    word = word.replace(punct, '')\n",
    "                    \n",
    "            tokens = nltk.word_tokenize(word)\n",
    "            \n",
    "            for token in tokens:\n",
    "                filtered_words.append(token)\n",
    "                \n",
    "    return filtered_words  \n",
    "\n",
    "def herbs_from_txt(filename, encoding):\n",
    "    \"\"\"\n",
    "    Reads the content of a txt file and produces a list of strings \n",
    "    -in our case a list of search terms- separated by comma.\n",
    "\n",
    "    Parameters\n",
    "    ----------\n",
    "    filename : str\n",
    "        the path (relative or absolute) of the txt file \n",
    "        which contains search terms\n",
    "    encoding : str\n",
    "        the encoding of the txt file which contains search terms\n",
    "\n",
    "    Returns\n",
    "    -------\n",
    "    list\n",
    "        a list of strings - search terms (mutliword or singleword)\n",
    "    \"\"\"\n",
    "    with open(filename,'r',encoding=encoding) as f:\n",
    "        content = f.readlines()\n",
    "    content = [x.strip() for x in content] \n",
    "    for term in content:\n",
    "        herbs = term.split(',')\n",
    "    return herbs\n",
    "\n",
    "def stemmed_herbs(herbs):\n",
    "    stemmed_herbs = []\n",
    "    for herb in herbs:\n",
    "        stemmed_herbs.append(stemming(herb))\n",
    "    return stemmed_herbs\n",
    "\n",
    "def group_numbers(words):\n",
    "    new_words = []\n",
    "    for word in words:\n",
    "        if re.fullmatch(r'[0-9]+', word) != None :\n",
    "            if int(word) >= 1800 and int(word) <= 2020:\n",
    "                word = '2000'\n",
    "            else:\n",
    "                word = '1'\n",
    "        new_words.append(word)\n",
    "    return new_words\n",
    "\n",
    "    \n",
    "def ner_predictions(text):\n",
    "    ner_model = spacy.load('./ner_model/')\n",
    "    pred_value = ner_model(text)\n",
    "    \n",
    "    ent_type = []\n",
    "    ent_text = []\n",
    "    for ent in pred_value.ents:\n",
    "        ent_type.append(ent.label_)\n",
    "        ent_text.append(ent.text)\n",
    "    return ent_type, ent_text\n",
    "\n",
    "def removing_accents(word):\n",
    "    \"\"\"\n",
    "    Removes accents from a given word.\n",
    "    \n",
    "    Parameters\n",
    "    ----------\n",
    "    word : str\n",
    "        the word from which we want to remove the accents\n",
    "\n",
    "    Returns\n",
    "    -------\n",
    "    str\n",
    "        the word without accents\n",
    "    \"\"\"\n",
    "    return (word.replace('ά', 'α').replace('έ', 'ε').replace('ή', 'η').replace('ί', 'ι').replace('ό', 'ο').replace('ύ', 'υ')\n",
    "            .replace('ώ', 'ω').replace('ϊ', 'ι').replace('ϋ', 'υ').replace('ΐ', 'ι').replace('ΰ', 'υ'))\n",
    "\n",
    "def stemming(word):\n",
    "    \"\"\"\n",
    "    Implements stemming for a given word.\n",
    "    \n",
    "    Parameters\n",
    "    ----------\n",
    "    word : str\n",
    "        the word that is about to be stemmed\n",
    "\n",
    "    Returns\n",
    "    -------\n",
    "    str\n",
    "        the stem of the given word at uppercase letters\n",
    "    \"\"\"\n",
    "    return stemmer.stem((removing_accents(word)).upper())\n",
    "\n",
    "def group_same_stems(word_list):\n",
    "    stems = []\n",
    "    for word in word_list:\n",
    "        stem = stemming(word)\n",
    "        stems.append(stem)\n",
    "    \n",
    "    return list(np.unique(stems))\n",
    "    \n",
    "def sentence_tokenization(text):\n",
    "    documents = nltk.sent_tokenize(text)\n",
    "    final_documents = []\n",
    "    for j in range(len(documents)):   \n",
    "        if re.search(r'[.!;][Α-ΩA-Z\"«“]', documents[j]) != None :\n",
    "            sents = re.split(r'([.!;][Α-ΩA-Z\"«“])', documents[j])\n",
    "            sentences = []\n",
    "            for i in range(len(sents)):\n",
    "                if i == 0:\n",
    "                    sentences.append(sents[i])\n",
    "                elif i%2 == 0:\n",
    "                     sentences.append(sents[i-1][1] + sents[i])\n",
    "            for sentence in sentences:\n",
    "                if len(sentence)>3:\n",
    "                    final_documents.append(sentence)\n",
    "        else:\n",
    "            if len(documents[j])>3:\n",
    "                final_documents.append(documents[j])\n",
    "        \n",
    "    return final_documents\n",
    "    \n",
    "    \n",
    "def main(text):\n",
    "    plants = []\n",
    "    organ_systems = []\n",
    "    ent_type, ent_text = ner_predictions(text)\n",
    "    response = 'Το δοσμένο κείμενο '\n",
    "    if ent_type.count('PLANT') == 0 :\n",
    "        response += 'δεν '\n",
    "    else:\n",
    "        for i in range(len(ent_type)):\n",
    "            if ent_type[i] == 'PLANT':\n",
    "                plants.append(ent_text[i])\n",
    "                \n",
    "        grouped_plants = []\n",
    "        known_plants = herbs_from_txt('../data/plants.txt', 'utf-8')\n",
    "        stemmed_known_plants = stemmed_herbs(known_plants)\n",
    "        for plant in plants:\n",
    "            stemmed_plant = stemming(plant)\n",
    "            if stemmed_plant in stemmed_known_plants:\n",
    "                pos = stemmed_known_plants.index(stemmed_plant)\n",
    "                grouped_plants.append(known_plants[pos])\n",
    "            else:\n",
    "                grouped_plants.append(plant)\n",
    "            \n",
    "        grouped_plants = list(np.unique(grouped_plants))    \n",
    "    \n",
    "        clf = load('svc.joblib')\n",
    "        tf_idf = load('tf_idf_vectorizer.joblib')\n",
    "        sentences = sentence_tokenization(text)\n",
    "        tf_idf_sentences = tf_idf.transform(sentences)\n",
    "        preds = clf.predict(tf_idf_sentences)\n",
    "        systems = [systems_dict.get(pred) for pred in preds if pred!=0]\n",
    "        organ_systems = list(np.unique(systems))\n",
    "        if not organ_systems:\n",
    "            response += 'δεν '\n",
    "            \n",
    "    response += 'είναι σχετικό με την εθνοφαρμακολογία.'\n",
    "    print(response)\n",
    "    if plants:\n",
    "        print('\\n')\n",
    "        print('Αναφερόμενα φυτά και βότανα:')\n",
    "        print(*grouped_plants, sep=', ')\n",
    "    if organ_systems:\n",
    "        print('\\n')\n",
    "        print('Πιθανώς επηρεαζόμενα συστήματα οργάνων:')\n",
    "        print(*organ_systems, sep=', ')"
   ]
  },
  {
   "cell_type": "code",
   "execution_count": 2,
   "metadata": {
    "scrolled": true
   },
   "outputs": [
    {
     "name": "stderr",
     "output_type": "stream",
     "text": [
      "C:\\Users\\Dell\\Anaconda3\\lib\\site-packages\\sklearn\\feature_extraction\\text.py:300: UserWarning: Your stop_words may be inconsistent with your preprocessing. Tokenizing the stop words generated tokens ['Δ', 'ἈΛΛ'] not in stop_words.\n",
      "  'stop_words.' % sorted(inconsistent))\n"
     ]
    },
    {
     "name": "stdout",
     "output_type": "stream",
     "text": [
      "Το δοσμένο κείμενο είναι σχετικό με την εθνοφαρμακολογία.\n",
      "\n",
      "\n",
      "Αναφερόμενα φυτά και βότανα:\n",
      "δεντρολίβανο, κανέλα, κουρκουμάς, σκόρδο, τζίντζερ\n",
      "\n",
      "\n",
      "Πιθανώς επηρεαζόμενα συστήματα οργάνων:\n",
      "κυκλοφορικό, νευρικό, ουροποιητικό, πεπτικό\n"
     ]
    }
   ],
   "source": [
    "main('Κάνοντας μερικές μικρές αλλαγές στην καθημερινότητά σου, όπως να τρέφεσαι καλύτερα ή να κινείσαι λίγο περισσότερο μέσα στην ημέρα, μπορείς να βελτιώσεις σημαντικά την υγεία της καρδιάς σου και να αποφύγεις σοβαρές επιπλοκές όπως το έμφραγμα και το εγκεφαλικό. Ένα πρώτο και πολύ απλό βήμα για να πετύχεις αυτόν τον στόχο είναι να βάλεις στη ζωή σου τα παρακάτω βότανα και μπαχαρικά! Κανέλα Δίνει υπέροχο άρωμα στο φαγητό, στα σπιτικά γλυκά αλλά και στα ροφήματα και επίσης βοηθά στον έλεγχο του σακχάρου. Τα υψηλά επίπεδα σακχάρου οδηγούν μακροπρόθεσμα στην εκδήλωση διαβήτη και η πάθηση αυτή είναι ένας από τους βασικότερους παράγοντες κινδύνου για το έμφραγμα και το εγκεφαλικό. Σκόρδο Το σκόρδο έχει ισχυρή αντιφλεγμονώδη και αντιμικροβιακή δράση. Οι καρδιολόγοι το συνιστούν ανεπιφύλακτα κυρίως για τα αντιοξειδωτικά που παρέχει αλλά και γιατί αραιώνει το αίμα, επομένως μειώνει τον κίνδυνο θρόμβωσης. Τζίντζερ Το καυτερό τζίντζερ χρησιμοποιείται παραδοσιακά ως «γιατροσόφι» για τη δυσπεψία, είναι όμως ωφέλιμο και για την καρδιά. Αραιώνει το αίμα όπως και το σκόρδο και επίσης μπορεί να συμβάλει στη μείωση της χοληστερόλης. Κουρκουμάς Ο κουρκουμάς περιέχει ένα ισχυρό συστατικό, την κουρκουμίνη, η οποία δρα ενάντια στις φλεγμονές και έχει αντιοξειδωτική δράση, μειώνοντας έτσι τον κίνδυνο καρκίνου αλλά και καρδιοπάθειας. Δεντρολίβανο Ενισχύει την παραγωγή ερυθρών αιμοσφαιρίων και διευκολύνει την κυκλοφορία του αίματος. Οι διεργασίες αυτές βοηθούν ώστε να παρέχεται περισσότερο οξυγόνο στα ζωτικά όργανα και τα επιμέρους συστήματα του οργανισμού. Δες κι αυτό: Παγκόσμια Ημέρα Καρδιάς: Δες 3 απλούς τρόπους να προστατεύσεις τη δική σου! Το top 5 των καλύτερων τροφών για την υγεία της καρδιάς Υπερβολικό βάρος vs αποχή από την άσκηση: Τι είναι πιο επιβαρυντικό για την καρδιά;')"
   ]
  },
  {
   "cell_type": "code",
   "execution_count": 3,
   "metadata": {},
   "outputs": [
    {
     "name": "stdout",
     "output_type": "stream",
     "text": [
      "Το δοσμένο κείμενο δεν είναι σχετικό με την εθνοφαρμακολογία.\n"
     ]
    }
   ],
   "source": [
    "main('Ο Σάκης (Αναστάσιος) Ρουβάς (Μαντούκι Κέρκυρας, 5 Ιανουαρίου 1972) είναι Έλληνας τραγουδιστής, συνθέτης, επιχειρηματίας, και πρώην αθλητής του άλματος επί κοντώ. Από μικρή ηλικία ασχολήθηκε με τον στίβο, κατακτώντας αρκετά μετάλλια ως μέλος της Ελληνικής Εθνικής Ομάδας τη δεκαετία του 1980. Η μουσική του σταδιοδρομία ξεκίνησε το 1991, σε ηλικία 19 ετών, ως pop ερμηνευτής ενώ συνδύαζε τραγούδι, χορογραφία και σύνθεση του κομματιού. Ο Ρουβάς έχει κερδίσει 6 βραβεία στα Arion Music Awards, 15 στα Pop Corn Music Awards και 22 στα Mad Video Music Awards. Επίσης, έχει ανακηρυχθεί \"Άντρας της χρονιάς\", έχει κερδίσει ένα βραβείο στα MTV Europe Music Awards και ένα στα World Music Awards. Το 2009, το περιοδικό \"Down Town\", του έδωσε τον τίτλο \"Καλύτερος διασκεδαστής της δεκαετίας\", ενώ το \"Forbes\" τον κατέταξε στην τρίτη θέση με τους πιο σημαντικούς καλλιτέχνες στην Ελλάδα.')"
   ]
  },
  {
   "cell_type": "code",
   "execution_count": 57,
   "metadata": {},
   "outputs": [
    {
     "name": "stdout",
     "output_type": "stream",
     "text": [
      "Το δοσμένο κείμενο είναι σχετικό με την εθνοφαρμακολογία.\n",
      "\n",
      "\n",
      "Αναφερόμενα φυτά και βότανα:\n",
      "Πράσινο τσάι, κολοκυθιά, μηλιά, πορτοκαλιά\n",
      "\n",
      "\n",
      "Πιθανώς επηρεαζόμενα συστήματα οργάνων:\n",
      "αναπνευστικό, καλυπτήριο, κυκλοφορικό, λεμφικό ανοσοποιητικό, νευρικό, πεπτικό\n"
     ]
    }
   ],
   "source": [
    "main('Ορισμένα θρεπτικά στοιχεία βελτιώνουν τις παθήσεις που συνδέονται με την αναπνευστική οδό, κάτι που αποδεικνύεται χρήσιμο αν παρουσιάζετε άσθμα, αλλεργίες ή προσπαθείτε να κόψετε το κάπνισμα. 6 τροφές που συμβάλλουν στην υγιή λειτουργία των πνευμόνων Μήλα Τα μήλα είναι εφοδιασμένα με φαινολικά οξέα και φλαβονοειδή που είναι γνωστές για τη μείωση των φλεγμονών στην αναπνευστική οδό, κοινό στοιχείο τόσο για το άσθμα όσο και για τη δύσπνοια. Ελαιόλαδο Τα μονοακόρεστα και πολυακόρεστα λιπαρά και τα φυτοθρεπτικά στοιχεία που βρίσκουμε στο ελαιόλαδο είναι ιδανικά όχι μόνο για την επιδερμίδα, τα μαλλιά και την καρδιά• παίζουν επίσης ρόλο και στην υγεία των πνευμόνων. Για την ακρίβεια, το ελαιόλαδο βοηθά στην καταπολέμηση κινδύνων που σχετίζονται με την ατμοσφαιρική ρύπανση, όπως αυξημένη αρτηριακή πίεση και προβλήματα στα αιμοφόρα αγγεία – παράγοντες που μπορούν να μειώσουν την παροχή οξυγόνου, να κάνουν την καρδιά μας να χτυπά ταχύτερα και την αναπνοή μας δυσκολότερη. Καφές Μία κούπα καφέ κάνει περισσότερα από το να «ξυπνά» τον εγκέφαλό μας – θα μπορούσε επίσης να βοηθά στην ανακούφιση συμπτωμάτων του άσθματος. Η καφεΐνη είναι ένα ήπιο βρογχοδιασταλτικό, όμως δεν συγκρίνεται με τα φάρμακα. Σολομός Τα ωμέγα-3 λιπαρά οξέα που βρίσκουμε σε ψάρια όπως ο σολομός βοηθούν στη μείωση των φλεγμονών στους πνεύμονες και επίσης καταπολεμούν τα βακτήρια. Πράσινο τσάι Μια ζεστή κούπα πράσινου τσαγιού είναι εφοδιασμένα με αντιοξειδωτικά που ηρεμούν το σώμα, μειώνουν τη φλεγμονή και προάγουν την επούλωση. Αλλά ένα σημαντικό επίσης συστατικό είναι η κουερσετίνη, ένα αντιοξειδωτικό που δρα ως φυσικό αντιισταμινικό. Αυτό σημαίνει ότι επιβραδύνει την απελευθέρωση της ισταμίνης και άλλων φλεγμονωδών χημικών στο σώμα που προκαλούν τα συμπτώματα αλλεργίας. Πορτοκάλι Φρούτα, όπως η γλυκιά κολοκύθα, τα πορτοκάλια και η παπάγια είναι γεμάτα αντιοξειδωτικά, φιλικά προς τους πνεύμονες, με πιο σημαντική τη βιταμίνη C. Η βιταμίνη C είναι γνωστή για την καταπολέμηση μολύνσεων και φλεγμονών, και μια έκθεση μελετών που δημοσιεύτηκε στο Allergy, Asthma & Clinical Immunology απέδειξε ότι μπορεί να παίζει έναν ρόλο στη μείωση της συχνότητας εμφάνισης άσθματος που προκαλείται από την άσκηση κατά 52%. Πηγές: https://aacijournal.biomedcentral.com/articles/10.1186/1710-1492-10-58')"
   ]
  },
  {
   "cell_type": "code",
   "execution_count": 58,
   "metadata": {},
   "outputs": [
    {
     "name": "stdout",
     "output_type": "stream",
     "text": [
      "Το δοσμένο κείμενο δεν είναι σχετικό με την εθνοφαρμακολογία.\n"
     ]
    }
   ],
   "source": [
    "main('Το νόμπελ μοιράστηκαν οι επιστήμονες Roger Penrose, Reinhard Genzel και Andrea Ghez.   «Μας πήρε λίγα λεπτά παραπάνω να επικοινωνήσουμε με τους νικητές, για αυτό καθυστερήσαμε», απολογήθηκε ο γενικός γραμματέας του ιδρύματος, Göran K. Hansson μπαίνοντας στην αίθουσα. «Το φετινό βραβείο, αφορά τα πιο βαθιά μυστικά του σύμπαντος», συμπλήρωσε, προαναγγέλλοντας τους επιστήμονες που τιμήθηκαν με το Νόμπελ.  Advertisement: 0:04   Στον Βρετανό Roger Penrose απονεμήθηκε το μισό νόμπελ «για την ανακάλυψη πως οι μαύρες τρύπες προβλέπονται από τη Γενική Θεωρία της Σχετικότητας». Το άλλο μισό νόμπελ, μοιράστηκαν ο Γερμανός Reinhard Genzel και η Αμερικανίδα Andrea Ghez «για τη ανακάλυψη ενός αντικειμένου τεράστιας μάζας στο κέντρο του Γαλαξία μας».    Η Andrea Ghez έγινε η τέταρτη γυναίκα στην ιστορία των βραβείων που λαμβάνει νόμπελ Φυσικής.  Πηγή: www.lifo.gr')"
   ]
  },
  {
   "cell_type": "code",
   "execution_count": null,
   "metadata": {},
   "outputs": [],
   "source": []
  }
 ],
 "metadata": {
  "kernelspec": {
   "display_name": "Python 3",
   "language": "python",
   "name": "python3"
  },
  "language_info": {
   "codemirror_mode": {
    "name": "ipython",
    "version": 3
   },
   "file_extension": ".py",
   "mimetype": "text/x-python",
   "name": "python",
   "nbconvert_exporter": "python",
   "pygments_lexer": "ipython3",
   "version": "3.6.10"
  }
 },
 "nbformat": 4,
 "nbformat_minor": 2
}
