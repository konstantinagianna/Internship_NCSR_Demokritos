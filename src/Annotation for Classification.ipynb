{
 "cells": [
  {
   "cell_type": "markdown",
   "metadata": {},
   "source": [
    "# Χαρακτηρισμός προτάσεων με αυτόματο τρόπο για την ταξινόμησή τους σε συστήματα οργάνων"
   ]
  },
  {
   "cell_type": "code",
   "execution_count": 16,
   "metadata": {},
   "outputs": [],
   "source": [
    "import pandas as pd\n",
    "import numpy as np"
   ]
  },
  {
   "cell_type": "code",
   "execution_count": 17,
   "metadata": {},
   "outputs": [],
   "source": [
    "systems_dict = {0: 'κανένα', 1: 'νευρικό',  2: 'κυκλοφορικό', 3: 'λεμφικό',  4: 'ουροποιητικό', 5: 'πεπτικό', 6: 'αναπνευστικό',\n",
    "                7: 'ερειστικό', 8: 'μυϊκό', 9: 'καλυπτήριο', 10: 'αναπαραγωγικό', 11: 'αισθητήριο', 12: 'ενδοκρινών'}"
   ]
  },
  {
   "cell_type": "code",
   "execution_count": 18,
   "metadata": {},
   "outputs": [],
   "source": [
    "df_docs = pd.read_csv('../data/properties.csv')"
   ]
  },
  {
   "cell_type": "markdown",
   "metadata": {},
   "source": [
    "Πρώτα φτιάχνουμε μόνο 5 κλάσεις βάσει του clustering που έγινε στο σύνολο των features."
   ]
  },
  {
   "cell_type": "code",
   "execution_count": 19,
   "metadata": {},
   "outputs": [],
   "source": [
    "documents = df_docs['Sentence']\n",
    "clusters = df_docs['Cluster']"
   ]
  },
  {
   "cell_type": "code",
   "execution_count": 20,
   "metadata": {},
   "outputs": [],
   "source": [
    "df_docs['Class1'] = np.nan\n",
    "df_docs['Class2'] = np.nan"
   ]
  },
  {
   "cell_type": "code",
   "execution_count": 21,
   "metadata": {},
   "outputs": [],
   "source": [
    "for i in range(len(documents)):\n",
    "    if clusters[i] == 6  or clusters[i] == 37 or clusters[i] == 16 or clusters[i] == 25 or clusters[i] == 49:\n",
    "        df_docs.at[i, 'Class2'] = 0\n",
    "    if clusters[i] == 6:\n",
    "        df_docs.at[i, 'Class1'] = 0\n",
    "    elif clusters[i] == 8:\n",
    "        df_docs.at[i, 'Class1'] = 4 # ουροποιητικό\n",
    "    elif clusters[i] == 22: \n",
    "        #or clusters[i] == 28:\n",
    "        df_docs.at[i, 'Class1'] = 2 # κυκλοφορικό\n",
    "    elif clusters[i] == 40:\n",
    "        df_docs.at[i, 'Class1'] = 1 # νευρικό\n",
    "    elif clusters[i] == 53:\n",
    "        df_docs.at[i, 'Class1'] = 3 # ανοσοποιητικό-λεμφικό"
   ]
  },
  {
   "cell_type": "code",
   "execution_count": 22,
   "metadata": {},
   "outputs": [],
   "source": [
    "df_docs.to_csv('../data/properties.csv', index=False)"
   ]
  },
  {
   "cell_type": "markdown",
   "metadata": {},
   "source": [
    "Έπειτα, κατασκευάζουμε 13 κλάσεις, μία για καθένα σύστημα οργάνων του ανθρώπινου οργανισμού και μία για κανένα. Η επισήμανση προκύπτει από το συνδυασμό των αποτελεσμάτων του πρώτου clustering, που έγινε με βάση όλα τα χαρακτηριστικά, για τον εντοπισμό των άσχετων προτάσεων με συστήματα οργάνων και του δεύτερου clustering, που έγινε βάσει μόνο σχετικών χαρακτηριστικών με όργανα και παθήσεις, για όλα τα υπόλοιπα."
   ]
  },
  {
   "cell_type": "code",
   "execution_count": 23,
   "metadata": {},
   "outputs": [],
   "source": [
    "documents = df_docs['Sentence']\n",
    "clusters = df_docs['Organs Cluster']"
   ]
  },
  {
   "cell_type": "code",
   "execution_count": 24,
   "metadata": {},
   "outputs": [],
   "source": [
    "for i in range(len(documents)):\n",
    "    if df_docs.iloc[i]['Class2'] != 0:\n",
    "        if (clusters[i] == 4 or clusters[i] == 8 or clusters[i] == 11 or clusters[i] == 23 or clusters[i] == 25 or \n",
    "            clusters[i] == 42 or clusters[i] == 71 or clusters[i] == 74 or clusters[i] == 99):\n",
    "            df_docs.at[i, 'Class2'] = 1 #νευρικό\n",
    "        elif (clusters[i] == 12 or clusters[i] == 13 or clusters[i] == 14 or clusters[i] == 19 or clusters[i] == 28 or \n",
    "              clusters[i] == 29 or clusters[i] == 33 or clusters[i] == 36 or clusters[i] == 55 or clusters[i] == 57 or \n",
    "             clusters[i] == 60 or clusters[i] == 90 or clusters[i] == 97 or clusters[i] == 100):\n",
    "            df_docs.at[i, 'Class2'] = 2 #κυκλοφορικό\n",
    "        elif clusters[i] == 3 or clusters[i] == 7 or clusters[i] == 80:\n",
    "            df_docs.at[i, 'Class2'] = 3 #ανοσοποιητικό-λεμφικό\n",
    "        elif clusters[i] == 31 or clusters[i] == 32 or clusters[i] == 43 or clusters[i] == 85:\n",
    "            df_docs.at[i, 'Class2'] = 4 #ουροποιητικό\n",
    "        elif (clusters[i] == 2 or clusters[i]==5 or clusters[i] == 9 or clusters[i] == 10 or clusters[i] == 20 or \n",
    "              clusters[i] == 24 or clusters[i] == 26 or clusters[i] == 38 or clusters[i] == 41 or clusters[i] == 46 or \n",
    "              clusters[i] == 50 or clusters[i] == 54 or clusters[i] == 58 or clusters[i] == 63 or clusters[i] == 64 or\n",
    "              clusters[i] == 66 or clusters[i] == 87 or clusters[i] == 89 or clusters[i] == 93 or clusters[i] == 101): \n",
    "            df_docs.at[i, 'Class2'] = 5 #πεπτικό\n",
    "        elif (clusters[i] == 30 or clusters[i] == 40 or clusters[i] == 44 or clusters[i] == 53 or clusters[i] == 56 or \n",
    "              clusters[i] == 59 or clusters[i] == 65 or clusters[i] == 67 or clusters[i] == 78):\n",
    "            df_docs.at[i, 'Class2'] = 6 #αναπνευστικό\n",
    "        elif (clusters[i] == 17 or clusters[i] == 21 or clusters[i] == 68 or clusters[i] == 76 or clusters[i] == 79 or \n",
    "              clusters[i] == 86 or clusters[i] == 96):\n",
    "            df_docs.at[i, 'Class2'] = 7 #ερειστικό\n",
    "        elif clusters[i] == 70 or clusters[i] == 72 or clusters[i] == 77 or clusters[i] == 82:\n",
    "            df_docs.at[i, 'Class2'] = 8 #μυϊκό\n",
    "        elif (clusters[i] == 1 or clusters[i] == 18 or clusters[i] == 37 or clusters[i] == 47 or clusters[i] == 48 or \n",
    "              clusters[i] == 61 or clusters[i] == 84 or clusters[i] == 91 or clusters[i] == 98):\n",
    "            df_docs.at[i, 'Class2'] = 9 #καλυπτήριο\n",
    "        elif (clusters[i] == 15 or clusters[i] == 27 or clusters[i] == 34 or clusters[i] == 39 or clusters[i] == 83 or\n",
    "              clusters[i] == 92):\n",
    "            df_docs.at[i, 'Class2'] = 10 #αναπαραγωγικό\n",
    "        elif (clusters[i] == 6 or clusters[i] == 35 or clusters[i] == 45 or clusters[i] == 69 or clusters[i] == 73 or\n",
    "              clusters[i] == 92 or clusters[i] == 94):\n",
    "            df_docs.at[i, 'Class2'] = 11 #αισθητήριο\n",
    "        elif clusters[i] == 22 or clusters[i] == 75 or clusters[i] == 81:\n",
    "            df_docs.at[i, 'Class2'] = 12 #ενδοκρινών\n",
    "    "
   ]
  },
  {
   "cell_type": "code",
   "execution_count": 25,
   "metadata": {},
   "outputs": [],
   "source": [
    "df_docs.to_csv('../data/properties.csv', index=False)"
   ]
  },
  {
   "cell_type": "code",
   "execution_count": 26,
   "metadata": {},
   "outputs": [],
   "source": [
    "df_docs = pd.read_csv('../data/properties.csv')"
   ]
  },
  {
   "cell_type": "code",
   "execution_count": 27,
   "metadata": {},
   "outputs": [
    {
     "data": {
      "text/html": [
       "<div>\n",
       "<style scoped>\n",
       "    .dataframe tbody tr th:only-of-type {\n",
       "        vertical-align: middle;\n",
       "    }\n",
       "\n",
       "    .dataframe tbody tr th {\n",
       "        vertical-align: top;\n",
       "    }\n",
       "\n",
       "    .dataframe thead th {\n",
       "        text-align: right;\n",
       "    }\n",
       "</style>\n",
       "<table border=\"1\" class=\"dataframe\">\n",
       "  <thead>\n",
       "    <tr style=\"text-align: right;\">\n",
       "      <th></th>\n",
       "      <th>Sentence</th>\n",
       "      <th>Cluster</th>\n",
       "      <th>Class1</th>\n",
       "      <th>Organs Cluster</th>\n",
       "    </tr>\n",
       "    <tr>\n",
       "      <th>Class2</th>\n",
       "      <th></th>\n",
       "      <th></th>\n",
       "      <th></th>\n",
       "      <th></th>\n",
       "    </tr>\n",
       "  </thead>\n",
       "  <tbody>\n",
       "    <tr>\n",
       "      <th>0.0</th>\n",
       "      <td>2348</td>\n",
       "      <td>2348</td>\n",
       "      <td>679</td>\n",
       "      <td>2348</td>\n",
       "    </tr>\n",
       "    <tr>\n",
       "      <th>1.0</th>\n",
       "      <td>1149</td>\n",
       "      <td>1149</td>\n",
       "      <td>266</td>\n",
       "      <td>1149</td>\n",
       "    </tr>\n",
       "    <tr>\n",
       "      <th>2.0</th>\n",
       "      <td>1915</td>\n",
       "      <td>1915</td>\n",
       "      <td>254</td>\n",
       "      <td>1915</td>\n",
       "    </tr>\n",
       "    <tr>\n",
       "      <th>3.0</th>\n",
       "      <td>346</td>\n",
       "      <td>346</td>\n",
       "      <td>223</td>\n",
       "      <td>346</td>\n",
       "    </tr>\n",
       "    <tr>\n",
       "      <th>4.0</th>\n",
       "      <td>674</td>\n",
       "      <td>674</td>\n",
       "      <td>188</td>\n",
       "      <td>674</td>\n",
       "    </tr>\n",
       "    <tr>\n",
       "      <th>5.0</th>\n",
       "      <td>2710</td>\n",
       "      <td>2710</td>\n",
       "      <td>130</td>\n",
       "      <td>2710</td>\n",
       "    </tr>\n",
       "    <tr>\n",
       "      <th>6.0</th>\n",
       "      <td>1239</td>\n",
       "      <td>1239</td>\n",
       "      <td>67</td>\n",
       "      <td>1239</td>\n",
       "    </tr>\n",
       "    <tr>\n",
       "      <th>7.0</th>\n",
       "      <td>642</td>\n",
       "      <td>642</td>\n",
       "      <td>18</td>\n",
       "      <td>642</td>\n",
       "    </tr>\n",
       "    <tr>\n",
       "      <th>8.0</th>\n",
       "      <td>314</td>\n",
       "      <td>314</td>\n",
       "      <td>12</td>\n",
       "      <td>314</td>\n",
       "    </tr>\n",
       "    <tr>\n",
       "      <th>9.0</th>\n",
       "      <td>1120</td>\n",
       "      <td>1120</td>\n",
       "      <td>21</td>\n",
       "      <td>1120</td>\n",
       "    </tr>\n",
       "    <tr>\n",
       "      <th>10.0</th>\n",
       "      <td>566</td>\n",
       "      <td>566</td>\n",
       "      <td>17</td>\n",
       "      <td>566</td>\n",
       "    </tr>\n",
       "    <tr>\n",
       "      <th>11.0</th>\n",
       "      <td>497</td>\n",
       "      <td>497</td>\n",
       "      <td>8</td>\n",
       "      <td>497</td>\n",
       "    </tr>\n",
       "    <tr>\n",
       "      <th>12.0</th>\n",
       "      <td>281</td>\n",
       "      <td>281</td>\n",
       "      <td>5</td>\n",
       "      <td>281</td>\n",
       "    </tr>\n",
       "  </tbody>\n",
       "</table>\n",
       "</div>"
      ],
      "text/plain": [
       "        Sentence  Cluster  Class1  Organs Cluster\n",
       "Class2                                           \n",
       "0.0         2348     2348     679            2348\n",
       "1.0         1149     1149     266            1149\n",
       "2.0         1915     1915     254            1915\n",
       "3.0          346      346     223             346\n",
       "4.0          674      674     188             674\n",
       "5.0         2710     2710     130            2710\n",
       "6.0         1239     1239      67            1239\n",
       "7.0          642      642      18             642\n",
       "8.0          314      314      12             314\n",
       "9.0         1120     1120      21            1120\n",
       "10.0         566      566      17             566\n",
       "11.0         497      497       8             497\n",
       "12.0         281      281       5             281"
      ]
     },
     "execution_count": 27,
     "metadata": {},
     "output_type": "execute_result"
    }
   ],
   "source": [
    "df_docs.groupby('Class2').count()"
   ]
  },
  {
   "cell_type": "code",
   "execution_count": null,
   "metadata": {},
   "outputs": [],
   "source": []
  }
 ],
 "metadata": {
  "kernelspec": {
   "display_name": "Python 3",
   "language": "python",
   "name": "python3"
  },
  "language_info": {
   "codemirror_mode": {
    "name": "ipython",
    "version": 3
   },
   "file_extension": ".py",
   "mimetype": "text/x-python",
   "name": "python",
   "nbconvert_exporter": "python",
   "pygments_lexer": "ipython3",
   "version": "3.6.10"
  }
 },
 "nbformat": 4,
 "nbformat_minor": 2
}
