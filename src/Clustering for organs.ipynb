{
 "cells": [
  {
   "cell_type": "markdown",
   "metadata": {},
   "source": [
    "# Συσταδοποίηση βάσει μόνο οργάνων και παθήσεων"
   ]
  },
  {
   "cell_type": "code",
   "execution_count": 11,
   "metadata": {
    "scrolled": true
   },
   "outputs": [
    {
     "name": "stderr",
     "output_type": "stream",
     "text": [
      "[nltk_data] Downloading package stopwords to\n",
      "[nltk_data]     C:\\Users\\Dell\\AppData\\Roaming\\nltk_data...\n",
      "[nltk_data]   Package stopwords is already up-to-date!\n"
     ]
    }
   ],
   "source": [
    "import pandas as pd\n",
    "import numpy as np\n",
    "import nltk\n",
    "nltk.download('stopwords') \n",
    "from nltk.corpus import stopwords\n",
    "import string\n",
    "import spacy\n",
    "import el_core_news_md\n",
    "nlp = el_core_news_md.load()\n",
    "from greek_stemmer import GreekStemmer\n",
    "stemmer = GreekStemmer()\n",
    "import re\n",
    "\n",
    "total_stop_words = (nlp.Defaults.stop_words).union(set(stopwords.words('greek')))\n",
    "total_stop_words = total_stop_words.union({'ή', 'μόνον'})\n",
    "total_puncts = string.punctuation + '«»–“”\\xa0‘•…●\\uf0b7◗♥.'\n",
    "total_stop_words = list(total_stop_words) + list(string.punctuation)\n",
    "#total_stop_words += [stemming(word) for word in total_stop_words]\n",
    "import warnings\n",
    "warnings.filterwarnings('ignore')\n",
    "\n",
    "\n",
    "def texts_retrieval(data_filename):\n",
    "    df_texts = pd.read_csv(data_filename, index_col=None)\n",
    "    return df_texts['text']\n",
    "\n",
    "\n",
    "\n",
    "def sentences_retrieval(texts):\n",
    "    documents = []\n",
    "    for text in texts:\n",
    "        documents += nltk.sent_tokenize(text)\n",
    "    final_documents = []\n",
    "    for j in range(len(documents)):   \n",
    "        if re.search(r'[.!;][Α-ΩA-Z\"«“]', documents[j]) != None :\n",
    "            sents = re.split(r'([.!;][Α-ΩA-Z\"«“])', documents[j])\n",
    "            sentences = []\n",
    "            for i in range(len(sents)):\n",
    "                if i == 0:\n",
    "                    sentences.append(sents[i])\n",
    "                elif i%2 == 0:\n",
    "                     sentences.append(sents[i-1][1] + sents[i])\n",
    "            for sentence in sentences:\n",
    "                if len(sentence)>3:\n",
    "                    final_documents.append(sentence)\n",
    "        else:\n",
    "            if len(documents[j])>3:\n",
    "                final_documents.append(documents[j])\n",
    "        \n",
    "    return final_documents\n",
    "\n",
    "\n",
    "\n",
    "def filter_punctuation(words):\n",
    "    filtered_words = []\n",
    "    for word in words:\n",
    "        pun = []\n",
    "        for letter in word:\n",
    "            pun.append(letter in total_puncts)\n",
    "\n",
    "        if not all(pun):\n",
    "            word = word.strip(total_puncts)\n",
    "            \n",
    "            if (len(word)>3):\n",
    "                for punct in total_puncts:\n",
    "                    word = word.replace(punct, ' ')\n",
    "            else:\n",
    "                for punct in total_puncts:\n",
    "                    word = word.replace(punct, '')\n",
    "                    \n",
    "            tokens = nltk.word_tokenize(word)\n",
    "            \n",
    "            for token in tokens:\n",
    "                filtered_words.append(token)\n",
    "                \n",
    "    return filtered_words\n",
    "\n",
    "\n",
    "\n",
    "def group_numbers(words):\n",
    "    new_words = []\n",
    "    for word in words:\n",
    "        if re.fullmatch(r'[0-9]+', word) != None :\n",
    "            if int(word) >= 1800 and int(word) <= 2020:\n",
    "                word = '2000'\n",
    "            else:\n",
    "                word = '1'\n",
    "        new_words.append(word)\n",
    "    return new_words\n",
    "\n",
    "\n",
    "\n",
    "def removing_accents(word):\n",
    "    \"\"\"\n",
    "    Removes accents from a given word.\n",
    "    \n",
    "    Parameters\n",
    "    ----------\n",
    "    word : str\n",
    "        the word from which we want to remove the accents\n",
    "\n",
    "    Returns\n",
    "    -------\n",
    "    str\n",
    "        the word without accents\n",
    "    \"\"\"\n",
    "    return (word.replace('ά', 'α').replace('έ', 'ε').replace('ή', 'η').replace('ί', 'ι').replace('ό', 'ο').replace('ύ', 'υ')\n",
    "            .replace('ώ', 'ω').replace('ϊ', 'ι').replace('ϋ', 'υ').replace('ΐ', 'ι').replace('ΰ', 'υ'))\n",
    "\n",
    "\n",
    "\n",
    "def stemming(word):\n",
    "    \"\"\"\n",
    "    Implements stemming for a given word.\n",
    "    \n",
    "    Parameters\n",
    "    ----------\n",
    "    word : str\n",
    "        the word that is about to be stemmed\n",
    "\n",
    "    Returns\n",
    "    -------\n",
    "    str\n",
    "        the stem of the given word at uppercase letters\n",
    "    \"\"\"\n",
    "    return stemmer.stem((removing_accents(word)).upper())\n",
    "\n",
    "def keep_features_relevant_to_organs(stopwords, filename, encoding):\n",
    "    with open(filename,'r',encoding=encoding) as f:\n",
    "        content = f.readlines()\n",
    "    content = [x.strip() for x in content] \n",
    "    for term in content:\n",
    "        extra_stop_words = term.split(',')\n",
    "    stopwords += extra_stop_words\n",
    "    \n",
    "    return stopwords"
   ]
  },
  {
   "cell_type": "code",
   "execution_count": 12,
   "metadata": {
    "scrolled": true
   },
   "outputs": [],
   "source": [
    "texts = texts_retrieval('../data/votana_total_texts_annotated.csv')\n",
    "documents = sentences_retrieval(texts)"
   ]
  },
  {
   "cell_type": "code",
   "execution_count": 13,
   "metadata": {
    "scrolled": true
   },
   "outputs": [
    {
     "data": {
      "text/plain": [
       "41549"
      ]
     },
     "execution_count": 13,
     "metadata": {},
     "output_type": "execute_result"
    }
   ],
   "source": [
    "len(documents)"
   ]
  },
  {
   "cell_type": "code",
   "execution_count": 16,
   "metadata": {
    "scrolled": true
   },
   "outputs": [],
   "source": [
    "from sklearn.feature_extraction.text import TfidfVectorizer\n",
    "stop_words = set(keep_features_relevant_to_organs(total_stop_words, '../data/expanded_stopwords.txt', 'utf-8'))\n",
    "tokenized_stop_words = nltk.word_tokenize(' '.join(keep_features_relevant_to_organs(total_stop_words, '../data/expanded_stopwords.txt', 'utf-8')))\n",
    "\n",
    "class Tokenizer(object):\n",
    "    def __init__(self):\n",
    "        nltk.download('punkt', quiet=True, raise_on_error=True)\n",
    "        self.stemmer = GreekStemmer()\n",
    "        \n",
    "    def _stem(self, token):\n",
    "        if (token in stop_words):\n",
    "            return token\n",
    "        return self.stemmer.stem((removing_accents(token)).upper())\n",
    "        \n",
    "    def __call__(self, line):\n",
    "        tokens = nltk.word_tokenize(line)\n",
    "        tokens = filter_punctuation(list(tokens))\n",
    "        tokens = group_numbers(tokens)\n",
    "        tokens = (self._stem(token) for token in tokens)\n",
    "        return tokens\n",
    "    \n",
    "\n",
    "vectorizer = TfidfVectorizer(max_df=0.5, min_df=6, stop_words=tokenized_stop_words, tokenizer=Tokenizer())\n",
    "tf_idf_array = vectorizer.fit_transform(documents)"
   ]
  },
  {
   "cell_type": "code",
   "execution_count": 4,
   "metadata": {},
   "outputs": [],
   "source": [
    "from joblib import dump, load"
   ]
  },
  {
   "cell_type": "code",
   "execution_count": 6,
   "metadata": {},
   "outputs": [
    {
     "data": {
      "text/plain": [
       "['tfidf_array2.joblib']"
      ]
     },
     "execution_count": 6,
     "metadata": {},
     "output_type": "execute_result"
    }
   ],
   "source": [
    "dump(tf_idf_array, 'tfidf_array2.joblib')"
   ]
  },
  {
   "cell_type": "code",
   "execution_count": 5,
   "metadata": {},
   "outputs": [],
   "source": [
    "tf_idf_array = load('tfidf_array2.joblib') "
   ]
  },
  {
   "cell_type": "code",
   "execution_count": 1,
   "metadata": {
    "scrolled": false
   },
   "outputs": [],
   "source": [
    "#print(vectorizer.stop_words_)"
   ]
  },
  {
   "cell_type": "code",
   "execution_count": 2,
   "metadata": {
    "scrolled": true
   },
   "outputs": [],
   "source": [
    "#print(vectorizer.get_feature_names())"
   ]
  },
  {
   "cell_type": "code",
   "execution_count": 23,
   "metadata": {
    "scrolled": true
   },
   "outputs": [],
   "source": [
    "from sklearn.cluster import KMeans\n",
    "from sklearn.metrics import silhouette_score\n",
    "\n",
    "silhouette_scores = []\n",
    "for k in range(13, 203):\n",
    "    km = KMeans(k, max_iter=10000)\n",
    "    preds = km.fit_predict(tf_idf_array)\n",
    "    silhouette_scores.append(silhouette_score(tf_idf_array, preds))"
   ]
  },
  {
   "cell_type": "code",
   "execution_count": 24,
   "metadata": {
    "scrolled": true
   },
   "outputs": [
    {
     "name": "stdout",
     "output_type": "stream",
     "text": [
      "Maximum average silhouette score for k = 202\n"
     ]
    },
    {
     "data": {
      "image/png": "[encoded data removed]",
      "text/plain": [
       "<Figure size 432x288 with 1 Axes>"
      ]
     },
     "metadata": {
      "needs_background": "light"
     },
     "output_type": "display_data"
    }
   ],
   "source": [
    "import matplotlib.pyplot as plt\n",
    "plt.plot(range(13, 203), silhouette_scores)\n",
    "best_k = np.argmax(silhouette_scores) + 13\n",
    "plt.scatter(best_k, silhouette_scores[best_k-13], color='r') \n",
    "plt.xlim([13,202])\n",
    "plt.annotate(\"best k\", xy=(best_k, silhouette_scores[best_k-13]), xytext=(5, silhouette_scores[best_k-13]),arrowprops=dict(arrowstyle=\"->\")) \n",
    "print('Maximum average silhouette score for k =', best_k)"
   ]
  },
  {
   "cell_type": "code",
   "execution_count": 25,
   "metadata": {
    "scrolled": false
   },
   "outputs": [
    {
     "name": "stdout",
     "output_type": "stream",
     "text": [
      "[ 5  1 90 ...  1  1  1]\n"
     ]
    }
   ],
   "source": [
    "km = KMeans(best_k)\n",
    "km.fit(tf_idf_array)\n",
    "print(km.labels_)"
   ]
  },
  {
   "cell_type": "code",
   "execution_count": 13,
   "metadata": {},
   "outputs": [],
   "source": [
    "from joblib import dump, load"
   ]
  },
  {
   "cell_type": "code",
   "execution_count": 16,
   "metadata": {
    "scrolled": true
   },
   "outputs": [
    {
     "data": {
      "text/plain": [
       "['kmeans2.joblib']"
      ]
     },
     "execution_count": 16,
     "metadata": {},
     "output_type": "execute_result"
    }
   ],
   "source": [
    "dump(km, 'kmeans2.joblib') "
   ]
  },
  {
   "cell_type": "code",
   "execution_count": 6,
   "metadata": {},
   "outputs": [],
   "source": [
    "km = load('kmeans2.joblib') "
   ]
  },
  {
   "cell_type": "code",
   "execution_count": 7,
   "metadata": {
    "scrolled": true
   },
   "outputs": [
    {
     "data": {
      "text/plain": [
       "{'algorithm': 'auto',\n",
       " 'copy_x': True,\n",
       " 'init': 'k-means++',\n",
       " 'max_iter': 300,\n",
       " 'n_clusters': 102,\n",
       " 'n_init': 10,\n",
       " 'n_jobs': None,\n",
       " 'precompute_distances': 'auto',\n",
       " 'random_state': None,\n",
       " 'tol': 0.0001,\n",
       " 'verbose': 0}"
      ]
     },
     "execution_count": 7,
     "metadata": {},
     "output_type": "execute_result"
    }
   ],
   "source": [
    "km.get_params()"
   ]
  },
  {
   "cell_type": "code",
   "execution_count": 108,
   "metadata": {},
   "outputs": [],
   "source": [
    "df_docs = pd.read_csv('../data/properties.csv')\n",
    "df_docs['Organs Cluster'] = km.labels_\n",
    "df_docs.to_csv('../data/properties.csv', index=False)"
   ]
  },
  {
   "cell_type": "code",
   "execution_count": 3,
   "metadata": {
    "scrolled": true
   },
   "outputs": [],
   "source": [
    "#for i in range(len(km.labels_)):\n",
    "#    if km.labels_[i] == 101:\n",
    "#        print('~')\n",
    "#        print(documents[i])"
   ]
  },
  {
   "cell_type": "code",
   "execution_count": 16,
   "metadata": {
    "scrolled": true
   },
   "outputs": [
    {
     "name": "stdout",
     "output_type": "stream",
     "text": [
      "Cluster 0: ΑΙΜΟΡΡΟΙΔ ΑΝΑΙΜ ΘΥΜ ΠΟΝΟΛΑΙΜ ΟΣΤ ΜΗΤΡ ΑΜΥΝ ΣΕΞΟΥΑΛ ΛΙΜΠΙΝΤ ΟΥΡΟΔΟΧ\n",
      "Cluster 1: ΜΑΛΛ ΤΡΙΧΟΠΤΩΣ ΔΕΡΜ ΠΙΤΥΡΙΔ ΤΡΙΧ ΛΙΠΑΡΟΤΗΤ ΝΕΦΡ ΜΑΤ ΑΝΑΙΜ ΑΙΜΟΣΤΑΤ\n",
      "Cluster 2: ΣΤΟΜ ΣΤΟΜΑΧ ΜΥΤ ΒΡΟΓΧΙΤΙΔ ΛΑΡΥΓΓ ΚΑΟΥΡ ΟΣΜ ΙΛΑΡ ΜΑΤ ΧΕΙΛ\n",
      "Cluster 3: ΑΝΟΣΟΠΟΙΗΤ ΑΜΥΝ ΜΗΤΡ ΕΝΤΕΡ ΑΝΟΣ ΘΥΜ ΝΕΥΡ ΑΝΤΙΣΩΜ ΑΝΤΙΚΑΤΑΡΡΟΙΚ ΑΙΜΟΠΕΤΑΛ\n",
      "Cluster 4: ΗΡΕΜΙΣΤ ΝΕΥΡ ΥΠΟΤΑΣ ΥΠΝΩΤ ΠΟΝΟΚΕΦΑΛ ΔΙΟΥΡΗΤ ΚΑΡΔ ΜΥΟΧΑΛΑΡΩΤ ΝΕΥΡΙΚΟΤΗΤ ΕΓΚΕΦΑΛ\n",
      "Cluster 5: ΣΤΟΜΑΧ ΚΟΙΛΙΑΚ ΓΑΣΤΡΙΤΙΔ ΜΕΤΕΩΡΙΣΜ ΝΕΥΡΩΣ ΚΑΡΔΙΑΛΓ ΕΛΚ ΟΙΣΟΦΑΓ ΔΩΔΕΚΑΔΑΚΤΥΛ ΑΙΜ\n",
      "Cluster 6: ΜΑΤ ΚΡΙΘΑΡΑΚ ΕΠΙΠΕΦΥΚΙΤΙΔ ΟΦΘΑΛΜ ΩΧΡ ΔΕΡΜ ΓΛΑΥΚΩΜ ΑΜΦΙΒΛΗΣΤΡΟΕΙΔ ΣΠΛΗΝ ΑΝΟΣΟΠΟΙΗΤ\n",
      "Cluster 7: ΑΝΟΣΟΠΟΙΗΤ ΑΙΜ ΚΥΚΛΟΦΟΡ ΠΕΨ ΑΘΗΡΟΣΚΛΗΡΩΣ ΕΜΜΗΝΟΠΑΥΣ ΚΑΡΔΙΑΚ ΠΝΕΥΜΟΝ ΠΗΞ ΜΥ\n",
      "Cluster 8: ΕΓΚΕΦΑΛ ΝΕΥΡ ΟΡΧ ΑΙΜ ΚΥΚΛΟΦΟΡ ΝΕΥΡΟΔΙΑΒΙΒΑΣΤ ΑΓΓΕΙ ΓΛΟΙΩΜ ΑΝΟΣΟΠΟΙΗΤ ΚΑΡΔ\n",
      "Cluster 9: ΕΝΤΕΡ ΣΤΟΜΑΧ ΔΙΟΥΡΗΤ ΚΟΛΙΤΙΔ ΑΙΜ ΜΥ ΕΜΜΗΝΑΓΩΓ ΕΛΚΩΔ ΘΥΜ ΚΟΙΛ\n",
      "Cluster 10: ΣΥΚΩΤ ΝΕΦΡ ΑΙΜ ΔΙΟΥΡΗΤ ΚΑΡΔ ΣΤΟΜΑΧ ΕΝΤΕΡ ΧΟΛΗΔΟΧ ΟΥΡΟΔΟΧ ΣΠΛΗΝ\n",
      "Cluster 11: ΝΕΥΡ ΧΑΛΑΡΩΝ ΧΑΛΑΡΩΣ ΣΤΟΜΑΧ ΑΠΟΛΗΞ ΚΝΣ ΝΕΥΡΑΛΓ ΕΓΚΕΦΑΛ ΑΙΜ ΘΥΜ\n",
      "Cluster 12: ΑΙΜ ΠΗΞ ΛΙΠΙΔ ΠΑΓΚΡΕ ΘΡΟΜΒ ΗΠΑΡ ΑΝΑΙΜ ΑΡΤΗΡ ΥΠΟΓΛΥΚΑΙΜ ΔΕΡΜΑΤΟΠΑΘΕΙ\n",
      "Cluster 13: ΛΕΥΧΑΙΜ ΠΡΟΣΤΑΤ ΠΝΕΥΜΟΝ ΗΠΑΤ ΕΝΤΕΡ ΛΕΜΦΟΚΥΤΤΑΡ ΝΕΦΡ ΩΟΘΗΚ ΣΤΗΘ ΑΙΜ\n",
      "Cluster 14: ΚΑΡΔ ΕΓΚΕΦΑΛ ΑΙΜ ΧΑΛΑΡΩΝ ΚΥΚΛΟΦΟΡ ΑΡΤΗΡ ΣΤΟΜΑΧ ΑΘΗΡΟΣΚΛΗΡΩΣ ΝΕΥΡ ΑΘΗΡΩΜΑΤ\n",
      "Cluster 15: ΑΦΡΟΔΙΣΙΑΚ ΣΕΞΟΥΑΛ ΛΙΜΠΙΝΤ ΣΤΟΜΑΧ ΑΝΑΠΑΡΑΓΩΓ ΔΙΟΥΡΗΤ ΒΙΑΓΚΡ ΗΡΕΜΙΣΤ ΑΙΜ ΚΥΚΛΟΦΟΡ\n",
      "Cluster 16: ΓΕΝΝ ΜΗΤΡ ΕΓΚΥ ΟΥΡΟΠΟΙΗΤ ΕΚΤΡΩΤ ΑΣΘΜ ΕΜΜΗΝΟΡΡΟΙ ΑΡΘΡΙΤΙΔ ΕΛΚ ΕΛΚΩΔ\n",
      "Cluster 17: ΑΡΘΡΩΣ ΑΡΘΡΙΤΙΔ ΜΥ ΜΥΙΚ ΟΣΤ ΡΕΥΜΑΤ ΠΟΝΟΚΕΦΑΛ ΕΓΚΑΥΜ ΡΕΥΜΑΤΙΣΜ ΔΕΡΜ\n",
      "Cluster 18: ΕΦΙΔΡΩΤ ΔΙΟΥΡΗΤ ΚΑΘΑΡΤ ΚΡΥΟΛΟΓΗΜ ΑΠΟΧΡΕΜΠΤ ΣΤΟΜΑΧ ΑΝΤΙΚΑΤΑΡΡΟΙΚ ΧΟΛΑΓΩΓ ΗΡΕΜΙΣΤ ΑΝΤΙΒΗΧ\n",
      "Cluster 19: ΥΠΕΡΤΑΣ ΥΠΟΤΑΣ ΑΡΤΗΡΙΟΣΚΛΗΡΥΝΣ ΝΕΦΡ ΑΡΤΗΡΙΟΣΚΛΗΡΩΣ ΠΟΝΟΚΕΦΑΛ ΚΑΡΔΙΑΚ ΔΙΟΥΡΗΤ ΝΕΥΡ ΑΓΓΕΙΟΔΙΑΣΤΑΛΤ\n",
      "Cluster 20: ΔΥΣΠΕΨ ΣΤΟΜΑΧ ΚΑΟΥΡ ΝΕΥΡ ΠΕΨ ΚΡΥΟΛΟΓΗΜ ΕΝΤΕΡ ΠΟΝΟΚΕΦΑΛ ΓΑΣΤΡΙΤΙΔ ΔΥΣΜΗΝΟΡΡΟΙ\n",
      "Cluster 21: ΑΡΘΡΙΤΙΔ ΡΕΥΜΑΤΙΣΜ ΚΡΥΟΛΟΓΗΜ ΡΕΥΜΑΤ ΟΥΡ ΕΝΤΕΡ ΒΑΡΥΣΤΟΜΑΧ ΒΗΧ ΔΕΡΜ ΠΟΝΟΚΕΦΑΛ\n",
      "Cluster 22: ΟΡΜΟΝ ΣΕΞΟΥΑΛ ΤΕΣΤΟΣΤΕΡΟΝ ΟΙΣΤΡΟΓΟΝ ΑΝΑΠΑΡΑΓΩΓ ΕΝΔΟΚΡΙΝ ΑΝΤΙΣΥΛΛΗΠΤ ΥΠΟΦΥΣ ΓΥΝΑΙΚΟΛΟΓ ΑΙΜ\n",
      "Cluster 23: ΑΛΤΣΧΑΙΜΕΡ ΑΝΟΙ ΕΓΚΕΦΑΛ ΑΚΜ ΥΠΕΡΤΑΣ ΠΑΝΑΔ ΝΕΥΡΟΕΚΦΥΛΙΣΤ ΩΧΡ ΜΥΑΛ ΑΝΟΣΟΠΟΙΗΤ\n",
      "Cluster 24: ΔΥΣΚΟΙΛΙΟΤΗΤ ΕΝΤΕΡ ΔΥΣΠΕΨ ΔΙΑΡΡΟΙ ΣΤΟΜΑΧ ΚΑΘΑΡΤ ΚΟΠΡΑΝ ΑΙΜΟΡΡΟΙΔ ΛΙΠΙΔ ΗΠΑΤ\n",
      "Cluster 25: ΠΟΝΟΚΕΦΑΛ ΚΡΥΟΛΟΓΗΜ ΣΤΟΜΑΧΟΠΟΝ ΒΗΧ ΔΕΡΜΑΤ ΒΡΟΓΧΙΤΙΔ ΡΕΥΜΑΤΙΣΜ ΝΕΥΡΑΛΓ ΣΤΡΑΜΠΟΥΛΗΓΜ ΚΟΙΛΟΠΟΝ\n",
      "Cluster 26: ΚΑΘΑΡΤ ΔΙΟΥΡΗΤ ΕΝΤΕΡ ΣΤΟΜΑΧ ΑΙΜ ΝΕΦΡ ΔΥΣΚΟΙΛΙΟΤΗΤ ΠΕΨ ΧΟΛΑΓΩΓ ΚΑΡΔ\n",
      "Cluster 27: ΕΜΜΗΝ ΕΜΜΗΝΑΓΩΓ ΣΤΟΜΑΧ ΚΡΑΜΠ ΑΙΜΟΡΡΑΓ ΜΗΤΡ ΝΕΥΡ ΕΜΜΗΝΟΠΑΥΣ ΔΥΣΠΕΨ ΜΥΙΚ\n",
      "Cluster 28: ΚΑΡΔΙΑΚ ΕΓΚΕΦΑΛ ΚΑΡΔ ΑΙΜ ΑΡΡΥΘΜ ΠΑΛΜ ΘΡΟΜΒ ΜΥ ΝΕΥΡ ΚΥΚΛΟΦΟΡ\n",
      "Cluster 29: ΚΥΚΛΟΦΟΡ ΑΙΜ ΦΛΕΒΙΤΙΔ ΕΓΚΕΦΑΛ ΚΑΡΔ ΑΙΜΟΡΡΟΙΔ ΝΕΥΡ ΦΛΕΒ ΔΕΡΜ ΣΤΟΜΑΧ\n",
      "Cluster 30: ΑΠΟΧΡΕΜΠΤ ΔΙΟΥΡΗΤ ΚΑΡΔΙΟΤΟΝΩΤ ΒΗΧ ΠΝΕΥΜΟΝ ΑΝΤΙΒΗΧ ΠΕΨ ΑΝΑΠΝΕΥΣΤ ΕΜΜΗΝΑΓΩΓ ΚΡΥΟΛΟΓΗΜ\n",
      "Cluster 31: ΟΥΡΟΠΟΙΗΤ ΝΕΦΡ ΔΙΟΥΡΗΤ ΠΡΟΣΤΑΤ ΑΝΑΠΝΕΥΣΤ ΟΥΡΟΔΟΧ ΓΕΝΝΗΤ ΟΥΡΟΛΟΙΜΩΞ ΕΝΤΕΡ ΚΡΥΟΛΟΓΗΜ\n",
      "Cluster 32: ΝΕΦΡ ΔΙΟΥΡΗΤ ΟΥΡΟΔΟΧ ΑΙΜ ΚΑΤΑΚΡΑΤΗΣ ΧΟΛΗΔΟΧ ΑΡΘΡΙΤ ΙΚΤΕΡ ΗΠΑΡ ΣΠΛΗΝ\n",
      "Cluster 33: ΚΑΡΔΙΑΓΓΕΙΑΚ ΑΡΤΗΡ ΑΙΜ ΑΡΤΗΡΙΟΣΚΛΗΡΥΝΣ ΝΕΥΡ ΑΝΟΣΟΠΟΙΗΤ ΕΓΚΕΦΑΛ ΓΥΝΑΙΚΟΛΟΓ ΕΜΦΡΑΓΜ ΑΜΥΝ\n",
      "Cluster 34: ΕΓΚΥΜΟΣΥΝ ΘΗΛΑΣΜ ΜΗΤΡ ΕΜΕΤ ΕΜΒΡΥ ΝΕΦΡ ΕΚΤΡΩΤ ΜΥΑΛ ΑΙΜ ΟΡΜΟΝ\n",
      "Cluster 35: ΜΥΤ ΑΙΜΟΡΡΑΓ ΒΛΕΝΝ ΡΙΝΟΡΡΑΓ ΤΡΙΧ ΕΙΣΠΝΟ ΕΦΙΔΡΩΣ ΑΠΟΛΗΞ ΧΕΙΛ ΠΝΕΥΜΟΝ\n",
      "Cluster 36: ΑΡΤΗΡΙΑΚ ΠΙΕΣ ΚΑΡΔΙΑΚ ΥΠΕΡΤΑΣ ΑΙΜ ΟΥΡ ΛΙΠ ΚΥΚΛΟΦΟΡ ΕΓΚΕΦΑΛ ΔΙΟΥΡΗΤ\n",
      "Cluster 37: ΔΕΡΜΑΤ ΨΩΡΙΑΣ ΕΞΑΝΘΗΜ ΕΛΚ ΔΕΡΜ ΑΡΘΡΙΤ ΒΗΧ ΣΠΥΡ ΑΙΜ ΚΡΥΟΛΟΓΗΜ\n",
      "Cluster 38: ΕΜΕΤ ΔΙΑΡΡΟΙ ΚΑΘΑΡΤ ΣΤΟΜΑΧ ΔΙΟΥΡΗΤ ΑΠΟΧΡΕΜΠΤ ΔΥΣΠΕΨ ΕΝΤΕΡ ΚΑΡΔ ΥΠΝΗΛ\n",
      "Cluster 39: ΠΡΟΣΤΑΤ ΝΕΦΡ ΠΝΕΥΜΟΝ ΝΕΦΡΙΤΙΔ ΑΡΤΗΡΙΟΣΚΛΗΡΥΝΣ ΟΥΡΟΔΟΧ ΛΙΠΟΞΥΓΕΝΑΣ ΟΥΡΟΛΟΙΜΩΞ ΣΤΟΜΑΧ ΕΝΤΕΡ\n",
      "Cluster 40: ΒΡΟΓΧΙΤΙΔ ΒΗΧ ΑΣΘΜ ΠΝΕΥΜΟΝ ΚΡΥΟΛΟΓΗΜ ΠΟΝΟΛΑΙΜ ΑΝΑΠΝΕΥΣΤ ΛΑΡΥΓΓΙΤΙΔ ΑΠΟΧΡΕΜΠΤ ΚΑΤΑΡΡΟ\n",
      "Cluster 41: ΠΕΨ ΣΤΟΜΑΧ ΕΝΤΕΡ ΣΤΟΜΑΧΟΠΟΝ ΣΥΚΩΤ ΝΕΦΡ ΑΙΜ ΚΟΛΙΤΙΔ ΝΕΥΡ ΕΡΠΗΤ\n",
      "Cluster 42: ΠΟΝΟΚΕΦΑΛ ΣΥΚΩΤ ΝΕΥΡΙΚΟΤΗΤ ΒΗΧ ΚΥΚΛΟΦΟΡ ΝΕΥΡ ΠΟΝΟΛΑΙΜ ΔΙΑΡΡΟΙ ΕΓΚΕΦΑΛ ΣΤΟΜΑΧ\n",
      "Cluster 43: ΔΙΟΥΡΗΤ ΚΑΤΑΚΡΑΤΗΣ ΑΙΜΟΣΤΑΤ ΕΜΜΗΝΑΓΩΓ ΑΝΤΙΡΡΕΥΜΑΤ ΑΝΤΙΡΕΥΜΑΤ ΑΝΑΙΜ ΑΙΜ ΧΟΛΑΓΩΓ ΣΤΟΜΑΧ\n",
      "Cluster 44: ΒΗΧ ΠΟΝΟΛΑΙΜ ΚΡΥΩΜ ΔΙΟΥΡΗΤ ΑΠΟΧΡΕΜΨ ΣΤΟΜΑΧ ΚΑΤΑΡΡΟ ΦΛΕΓΜ ΒΡΑΧΝΑΔ ΒΡΟΓΧ\n",
      "Cluster 45: ΑΥΤ ΒΟΥΗΤ ΠΟΝΟΚΕΦΑΛ ΒΟΥΙΣΜ ΜΑΤ ΜΑΛΛ ΔΟΝΤ ΩΤΙΤΙΔ ΝΕΥΡΑΛΓ ΔΥΣΕΝΤΕΡ\n",
      "Cluster 46: ΣΤΟΜΑΤ ΕΛΚ ΑΦΘ ΡΙΝ ΠΟΝΟΛΑΙΜ ΟΔΟΝΤ ΑΙΜΟΡΡΟΙΔ ΣΤΟΜ ΦΑΡΥΓΓ ΔΙΑΡΡΟΙ\n",
      "Cluster 47: ΔΕΡΜ ΤΡΙΧ ΑΚΜ ΔΕΡΜΑΤΙΤΙΔ ΨΩΡΙΑΣ ΕΞΑΝΘΗΜ ΦΑΚΙΔ ΔΕΡΜΑΤΟΠΑΘΕΙ ΨΩΡ ΣΠΥΡ\n",
      "Cluster 48: ΕΓΚΑΥΜ ΔΕΡΜ ΕΛΚ ΕΚΔΟΡ ΕΞΑΝΘΗΜ ΑΙΜΟΡΡΟΙΔ ΔΕΡΜΑΤ ΠΥΟΡΡΟΙ ΔΕΡΜΑΤΟΠΑΘΕΙ ΕΠΙΠΕΦΥΚΙΤΙΔ\n",
      "Cluster 49: ΠΙΕΣ ΥΠΟΤΑΣ ΝΕΥΡ ΔΙΟΥΡΗΣ ΟΣΤΕΟΠΟΡΩΣ ΝΕΥΡΙΚΟΤΗΤ ΑΝΟΣΟΠΟΙΗΤ ΚΑΡΔΙΑΚ ΑΡΤΗΡ ΓΛΑΥΚΩΜ\n",
      "Cluster 50: ΜΕΤΑΒΟΛΙΣΜ ΛΙΠΙΔ ΠΕΨ ΣΥΚΩΤ ΔΕΡΜ ΗΠΑΤ ΝΕΥΡ ΠΝΕΥΜΟΝ ΑΙΜ ΟΙΣΤΡΟΓΟΝ\n",
      "Cluster 51: Μ ΧΑΛΑΡΩΝ ΝΕΥΡ ΜΗΤΡ ΧΑΛΑΡΩΣ ΣΤΟΜΑΧ ΔΥΣΠΕΨ ΗΡΕΜΙΣΤ ΕΓΚΕΦΑΛ ΓΑΣΤΡΕΝΤΕΡΟΛΟΓ\n",
      "Cluster 52: ΟΣΜ ΟΥΡ ΣΤΟΜ ΔΕΡΜ ΕΙΣΠΝΕ ΝΕΥΡΩΣ ΑΜΥΝΤ ΚΟΛΠ ΤΥΦΟΕΙΔ ΚΟΠΡΑΝ\n",
      "Cluster 53: ΠΝΕΥΜΟΝ ΦΛΕΓΜ ΑΝΑΠΝΕΥΣΤ ΚΑΠΝΙΣΜ ΑΝΟΣΟΠΟΙΗΤ ΒΗΧ ΕΝΤΕΡ ΝΕΦΡ ΕΓΚΕΦΑΛ ΣΥΚΩΤ\n",
      "Cluster 54: ΟΥΛ ΔΟΝΤ ΔΕΡΜ ΣΤΟΜ ΟΥΛΙΤΙΔ ΟΔΟΝΤ ΕΓΚΑΥΜ ΣΤΟΜΑΤ ΑΙΜΟΡΡΑΓ ΑΚΜ\n",
      "Cluster 55: ΑΝΤΙΠΗΚΤ ΘΡΟΜΒΩΣ ΑΠΟΧΡΕΜΠΤ ΑΙΜΟΠΕΤΑΛ ΑΙΜΟΡΡΑΓ ΘΡΟΜΒΟΛΥΤ ΑΝΤΙΑΙΜΟΠΕΤΑΛΙΑΚ ΑΙΜ ΘΡΟΜΒΟΦΛΕΒΙΤΙΔ ΑΝΤΙΘΡΟΜΒΩΤ\n",
      "Cluster 56: ΑΝΑΠΝΕΥΣΤ ΚΑΤΑΡΡΟ ΕΙΣΠΝΟ ΔΕΡΜ ΑΝΟΣΟΠΟΙΗΤ ΕΝΤΕΡ ΦΛΕΓΜ ΑΜΥΝ ΚΑΤΑΡΡΟΙΚ ΛΑΡΥΓΓΙΤΙΔ\n",
      "Cluster 57: ΑΙΜΟΣΦΑΙΡ ΑΝΟΣΟΠΟΙΗΤ ΑΙΜ ΛΕΜΦΟΚΥΤΤΑΡ ΑΝΤΙΣΩΜ ΑΙΜΟΣΦΑΙΡΙΝ ΑΜΥΝ ΑΙΜΟΠΕΤΑΛ ΝΕΥΡ ΑΓΓΕΙ\n",
      "Cluster 58: ΗΠΑΤ ΚΙΡΡΩΣ ΣΥΚΩΤ ΛΙΠΩΔ ΝΕΦΡ ΧΟΛΗΔΟΧ ΗΠΑΡ ΙΚΤΕΡ ΑΙΜ ΠΑΓΚΡΕ\n",
      "Cluster 59: ΚΡΥΟΛΟΓΗΜ ΒΗΧ ΑΝΑΠΝΕΥΣΤ ΑΝΟΣΟΠΟΙΗΤ ΚΑΤΑΡΡΟ ΕΙΣΠΝΟ ΠΟΝΟΛΑΙΜ ΑΜΥΝ ΡΙΝ ΣΤΗΘ\n",
      "Cluster 60: ΠΙΕΣ ΑΙΜ ΚΥΚΛΟΦΟΡ ΚΑΡΔΙΑΚ ΚΑΡΔ ΑΓΓΕΙ ΠΑΛΜ ΔΙΟΥΡΗΤ ΚΑΡΔΙΑΓΓΕΙΑΚ ΑΝΟΣΟΠΟΙΗΤ\n",
      "Cluster 61: ΚΥΤΤΑΡΙΤΙΔ ΚΑΤΑΚΡΑΤΗΣ ΔΙΟΥΡΗΤ ΣΥΚΩΤ ΔΕΡΜ ΑΙΜ ΦΛΕΒΙΤΙΔ ΕΓΚΑΥΜ ΦΑΚΙΔ ΜΕΤΑΒΟΛΙΣΜ\n",
      "Cluster 62: ΛΙΠ ΜΕΤΑΒΟΛΙΣΜ ΛΙΠΩΔ ΑΙΜ ΚΟΙΛ ΗΠΑΡ ΑΡΤΗΡ ΠΕΨ ΧΟΛΙΝ ΣΥΚΩΤ\n",
      "Cluster 63: ΟΥΛΙΤΙΔ ΠΕΡΙΟΔΟΝΤΙΤΙΔ ΣΤΟΜ ΣΤΟΜΑΤ ΑΦΘ ΕΛΚ ΦΑΡΥΓΓΙΤΙΔ ΑΜΥΓΔΑΛΙΤΙΔ ΔΟΝΤ ΔΕΡΜ\n",
      "Cluster 64: ΕΛΚ ΣΤΟΜΑΧ ΔΩΔΕΚΑΔΑΚΤΥΛ ΝΕΥΡ ΓΑΣΤΡΙΤΙΔ ΕΛΙΚΟΒΑΚΤΗΡΙΔ ΚΑΡΔΙΟΠΑΘΕΙ ΚΟΛΙΤΙΔ ΦΛΕΒ ΚΑΟΥΡ\n",
      "Cluster 65: ΑΝΑΠΝΕΥΣΤ ΒΗΧ ΑΣΘΜ ΒΡΟΓΧΙΤΙΔ ΚΑΤΑΡΡΟ ΒΡΟΓΧ ΑΠΟΧΡΕΜΠΤ ΚΡΥΟΛΟΓΗΜ ΠΟΝΟΛΑΙΜ ΦΥΜΑΤΙΩΣ\n",
      "Cluster 66: ΠΑΧΕ ΕΝΤΕΡ ΣΤΟΜΑΧ ΠΡΟΣΤΑΤ ΠΝΕΥΜΟΝ ΥΠΕΡΤΑΣ ΠΑΓΚΡΕ THYMUS ΤΡΑΧΗΛ ΑΛΤΣΧΑΙΜΕΡ\n",
      "Cluster 67: ΑΝΑΠΝΟ ΠΕΨ ΠΝΕΥΜΟΝ ΣΤΟΜ ΧΑΛΑΡΩΤ ΑΣΘΜ ΗΜΙΚΡΑΝ ΣΤΟΜΑΧ ΔΥΣΠΕΨ ΣΤΟΜΑΤ\n",
      "Cluster 68: ΠΟΝΟΔΟΝΤ ΡΕΥΜΑΤΙΣΜ ΔΟΝΤ ΠΟΝΟΚΕΦΑΛ ΕΝΤΕΡ ΝΕΥΡΑΛΓ ΛΑΡΥΓΓΙΤΙΔ ΔΙΑΡΡΟΙ ΣΤΟΜ ΙΓΜΟΡΙΤΙΔ\n",
      "Cluster 69: ΓΟΝΙΜΟΤΗΤ ΣΤΥΤ ΛΙΜΠΙΝΤ ΟΡΜΟΝ ΑΦΡΟΔΙΣΙΑΚ ΚΑΡΔΙΟΣΧΗΜ ΣΠΕΡΜΑΤΟΖΩΑΡ ΣΠΕΡΜ ΕΓΚΥ ΠΟΛΥΚΥΣΤ\n",
      "Cluster 70: ΙΝΟΜΥΑΛΓ ΑΡΘΡΙΤΙΔ ΑΥΤΟΑΝΟΣ ΧΑΛΑΡΩΝ ΜΥΟΧΑΛΑΡΩΤ ΑΡΘΡΙΤ PARKINSON ΜΥΙΚ ΔΕΡΜ ΑΡΘΡΩΣ\n",
      "Cluster 71: ALZHEIMER ΕΓΚΕΦΑΛ ΑΝΟΙ ΝΕΥΡΟΕΚΦΥΛΙΣΤ PARKINSON ΝΕΥΡΟΛΟΓ ΝΕΥΡΟΔΙΑΒΙΒΑΣΤ ΑΝΤΙΣΩΜ ΚΑΡΔΙΑΚ ΝΕΥΡΩΝ\n",
      "Cluster 72: ΧΑΛΑΡΩΤ ΗΡΕΜΙΣΤ ΝΕΥΡ ΜΥ ΚΡΥΟΛΟΓΗΜ ΝΕΥΡΟΤΟΝΩΤ ΑΠΟΧΡΕΜΠΤ ΜΥΙΚ ΠΟΝΟΛΑΙΜ ΕΜΜΗΝΟΠΑΥΣ\n",
      "Cluster 73: ΟΡΑΣ ΜΑΤ ΩΧΡ ΑΜΦΙΒΛΗΣΤΡΟΕΙΔ ΚΑΡΔΙΑΓΓΕΙΑΚ ΔΕΡΜ ΝΕΥΡ ΑΝΟΣΟΠΟΙΗΤ ΚΥΚΛΟΦΟΡ ΟΣΤ\n",
      "Cluster 74: ΗΜΙΚΡΑΝ ΠΟΝΟΚΕΦΑΛ ΝΕΥΡ ΠΕΨ ΕΓΚΥΜΟΣΥΝ ΗΡΕΜΙΣΤ ΝΕΥΡΑΣΘΕΝΕΙ ΝΕΥΡΑΛΓ ΑΠΟΛΗΞ ΙΛΙΓΓ\n",
      "Cluster 75: ΒΛΕΝΝΟΓΟΝ ΔΕΡΜ ΣΤΟΜΑΧ ΕΝΤΕΡ ΣΤΟΜΑΤ ΜΥΤ ΣΤΟΜ ΟΥΡΟΠΟΙΗΤ ΑΝΑΠΝΕΥΣΤ ΕΛΚ\n",
      "Cluster 76: ΟΣΤΕΟΑΡΘΡΙΤΙΔ ΑΝΑΠΝΕΥΣΤ ΓΟΝΑΤ ΔΥΣΚΑΜΨ ΑΡΘΡΙΤΙΔ ΑΡΘΡΩΣ ΤΕΝΟΝΤΙΤΙΔ ΟΣΤΕΟΠΟΡΩΣ ΧΟΝΔΡ ΡΙΝΙΤΙΔ\n",
      "Cluster 77: ΜΥΙΚ ΝΕΥΡ ΡΕΥΜΑΤ ΑΘΗΡΩΜΑΤΩΣ ΑΡΤΗΡ ΡΕΥΜΑΤΙΣΜ ΠΑΛΜ ΚΑΡΔΙΑΓΓΕΙΑΚ ΑΡΘΡΙΤΙΔ ΕΓΚΕΦΑΛ\n",
      "Cluster 78: ΑΣΘΜ ΒΗΧ ΒΡΟΓΧ ΠΝΕΥΜΟΝ ΕΙΣΠΝΟ ΑΝΑΠΝΕΥΣΤ ΚΡΥΟΛΟΓΗΜ ΚΟΚΙΤ ΡΙΝΙΤΙΔ ΚΟΚΚΥΤ\n",
      "Cluster 79: ΔΟΝΤ ΟΣΤ ΝΕΦΡΟΛΙΘΙΑΣ ΟΔΟΝΤΟΚΡΕΜ ΣΤΟΜΑΤ ΣΤΟΜ ΚΟΚΑΛ ORAL ΑΙΜΟΣΦΑΙΡΙΝ ΧΟΝΤΡ\n",
      "Cluster 80: ΑΥΤΟΑΝΟΣ ΑΝΟΣΟΠΟΙΗΤ ΑΡΘΡΙΤΙΔ ΚΑΡΔΙΑΓΓΕΙΑΚ ΚΑΡΔΙΑΚ ΑΝΟΣΟΚΑΤΑΣΤΑΛΤ ΓΑΣΤΡΙΤΙΔ ΑΛΤΣΧΑΙΜΕΡ ΚΑΤΑΓΜ ΒΡΟΓΧΙΤΙΔ\n",
      "Cluster 81: ΘΥΡΕΟΕΙΔ ΕΠΙΝΕΦΡΙΔ ΥΠΟΦΥΣ ΜΕΤΑΒΟΛΙΣΜ ΚΑΡΔΙΑΚ ΕΛΚ ΠΑΓΚΡΕ ΠΝΕΥΜΟΝ ΔΙΑΡΡΟΙ ΣΤΟΜΑΧ\n",
      "Cluster 82: ΚΡΑΜΠ ΣΤΟΜΑΧ ΔΥΣΠΕΨ ΜΥΙΚ ΜΥ ΔΙΑΡΡΟΙ ΕΝΤΕΡ ΝΕΥΡ ΚΡΥΟΛΟΓΗΜ ΜΗΤΡ\n",
      "Cluster 83: ΕΓΚΥ ΘΗΛΑΖ ΘΗΛΑΣΜ ΗΠΑΤ ΕΜΒΡΥ ΜΗΤΡ ΝΕΦΡ ΑΙΜΟΡΡΑΓ ΕΓΚΥΜΟΣΥΝ ΕΓΚΑΥΜ\n",
      "Cluster 84: ΑΚΜ ΔΕΡΜ ΨΩΡΙΑΣ ΔΕΡΜΑΤ ΣΠΥΡ ΣΠΥΡΑΚ ΟΡΜΟΝ ΤΡΙΧΟΠΤΩΣ ΔΕΡΜΑΤΟΠΑΘΕΙ ΔΕΡΜΑΤΙΤΙΔ\n",
      "Cluster 85: ΟΥΡ ΑΡΘΡΙΤΙΔ ΔΙΟΥΡΗΤ ΝΕΦΡ ΑΙΜ ΡΕΥΜΑΤ ΟΥΡΟΔΟΧ ΡΕΥΜΑΤΙΣΜ ΚΑΤΑΚΡΑΤΗΣ ΑΚΡΑΤΕΙ\n",
      "Cluster 86: ΡΕΥΜΑΤΟΕΙΔ ΑΡΘΡΙΤΙΔ ΟΣΤΕΟΑΡΘΡΙΤΙΔ ΟΥΡ ΧΑΣΙΜΟΤ ΙΝΟΜΥΑΛΓ ΑΣΘΜ ΑΥΤΟΑΝΟΣ ΚΡΥΟΛΟΓΗΜ ΑΝΑΠΝΕΥΣΤ\n",
      "Cluster 87: ΧΟΛ ΣΥΚΩΤ ΠΕΨ ΗΠΑΤ ΧΟΛΗΔΟΧ ΝΕΦΡ ΕΝΤΕΡ ΣΤΟΜΑΧ ΧΟΛΑΓΩΓ ΑΙΜ\n",
      "Cluster 88: ΚΡΑΝ ΔΙΑΡΡΟΙ ΚΑΡΔΙΑΚ ΑΙΜΑΤΩΜ ΕΝΤΕΡ ΠΟΝΟΚΕΦΑΛ ΣΤΟΜΑΧ ΑΓΓΕΙΟΣΠΕΡΜ ΚΟΝΔΥΛΩΜ ΜΥΙΚ\n",
      "Cluster 89: ΔΙΑΡΡΟΙ ΕΝΤΕΡ ΔΥΣΕΝΤΕΡ ΣΤΟΜΑΧ ΚΟΛΙΤΙΔ ΑΙΜΟΡΡΟΙΔ ΕΛΚ ΕΝΤΕΡΙΤΙΔ ΠΟΝΟΛΑΙΜ ΓΑΣΤΡΙΤΙΔ\n",
      "Cluster 90: ΚΥΚΛΟΦΟΡ ΑΝΑΠΝΕΥΣΤ ΑΝΟΣΟΠΟΙΗΤ ΠΕΨ ΑΡΤΗΡ ΜΥΟΣΚΕΛΕΤ ΑΙΜ ΑΓΓΕΙ ΚΑΡΔΙΑΓΓΕΙΑΚ ΚΙΝΗΤ\n",
      "Cluster 91: ΕΠΙΔΕΡΜΙΔ ΔΕΡΜ ΑΚΜ ΑΜΥΧ ΤΡΙΧΟΠΤΩΣ ΧΑΛΑΡΩΝ ΕΓΚΑΥΜ ΑΝΤΙΙΔΡΩΤ ΝΕΥΡ ΣΠΥΡΑΚ\n",
      "Cluster 92: ΣΠΕΡΜ ΣΕΞΟΥΑΛ ΟΡΜΟΝ ΣΠΕΡΜΑΤΟΖΩΑΡ ΓΟΝΙΜΟΠΟΙΗΣ ΑΦΡΟΔΙΣΙΑΚ ΚΤΤ ΥΠΟΘΕΤ ΟΥΡΗΘΡ ΛΑΡΥΓΓ\n",
      "Cluster 93: ΓΑΣΤΡΕΝΤΕΡ ΣΤΟΜΑΧ ΕΝΤΕΡ ΕΛΚ ΝΕΥΡ ΚΑΡΔΙΑΓΓΕΙΑΚ ΕΜΕΤ ΠΕΨ ΔΥΣΚΟΙΛΙΟΤΗΤ ΗΠΑΤ\n",
      "Cluster 94: ΕΜΜΗΝΟΠΑΥΣ ΓΥΝΑΙΚΟΛΟΓ ΟΡΜΟΝ ΟΙΣΤΡΟΓΟΝ ΟΣΤΕΟΠΟΡΩΣ ΕΦΙΔΡΩΣ ΠΡΟΕΜΜΗΝΟΡΡΟΙΚ ΨΥΧΟΣΩΜΑΤ ΑΡΘΡΙΤΙΔ ΠΟΝΟΚΕΦΑΛ\n",
      "Cluster 95: ΝΥΧ ΡΕΥΜΑΤ ΜΑΛΛ ΑΡΘΡΙΤ ΟΣΤ ΠΥΩΔ ΔΕΡΜ ΜΥ ΑΝΑΠΝΕΥΣΤ ΑΡΘΡΙΤΙΔ\n",
      "Cluster 96: ΡΕΥΜΑΤΙΣΜ ΑΡΘΡΙΤ ΒΗΧ ΝΕΥΡΑΛΓ ΠΟΝΟΚΕΦΑΛ ΔΙΟΥΡΗΤ ΚΡΥΟΛΟΓΗΜ ΜΥ ΑΙΜΟΡΡΟΙΔ ΤΡΙΧΟΠΤΩΣ\n",
      "Cluster 97: ΑΓΓΕΙ ΑΙΜΟΦΟΡ ΤΡΙΧΟΕΙΔ ΚΑΡΔ ΚΥΚΛΟΦΟΡ ΑΙΜ ΑΡΤΗΡ ΕΓΚΕΦΑΛ ΦΛΕΒ ΚΑΡΔΙΑΚ\n",
      "Cluster 98: ΕΡΠ ΖΩΣΤΗΡ ΣΤΟΜ ΨΩΡΙΑΣ ΕΦΙΔΡΩΤ ΑΦΘ ΚΑΡΔΙΟΤΟΝΩΤ ΕΡΠΗΤ ΔΕΡΜ ΚΡΥΟΛΟΓΗΜ\n",
      "Cluster 99: ΨΥΧΟΛΟΓ ΕΓΚΕΦΑΛ ΗΡΕΜΙΣΤ ΑΜΥΝΤ ΔΕΡΜΑΤ ΝΕΥΡΟΛΟΓ ΕΛΚ ΑΝΑΠΝΕΥΣΤ ΕΠΙΝΕΦΡΙΔ ΣΤΡΕΣΟΓΟΝ\n",
      "Cluster 100: ΑΙΜΟΡΡΑΓ ΜΗΤΡ ΔΥΣΕΝΤΕΡ ΔΙΑΡΡΟΙ ΑΙΜΟΣΤΑΤ ΑΙΜ ΑΙΜΟΡΡΟΙΔ ΑΣΘΜ ΕΛΚ ΠΗΞ\n",
      "Cluster 101: ΣΤΟΜ ΕΛΚ ΔΕΡΜ ΑΙΜΟΡΡΟΙΔ ΜΑΤ ΦΑΡΥΓΓ ΦΑΚΙΔ ΔΙΑΡΡΟΙ ΟΦΘΑΛΜ ΛΑΡΥΓΓ\n"
     ]
    }
   ],
   "source": [
    "terms = vectorizer.get_feature_names()\n",
    "order_centroids = km.cluster_centers_.argsort()[:, ::-1]\n",
    "for i in range(102):\n",
    "    out = \"Cluster %d:\" % i\n",
    "    for ind in order_centroids[i, :10]:\n",
    "        out += ' %s' % terms[ind]\n",
    "    print(out)"
   ]
  }
 ],
 "metadata": {
  "kernelspec": {
   "display_name": "Python 3",
   "language": "python",
   "name": "python3"
  },
  "language_info": {
   "codemirror_mode": {
    "name": "ipython",
    "version": 3
   },
   "file_extension": ".py",
   "mimetype": "text/x-python",
   "name": "python",
   "nbconvert_exporter": "python",
   "pygments_lexer": "ipython3",
   "version": "3.6.10"
  }
 },
 "nbformat": 4,
 "nbformat_minor": 2
}
