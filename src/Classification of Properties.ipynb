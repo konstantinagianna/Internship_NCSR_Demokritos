{
 "cells": [
  {
   "cell_type": "markdown",
   "metadata": {},
   "source": [
    "# Ταξινόμηση ιδιοτήτων-προτάσεων σε συστήματα οργάνων"
   ]
  },
  {
   "cell_type": "code",
   "execution_count": 56,
   "metadata": {
    "scrolled": false
   },
   "outputs": [
    {
     "name": "stderr",
     "output_type": "stream",
     "text": [
      "[nltk_data] Downloading package stopwords to\n",
      "[nltk_data]     C:\\Users\\Dell\\AppData\\Roaming\\nltk_data...\n",
      "[nltk_data]   Package stopwords is already up-to-date!\n"
     ]
    }
   ],
   "source": [
    "import pandas as pd\n",
    "import numpy as np\n",
    "import nltk\n",
    "nltk.download('stopwords') \n",
    "from nltk.corpus import stopwords\n",
    "import string\n",
    "import spacy\n",
    "import el_core_news_md\n",
    "nlp = el_core_news_md.load()\n",
    "from greek_stemmer import GreekStemmer\n",
    "stemmer = GreekStemmer()\n",
    "import re\n",
    "from sklearn.model_selection import train_test_split\n",
    "from sklearn.feature_extraction.text import TfidfVectorizer\n",
    "from imblearn.over_sampling import RandomOverSampler\n",
    "from sklearn.multiclass import OneVsRestClassifier\n",
    "from sklearn.svm import SVC\n",
    "from sklearn.neighbors import KNeighborsClassifier\n",
    "from sklearn.tree import DecisionTreeClassifier\n",
    "from sklearn.ensemble import RandomForestClassifier\n",
    "from sklearn.model_selection import GridSearchCV\n",
    "from sklearn.metrics import accuracy_score\n",
    "from sklearn.metrics import classification_report\n",
    "from joblib import dump, load\n",
    "import warnings\n",
    "warnings.filterwarnings('ignore')\n",
    "\n",
    "total_stop_words = (nlp.Defaults.stop_words).union(set(stopwords.words('greek')))\n",
    "total_stop_words = total_stop_words.union({'ή', 'μόνον'})\n",
    "total_puncts = string.punctuation + '«»–“”\\xa0‘•…●\\uf0b7◗♥.'\n",
    "total_stop_words = list(total_stop_words) + list(string.punctuation)\n",
    "#total_stop_words += [stemming(word) for word in total_stop_words]\n",
    "stop_words = set(total_stop_words)\n",
    "tokenized_stop_words = nltk.word_tokenize(' '.join(total_stop_words))\n",
    "\n",
    "class Tokenizer(object):\n",
    "    def __init__(self):\n",
    "        nltk.download('punkt', quiet=True, raise_on_error=True)\n",
    "        self.stemmer = GreekStemmer()\n",
    "        \n",
    "    def _stem(self, token):\n",
    "        if (token in stop_words):\n",
    "            return token\n",
    "        return self.stemmer.stem((removing_accents(token)).upper())\n",
    "        \n",
    "    def __call__(self, line):\n",
    "        tokens = nltk.word_tokenize(line)\n",
    "        tokens = filter_punctuation(list(tokens))\n",
    "        tokens = group_numbers(tokens)\n",
    "        tokens = (self._stem(token) for token in tokens)\n",
    "        return tokens\n",
    "\n",
    "\n",
    "\n",
    "def data_preparation(data_filename, target, test_size=0.25, stopwords=tokenized_stop_words, max_frequency=0.5, min_frequency=6, \n",
    "                     imbalanced=False):\n",
    "    df_texts = pd.read_csv(data_filename, index_col=None)\n",
    "    df_texts = df_texts.dropna(axis=0, subset = [target])\n",
    "    df_texts[target] = df_texts[target].astype(int)\n",
    "    X_train, X_test, y_train, y_test = train_test_split(df_texts['Sentence'], df_texts[target], test_size=test_size, \n",
    "                                                        random_state=10)\n",
    "    vectorizer = TfidfVectorizer(max_df=max_frequency, min_df=min_frequency, stop_words=stopwords, tokenizer=Tokenizer())\n",
    "    X_train_tf_idf = vectorizer.fit_transform(X_train)\n",
    "    X_test_tf_idf = vectorizer.transform(X_test)\n",
    "    if imbalanced:\n",
    "        ros = RandomOverSampler(random_state=0)\n",
    "        X_train_tf_idf, y_train = ros.fit_sample(X_train_tf_idf, y_train)\n",
    "    \n",
    "    return X_train_tf_idf, X_test_tf_idf, y_train, y_test\n",
    "\n",
    "\n",
    "\n",
    "def filter_punctuation(words):\n",
    "    filtered_words = []\n",
    "    for word in words:\n",
    "        pun = []\n",
    "        for letter in word:\n",
    "            pun.append(letter in total_puncts)\n",
    "\n",
    "        if not all(pun):\n",
    "            word = word.strip(total_puncts)\n",
    "            \n",
    "            if (len(word)>3):\n",
    "                for punct in total_puncts:\n",
    "                    word = word.replace(punct, ' ')\n",
    "            else:\n",
    "                for punct in total_puncts:\n",
    "                    word = word.replace(punct, '')\n",
    "                    \n",
    "            tokens = nltk.word_tokenize(word)\n",
    "            \n",
    "            for token in tokens:\n",
    "                filtered_words.append(token)\n",
    "                \n",
    "    return filtered_words\n",
    "\n",
    "\n",
    "\n",
    "def group_numbers(words):\n",
    "    new_words = []\n",
    "    for word in words:\n",
    "        if re.fullmatch(r'[0-9]+', word) != None :\n",
    "            if int(word) >= 1800 and int(word) <= 2020:\n",
    "                word = '2000'\n",
    "            else:\n",
    "                word = '1'\n",
    "        new_words.append(word)\n",
    "    return new_words\n",
    "\n",
    "\n",
    "\n",
    "def removing_accents(word):\n",
    "    \"\"\"\n",
    "    Removes accents from a given word.\n",
    "    \n",
    "    Parameters\n",
    "    ----------\n",
    "    word : str\n",
    "        the word from which we want to remove the accents\n",
    "\n",
    "    Returns\n",
    "    -------\n",
    "    str\n",
    "        the word without accents\n",
    "    \"\"\"\n",
    "    return (word.replace('ά', 'α').replace('έ', 'ε').replace('ή', 'η').replace('ί', 'ι').replace('ό', 'ο').replace('ύ', 'υ')\n",
    "            .replace('ώ', 'ω').replace('ϊ', 'ι').replace('ϋ', 'υ').replace('ΐ', 'ι').replace('ΰ', 'υ'))\n",
    "\n",
    "\n",
    "\n",
    "def stemming(word):\n",
    "    \"\"\"\n",
    "    Implements stemming for a given word.\n",
    "    \n",
    "    Parameters\n",
    "    ----------\n",
    "    word : str\n",
    "        the word that is about to be stemmed\n",
    "\n",
    "    Returns\n",
    "    -------\n",
    "    str\n",
    "        the stem of the given word at uppercase letters\n",
    "    \"\"\"\n",
    "    return stemmer.stem((removing_accents(word)).upper())\n",
    "\n",
    "\n",
    "\n",
    "def classification(dataset_filename, target_column, classifier, target_names, test_size=0.25, stopwords=tokenized_stop_words, \n",
    "                   max_frequency=0.5, min_frequency=6, imbalanced=False):    \n",
    "    \n",
    "    X_train, X_test, y_train, y_test = data_preparation(dataset_filename, target_column, imbalanced=imbalanced)\n",
    "    \n",
    "    switcher = {'svc': SVC(), 'knn': KNeighborsClassifier(), 'decision_tree': DecisionTreeClassifier(), \n",
    "                'random_forest': RandomForestClassifier()}\n",
    "    \n",
    "    switcher2 = {'svc': {'estimator__kernel': ['linear', 'rbf', 'poly', 'sigmoid'], 'estimator__C':[0.1, 1, 10], \n",
    "                        'estimator__degree': [2,3], 'estimator__coef0': [-1, 0, 1]}, \n",
    "                 'knn': {'estimator__n_neighbors': range(10,45,5)}, \n",
    "                 'decision_tree': {'estimator__criterion': ['gini', 'entropy'], 'estimator__splitter': ['best', 'random'], \n",
    "                                   'estimator__max_depth': [4, 8, 16, 32, 64]}, \n",
    "                 'random_forest': {'estimator__n_estimators': range(10, 160, 10), 'estimator__criterion': ['gini', 'entropy'], \n",
    "                                   'estimator__max_depth': [4, 8, 16, 32, 64]}}\n",
    "    \n",
    "    bin_clf = switcher.get(classifier)\n",
    "    param_grid = switcher2.get(classifier)\n",
    "    \n",
    "    clf = OneVsRestClassifier(bin_clf)\n",
    "    \n",
    "    model = GridSearchCV(clf, param_grid, scoring = 'accuracy', cv=5, n_jobs=-1).fit(X_train, y_train)\n",
    "    dump(model.best_estimator_, (classifier + '.joblib')) \n",
    "    \n",
    "    preds = model.predict(X_test)\n",
    "    \n",
    "    results = list(zip(X_test, y_test, preds))\n",
    "    accuracy = accuracy_score(y_test, preds)\n",
    "    rep = classification_report(y_test, preds, target_names=target_names)\n",
    "    return model, results, accuracy, rep"
   ]
  },
  {
   "cell_type": "markdown",
   "metadata": {},
   "source": [
    "Πρώτα δοκιμάζουμε σύμφωνα με το απλούτσερο annotation"
   ]
  },
  {
   "cell_type": "code",
   "execution_count": 4,
   "metadata": {},
   "outputs": [],
   "source": [
    "targets = ['κανένα', 'νευρικό', 'κυκλοφορικό', 'ανοσοποιητικό', 'ουροποιητικό']"
   ]
  },
  {
   "cell_type": "code",
   "execution_count": 5,
   "metadata": {
    "scrolled": true
   },
   "outputs": [],
   "source": [
    "model1, res1, accuracy1, report1 = classification('../data/properties.csv', 'Class1', 'svc', targets)"
   ]
  },
  {
   "cell_type": "code",
   "execution_count": 11,
   "metadata": {},
   "outputs": [
    {
     "name": "stdout",
     "output_type": "stream",
     "text": [
      "               precision    recall  f1-score   support\n",
      "\n",
      "       κανένα       1.00      1.00      1.00       157\n",
      "      νευρικό       1.00      1.00      1.00        81\n",
      "  κυκλοφορικό       0.99      1.00      0.99        75\n",
      "ανοσοποιητικό       1.00      0.99      0.99        86\n",
      " ουροποιητικό       1.00      1.00      1.00       104\n",
      "\n",
      "    micro avg       1.00      1.00      1.00       503\n",
      "    macro avg       1.00      1.00      1.00       503\n",
      " weighted avg       1.00      1.00      1.00       503\n",
      "\n"
     ]
    }
   ],
   "source": [
    "print(report1)"
   ]
  },
  {
   "cell_type": "code",
   "execution_count": 7,
   "metadata": {
    "scrolled": true
   },
   "outputs": [
    {
     "data": {
      "text/plain": [
       "0.9980119284294234"
      ]
     },
     "execution_count": 7,
     "metadata": {},
     "output_type": "execute_result"
    }
   ],
   "source": [
    "accuracy1"
   ]
  },
  {
   "cell_type": "code",
   "execution_count": 8,
   "metadata": {},
   "outputs": [
    {
     "data": {
      "text/plain": [
       "OneVsRestClassifier(estimator=SVC(C=1, cache_size=200, class_weight=None, coef0=-1,\n",
       "  decision_function_shape='ovr', degree=2, gamma='auto_deprecated',\n",
       "  kernel='linear', max_iter=-1, probability=False, random_state=None,\n",
       "  shrinking=True, tol=0.001, verbose=False),\n",
       "          n_jobs=None)"
      ]
     },
     "execution_count": 8,
     "metadata": {},
     "output_type": "execute_result"
    }
   ],
   "source": [
    "model1.best_estimator_"
   ]
  },
  {
   "cell_type": "markdown",
   "metadata": {},
   "source": [
    "Έπειτα, δοκιμάζουμε το πιο μεγάλο annotated dataset"
   ]
  },
  {
   "cell_type": "code",
   "execution_count": 9,
   "metadata": {},
   "outputs": [],
   "source": [
    "targets = ['κανένα', 'νευρικό', 'κυκλοφορικό', 'ανοσοποιητικό', 'ουροποιητικό', 'πεπτικό', 'αναπνευστικό', 'ερειστικό', 'μυϊκό',\n",
    "           'καλυπτήριο', 'αναπαραγωγικό', 'αισθητήριο', 'ενδοκρινών']"
   ]
  },
  {
   "cell_type": "code",
   "execution_count": 12,
   "metadata": {
    "scrolled": true
   },
   "outputs": [],
   "source": [
    "model2, res2, accuracy2, report2 = classification('../data/properties.csv', 'Class2', 'svc', targets)"
   ]
  },
  {
   "cell_type": "code",
   "execution_count": 13,
   "metadata": {},
   "outputs": [
    {
     "name": "stdout",
     "output_type": "stream",
     "text": [
      "               precision    recall  f1-score   support\n",
      "\n",
      "       κανένα       0.99      0.99      0.99       605\n",
      "      νευρικό       0.93      0.91      0.92       300\n",
      "  κυκλοφορικό       0.93      0.94      0.93       487\n",
      "ανοσοποιητικό       0.89      0.94      0.91        85\n",
      " ουροποιητικό       0.93      0.89      0.91       173\n",
      "      πεπτικό       0.93      0.94      0.93       685\n",
      " αναπνευστικό       0.92      0.93      0.93       304\n",
      "    ερειστικό       0.93      0.90      0.92       168\n",
      "        μυϊκό       0.95      0.93      0.94        67\n",
      "   καλυπτήριο       0.94      0.95      0.95       259\n",
      "αναπαραγωγικό       0.94      0.92      0.93       126\n",
      "   αισθητήριο       0.94      0.93      0.94       126\n",
      "   ενδοκρινών       0.98      0.92      0.95        66\n",
      "\n",
      "    micro avg       0.94      0.94      0.94      3451\n",
      "    macro avg       0.94      0.93      0.94      3451\n",
      " weighted avg       0.94      0.94      0.94      3451\n",
      "\n"
     ]
    }
   ],
   "source": [
    "print(report2)"
   ]
  },
  {
   "cell_type": "code",
   "execution_count": 14,
   "metadata": {
    "scrolled": false
   },
   "outputs": [
    {
     "data": {
      "text/plain": [
       "0.9414662416690814"
      ]
     },
     "execution_count": 14,
     "metadata": {},
     "output_type": "execute_result"
    }
   ],
   "source": [
    "accuracy2"
   ]
  },
  {
   "cell_type": "code",
   "execution_count": 15,
   "metadata": {},
   "outputs": [
    {
     "data": {
      "text/plain": [
       "OneVsRestClassifier(estimator=SVC(C=1, cache_size=200, class_weight=None, coef0=-1,\n",
       "  decision_function_shape='ovr', degree=2, gamma='auto_deprecated',\n",
       "  kernel='linear', max_iter=-1, probability=False, random_state=None,\n",
       "  shrinking=True, tol=0.001, verbose=False),\n",
       "          n_jobs=None)"
      ]
     },
     "execution_count": 15,
     "metadata": {},
     "output_type": "execute_result"
    }
   ],
   "source": [
    "model2.best_estimator_"
   ]
  },
  {
   "cell_type": "code",
   "execution_count": 17,
   "metadata": {
    "scrolled": true
   },
   "outputs": [],
   "source": [
    "model3, res3, accuracy3, report3 = classification('../data/properties.csv', 'Class2', 'knn', targets)"
   ]
  },
  {
   "cell_type": "code",
   "execution_count": 18,
   "metadata": {},
   "outputs": [
    {
     "name": "stdout",
     "output_type": "stream",
     "text": [
      "               precision    recall  f1-score   support\n",
      "\n",
      "       κανένα       0.95      0.98      0.96       605\n",
      "      νευρικό       0.83      0.75      0.79       300\n",
      "  κυκλοφορικό       0.81      0.82      0.82       487\n",
      "ανοσοποιητικό       0.84      0.80      0.82        85\n",
      " ουροποιητικό       0.86      0.72      0.78       173\n",
      "      πεπτικό       0.72      0.89      0.79       685\n",
      " αναπνευστικό       0.83      0.79      0.81       304\n",
      "    ερειστικό       0.87      0.73      0.80       168\n",
      "        μυϊκό       0.85      0.42      0.56        67\n",
      "   καλυπτήριο       0.82      0.82      0.82       259\n",
      "αναπαραγωγικό       0.87      0.79      0.82       126\n",
      "   αισθητήριο       0.89      0.67      0.77       126\n",
      "   ενδοκρινών       0.94      0.73      0.82        66\n",
      "\n",
      "    micro avg       0.83      0.83      0.83      3451\n",
      "    macro avg       0.85      0.76      0.80      3451\n",
      " weighted avg       0.83      0.83      0.83      3451\n",
      "\n"
     ]
    }
   ],
   "source": [
    "print(report3)"
   ]
  },
  {
   "cell_type": "code",
   "execution_count": 19,
   "metadata": {
    "scrolled": true
   },
   "outputs": [
    {
     "data": {
      "text/plain": [
       "0.8275862068965517"
      ]
     },
     "execution_count": 19,
     "metadata": {},
     "output_type": "execute_result"
    }
   ],
   "source": [
    "accuracy3"
   ]
  },
  {
   "cell_type": "code",
   "execution_count": 20,
   "metadata": {
    "scrolled": true
   },
   "outputs": [
    {
     "data": {
      "text/plain": [
       "OneVsRestClassifier(estimator=KNeighborsClassifier(algorithm='auto', leaf_size=30, metric='minkowski',\n",
       "           metric_params=None, n_jobs=None, n_neighbors=35, p=2,\n",
       "           weights='uniform'),\n",
       "          n_jobs=None)"
      ]
     },
     "execution_count": 20,
     "metadata": {},
     "output_type": "execute_result"
    }
   ],
   "source": [
    "model3.best_estimator_"
   ]
  },
  {
   "cell_type": "code",
   "execution_count": 21,
   "metadata": {},
   "outputs": [],
   "source": [
    "model4, res4, accuracy4, report4 = classification('../data/properties.csv', 'Class2', 'decision_tree', targets)"
   ]
  },
  {
   "cell_type": "code",
   "execution_count": 22,
   "metadata": {},
   "outputs": [
    {
     "name": "stdout",
     "output_type": "stream",
     "text": [
      "               precision    recall  f1-score   support\n",
      "\n",
      "       κανένα       0.96      0.97      0.96       605\n",
      "      νευρικό       0.91      0.88      0.90       300\n",
      "  κυκλοφορικό       0.89      0.87      0.88       487\n",
      "ανοσοποιητικό       0.85      0.93      0.89        85\n",
      " ουροποιητικό       0.86      0.87      0.87       173\n",
      "      πεπτικό       0.83      0.87      0.85       685\n",
      " αναπνευστικό       0.93      0.86      0.89       304\n",
      "    ερειστικό       0.92      0.83      0.87       168\n",
      "        μυϊκό       0.86      0.96      0.91        67\n",
      "   καλυπτήριο       0.94      0.94      0.94       259\n",
      "αναπαραγωγικό       0.94      0.92      0.93       126\n",
      "   αισθητήριο       0.88      0.91      0.89       126\n",
      "   ενδοκρινών       0.90      0.97      0.93        66\n",
      "\n",
      "    micro avg       0.90      0.90      0.90      3451\n",
      "    macro avg       0.90      0.91      0.90      3451\n",
      " weighted avg       0.90      0.90      0.90      3451\n",
      "\n"
     ]
    }
   ],
   "source": [
    "print(report4)"
   ]
  },
  {
   "cell_type": "code",
   "execution_count": 23,
   "metadata": {},
   "outputs": [
    {
     "data": {
      "text/plain": [
       "0.8980005795421617"
      ]
     },
     "execution_count": 23,
     "metadata": {},
     "output_type": "execute_result"
    }
   ],
   "source": [
    "accuracy4"
   ]
  },
  {
   "cell_type": "code",
   "execution_count": 24,
   "metadata": {
    "scrolled": true
   },
   "outputs": [
    {
     "data": {
      "text/plain": [
       "OneVsRestClassifier(estimator=DecisionTreeClassifier(class_weight=None, criterion='gini', max_depth=16,\n",
       "            max_features=None, max_leaf_nodes=None,\n",
       "            min_impurity_decrease=0.0, min_impurity_split=None,\n",
       "            min_samples_leaf=1, min_samples_split=2,\n",
       "            min_weight_fraction_leaf=0.0, presort=False, random_state=None,\n",
       "            splitter='random'),\n",
       "          n_jobs=None)"
      ]
     },
     "execution_count": 24,
     "metadata": {},
     "output_type": "execute_result"
    }
   ],
   "source": [
    "model4.best_estimator_"
   ]
  },
  {
   "cell_type": "code",
   "execution_count": 25,
   "metadata": {
    "scrolled": true
   },
   "outputs": [],
   "source": [
    "model5, res5, accuracy5, report5 = classification('../data/properties.csv', 'Class2', 'random_forest', targets)"
   ]
  },
  {
   "cell_type": "code",
   "execution_count": 26,
   "metadata": {},
   "outputs": [
    {
     "name": "stdout",
     "output_type": "stream",
     "text": [
      "               precision    recall  f1-score   support\n",
      "\n",
      "       κανένα       0.99      0.99      0.99       605\n",
      "      νευρικό       0.97      0.89      0.93       300\n",
      "  κυκλοφορικό       0.91      0.97      0.94       487\n",
      "ανοσοποιητικό       0.95      0.93      0.94        85\n",
      " ουροποιητικό       0.94      0.87      0.90       173\n",
      "      πεπτικό       0.90      0.96      0.93       685\n",
      " αναπνευστικό       0.91      0.95      0.93       304\n",
      "    ερειστικό       0.93      0.88      0.91       168\n",
      "        μυϊκό       0.93      0.79      0.85        67\n",
      "   καλυπτήριο       0.94      0.94      0.94       259\n",
      "αναπαραγωγικό       0.98      0.90      0.94       126\n",
      "   αισθητήριο       0.95      0.92      0.94       126\n",
      "   ενδοκρινών       0.98      0.86      0.92        66\n",
      "\n",
      "    micro avg       0.94      0.94      0.94      3451\n",
      "    macro avg       0.95      0.91      0.93      3451\n",
      " weighted avg       0.94      0.94      0.94      3451\n",
      "\n"
     ]
    }
   ],
   "source": [
    "print(report5)"
   ]
  },
  {
   "cell_type": "code",
   "execution_count": 27,
   "metadata": {
    "scrolled": false
   },
   "outputs": [
    {
     "data": {
      "text/plain": [
       "0.9394378441031586"
      ]
     },
     "execution_count": 27,
     "metadata": {},
     "output_type": "execute_result"
    }
   ],
   "source": [
    "accuracy5"
   ]
  },
  {
   "cell_type": "code",
   "execution_count": 28,
   "metadata": {},
   "outputs": [
    {
     "data": {
      "text/plain": [
       "OneVsRestClassifier(estimator=RandomForestClassifier(bootstrap=True, class_weight=None, criterion='gini',\n",
       "            max_depth=64, max_features='auto', max_leaf_nodes=None,\n",
       "            min_impurity_decrease=0.0, min_impurity_split=None,\n",
       "            min_samples_leaf=1, min_samples_split=2,\n",
       "            min_weight_fraction_leaf=0.0, n_estimators=140, n_jobs=None,\n",
       "            oob_score=False, random_state=None, verbose=0,\n",
       "            warm_start=False),\n",
       "          n_jobs=None)"
      ]
     },
     "execution_count": 28,
     "metadata": {},
     "output_type": "execute_result"
    }
   ],
   "source": [
    "model5.best_estimator_"
   ]
  },
  {
   "cell_type": "code",
   "execution_count": null,
   "metadata": {},
   "outputs": [],
   "source": []
  }
 ],
 "metadata": {
  "kernelspec": {
   "display_name": "Python 3",
   "language": "python",
   "name": "python3"
  },
  "language_info": {
   "codemirror_mode": {
    "name": "ipython",
    "version": 3
   },
   "file_extension": ".py",
   "mimetype": "text/x-python",
   "name": "python",
   "nbconvert_exporter": "python",
   "pygments_lexer": "ipython3",
   "version": "3.6.10"
  }
 },
 "nbformat": 4,
 "nbformat_minor": 2
}
