{
 "cells": [
  {
   "cell_type": "markdown",
   "metadata": {},
   "source": [
    "# Χαρακτηρισμός δεδομένων με αυτόματο τρόπο"
   ]
  },
  {
   "cell_type": "markdown",
   "metadata": {},
   "source": [
    "Στόχος είναι να χαρακτηρίσουμε με \"έξυπνο\" τρόπο το σύνολο των κειμένων με τις οντότητες που περιέχει το καθένα (και τις θέσεις αυτών στο κείμενο) ώστε να μπορέσουν να χρησιμοποιηθούν σε επόμενο στάδιο για την εκπαίδευση του Named Entity Recognizer. Αυτή η επισήμανση μπορεί να γίνει με αυτόματο τρόπο, πραγματοποιώντας αναζήτηση στα κείμενα με βάση γνωστές οντότητες που μας ενδιαφερούν στην παρούσα εργασία (βότανα, όργανα ανθρώπινου σώματος κλπ.)."
   ]
  },
  {
   "cell_type": "markdown",
   "metadata": {},
   "source": [
    "Φτιάχνουμε 4 αρχεία txt, σε κάθενα από τα οποία βρίσκεται αποθηκευμένη μία λίστα με όρους που θα χρησιμοποιηθούν στην αναζήτηση. Στα αρχεία organs και plants βρίσκονται λέξεις που αποτελούν οντότητες των αντίστοιχων κατηγοριών ενώ στα αρχεία multiword_organs και multiword_plants βρίσκονται πάλι γνωστές οντότητες αυτών των κατηγοριών που αποτελούνται από παραπάνω από μία λέξεις."
   ]
  },
  {
   "cell_type": "markdown",
   "metadata": {},
   "source": [
    "Για να ταιριάξουμε τους όρους αναζήτησης στις λίστες που διαβάσαμε από τα txt, θα χρειαστεί διασπάσουμε τα κείμενα σε λέξεις (tokens). Αυτό γίνεται με τον tokenizer της spaCy για τα Ελληνικά. Επειδή όμως οι λέξεις μπορεί να βρίσκονται σε διάφορες πτώσεις πρέπει να κάνουμε lemmatization ή stemming τόσο στους όρους αναζήτησης όσο και στις λέξεις των κειμένων, ώστε να είναι επιτυχημένο το string matching που θα ακολουθήσει. \n",
    "\n",
    "Δοκιμάσαμε το lemmatizer της spaCy τόσο από το small όσο και από το medium model που διατίθενται για την ελληνική γλώσσα. Αν και το medium απέδωσε καλύτερα, γενικά η λημματοποίηση δεν είχε όσο ικανοποιητικά αποτελέσματα θα θέλαμε. Στα αποτελέσματα παρέμεναν διαφορετικές πτώσεις και πολλές φορές λανθασμένες παραποιήσεις της αρχικής λέξης, όπως θα δούμε στη συνέχεια. Για αυτό στραφήκαμε στη βιβλιοθήκη greek_stemmer που κάνει αποκατάληξη στα Ελληνικά, όπως λέει και το όνομά της. Συγκρίναμε τις δύο μεθόδους σε διάφορα παραδείγματα και όπως φαίνεται παρακάτω ο greek-stemmer αποδίδει καλύτερα και τα αποτελέσματά του φαίνονται να οδηγούν σε καλύτερο string matching αργότερα.\n",
    "\n",
    "Και στις δύο μεθόδους παρατηρήθηκε ότι οι τόνοι μπορεί να οδηγούσαν σε διαφορετικά αποτελέσματα για την ίδια ρίζα, οπότε πρέπει να αφαιρεθούν προτού προχωρήσουμε με τη διαδικασία. Επίσης, η εναλλαγή πεζών κεφαλαίων κάποιες φορές οδήγησε σε διαφορετικά αποτελέσματα, οπότε επιλέχθηκε να μετατραπούν όλες οι λέξεις σε μία από τις δύο μορφές. Μάλιστα, ο greek-stemmer φαίνεται να λειτουργεί μόνο με κεφαλαία οπότε επιλέχθηκε αυτή η μετατροπή.\n",
    "\n",
    "Οι μικρές διαφορές στις πτώσεις και στις καταλήξεις θα μπορούσαν να αντιμετωπιστούν εφαρμόζοντας fuzzy string matching, με υψηλό κατώφλι χαλάρωσης. Ωστόσο υπάρχουν περιπτώσεις όπου απαιτούνταν χαμηλότερο κατώφλι για να ταιριάξουν δυο λέξεις με κοινή ρίζα ενώ ένα πολύ ψηλό επαρκούσε για να ταιριάξουν δύο τελειώς διαφορετικές λέξεις, όπως φαίνεται και στο παρακάτω παράδειγμα. Τέτοια προβλήματα εξακολούθησαν να υπάρχουν, πιο σπάνια βέβαια, ακόμα και όταν συνδυάστηκε η λημματοποίηση του spaCy με fuzzy string matching."
   ]
  },
  {
   "cell_type": "markdown",
   "metadata": {},
   "source": [
    "Παρακάτω φαίνονται κάποια παραδείγματα που μας οδήγησαν σε αυτές τις αποφάσεις."
   ]
  },
  {
   "cell_type": "code",
   "execution_count": 11,
   "metadata": {},
   "outputs": [
    {
     "name": "stdout",
     "output_type": "stream",
     "text": [
      "46\n",
      "92\n"
     ]
    }
   ],
   "source": [
    "from fuzzywuzzy import process, fuzz\n",
    "print(fuzz.ratio('έντερα', 'εντέρου'))\n",
    "print(fuzz.ratio('καρδιά', 'καρυδιά'))"
   ]
  },
  {
   "cell_type": "code",
   "execution_count": 1,
   "metadata": {},
   "outputs": [],
   "source": [
    "import spacy\n",
    "import el_core_news_md\n",
    "nlp = el_core_news_md.load()"
   ]
  },
  {
   "cell_type": "code",
   "execution_count": 2,
   "metadata": {
    "scrolled": true
   },
   "outputs": [],
   "source": [
    "from greek_stemmer import GreekStemmer\n",
    "stemmer = GreekStemmer()"
   ]
  },
  {
   "cell_type": "markdown",
   "metadata": {},
   "source": [
    "Παρακάτω παραθέτουμε κάποια παραδείγματα όπου φαίνεται η σύγκριση της λημματοποίησης με spaCy και της αποκατάληξης με greek_stemmer."
   ]
  },
  {
   "cell_type": "code",
   "execution_count": 3,
   "metadata": {
    "scrolled": true
   },
   "outputs": [
    {
     "name": "stdout",
     "output_type": "stream",
     "text": [
      "ΚΑΡΔΙΑ καρδιο ΚΑΡΔ\n",
      "ΚΑΡΔΙΑ καρδιο ΚΑΡΔ\n",
      "ΚΑΡΔΙΑ καρδιο ΚΑΡΔ\n",
      "ΚΑΡΔΙΑΣ καρδια ΚΑΡΔ\n",
      "ΚΑΡΔΙΑΣ ΚΑΡΔΙΑΣ ΚΑΡΔ\n",
      "ΚΑΡΔΙΑΣ ΚΑΡΔΙΑΣ ΚΑΡΔ\n",
      "ΚΑΡΔΙΕΣ ΚΑΡΔΙΕΣ ΚΑΡΔ\n",
      "ΚΑΡΔΙΕΣ ΚΑΡΔΙΕΣ ΚΑΡΔ\n",
      "ΚΑΡΔΙΩΝ ΚΑΡΔΙΩΝ ΚΑΡΔ\n",
      "ΚΑΡΔΙΩΝ καρδιων ΚΑΡΔ\n",
      "ΚΑΡΔΙΩΝ καρδιων ΚΑΡΔ\n"
     ]
    }
   ],
   "source": [
    "t = nlp('καρδια ΚΑΡΔΙΑ Καρδια καρδιας Καρδιας ΚΑΡΔΙΑΣ καρδιες ΚΑΡΔΙΕΣ καρδιων Καρδιων ΚΑΡΔΙΩΝ'.upper())\n",
    "for token in t:\n",
    "    print(token.text,token.lemma_,stemmer.stem(token.text))"
   ]
  },
  {
   "cell_type": "code",
   "execution_count": 4,
   "metadata": {
    "scrolled": true
   },
   "outputs": [
    {
     "name": "stdout",
     "output_type": "stream",
     "text": [
      "ΕΝΤΕΡΑ εντερα ΕΝΤΕΡ\n",
      "ΕΝΤΕΡΑ εντερα ΕΝΤΕΡ\n",
      "ΕΝΤΕΡΩΝ εντερο ΕΝΤΕΡ\n",
      "ΕΝΤΕΡΑ εντερα ΕΝΤΕΡ\n",
      "ΕΝΤΕΡΩΝ εντερο ΕΝΤΕΡ\n",
      "ΕΝΤΕΡΩΝ εντερο ΕΝΤΕΡ\n",
      "ΕΝΤΕΡΩΝ εντερο ΕΝΤΕΡ\n",
      "ΕΝΤΕΡΟ εντερο ΕΝΤΕΡ\n",
      "ΕΝΤΕΡΟ εντερο ΕΝΤΕΡ\n",
      "ΕΝΤΕΡΟ εντερο ΕΝΤΕΡ\n",
      "ΕΝΤΕΡΟΥ εντερο ΕΝΤΕΡ\n",
      "ΕΝΤΕΡΟΥ εντερο ΕΝΤΕΡ\n",
      "ΕΝΤΕΡΟΥ εντερο ΕΝΤΕΡ\n",
      "ΕΝΤΕΡΟΥ εντερο ΕΝΤΕΡ\n"
     ]
    }
   ],
   "source": [
    "t = nlp('εντερα Εντερα εντερων ΕΝΤΕΡΑ Εντερων εντερων ΕΝΤΕΡΩΝ εντερο Εντερο ΕΝΤΕΡΟ εντερου Εντερου ΕΝΤΕΡΟΥ εντερου'.upper())\n",
    "for token in t:\n",
    "    print(token.text,token.lemma_,stemmer.stem(token.text))"
   ]
  },
  {
   "cell_type": "code",
   "execution_count": 5,
   "metadata": {
    "scrolled": false
   },
   "outputs": [
    {
     "name": "stdout",
     "output_type": "stream",
     "text": [
      "ΟΥΡΟΠΟΙΗΤΙΚΟ ουροποιητικος ΟΥΡΟΠΟΙΗΤ\n",
      "ΟΥΡΟΠΟΙΗΤΙΚΟΥ ουροποιητικο ΟΥΡΟΠΟΙΗΤ\n",
      "ΟΥΡΟΠΟΙΗΤΙΚΟΥ ουροποιητικο ΟΥΡΟΠΟΙΗΤ\n",
      "ΟΥΡΟΠΟΙΗΤΙΚΟΥ ουροποιητικο ΟΥΡΟΠΟΙΗΤ\n",
      "ΟΥΡΟΠΟΙΗΤΙΚΟΥ ουροποιητικο ΟΥΡΟΠΟΙΗΤ\n",
      "ΟΥΡΟΠΟΙΗΤΙΚΟ ουροποιητικος ΟΥΡΟΠΟΙΗΤ\n"
     ]
    }
   ],
   "source": [
    "t = nlp('ουροποιητικο ουροποιητικου ουροποιητικου ουροποιητικου ΟΥΡΟΠΟΙΗΤΙΚΟΥ Ουροποιητικο'.upper())\n",
    "for token in t:\n",
    "    print(token.text,token.lemma_,stemmer.stem(token.text))"
   ]
  },
  {
   "cell_type": "code",
   "execution_count": 6,
   "metadata": {
    "scrolled": true
   },
   "outputs": [
    {
     "name": "stdout",
     "output_type": "stream",
     "text": [
      "ΕΝΔΟΚΡΙΝΕΙΣ ενδοκρινεις ΕΝΔΟΚΡΙΝ\n",
      "ΕΝΔΟΚΡΙΝΕΙΣ ενδοκρινεις ΕΝΔΟΚΡΙΝ\n",
      "ΕΝΔΟΚΡΙΝΩΝ ενδοκρινος ΕΝΔΟΚΡΙΝ\n",
      "ΕΝΔΟΚΡΙΝΩΝ ενδοκρινος ΕΝΔΟΚΡΙΝ\n",
      "ΕΝΔΟΚΡΙΝΩΝ ενδοκρινος ΕΝΔΟΚΡΙΝ\n",
      "ΕΝΔΟΚΡΙΝΗΣ ΕΝΔΟΚΡΙΝΗΣ ΕΝΔΟΚΡΙΝ\n",
      "ΕΝΔΟΚΡΙΝΗΣ ΕΝΔΟΚΡΙΝΗΣ ΕΝΔΟΚΡΙΝ\n",
      "ΕΝΔΟΚΡΙΝΗΣ ΕΝΔΟΚΡΙΝΗΣ ΕΝΔΟΚΡΙΝ\n"
     ]
    }
   ],
   "source": [
    "t = nlp('ενδοκρινεις Ενδοκρινεις Ενδοκρινων ΕΝΔΟΚΡΙΝΩΝ ενδοκρινων ενδοκρινης Ενδοκρινης ΕΝΔΟΚΡΙΝΗΣ'.upper())\n",
    "for token in t:\n",
    "    print(token.text,token.lemma_,stemmer.stem(token.text))"
   ]
  },
  {
   "cell_type": "code",
   "execution_count": 7,
   "metadata": {
    "scrolled": false
   },
   "outputs": [
    {
     "name": "stdout",
     "output_type": "stream",
     "text": [
      "ΩΟΘΗΚΕΣ ωοθηκα ΩΟΘΗΚ\n",
      "ΩΟΘΗΚΕΣ ωοθηκα ΩΟΘΗΚ\n",
      "ΩΟΘΗΚΕΣ ωοθηκα ΩΟΘΗΚ\n",
      "ΩΟΘΗΚΩΝ ωοθηκων ΩΟΘΗΚ\n",
      "ΩΟΘΗΚΗ ωοθηκη ΩΟΘΗΚ\n",
      "ΩΟΘΗΚΩΝ ωοθηκων ΩΟΘΗΚ\n",
      "ΩΟΘΗΚΩΝ ωοθηκων ΩΟΘΗΚ\n",
      "ΩΟΘΗΚΗ ωοθηκη ΩΟΘΗΚ\n",
      "ΩΟΘΗΚΕΣ ωοθηκα ΩΟΘΗΚ\n",
      "ΩΟΘΗΚΕΣ ωοθηκα ΩΟΘΗΚ\n",
      "ΩΟΘΗΚΕΣ ωοθηκα ΩΟΘΗΚ\n",
      "ΩΟΘΗΚΕΣ ωοθηκα ΩΟΘΗΚ\n",
      "ΩΟΘΗΚΕΣ ωοθηκα ΩΟΘΗΚ\n"
     ]
    }
   ],
   "source": [
    "t = nlp('ωοθηκες Ωοθηκες ΩΟΘΗΚΕΣ ωοθηκων ωοθηκη Ωοθηκων ΩΟΘΗΚΩΝ Ωοθηκη ωοθηκες ωοθηκες ωοθηκες ωοθηκες ωοθηκες'.upper())\n",
    "for token in t:\n",
    "    print(token.text,token.lemma_,stemmer.stem(token.text))"
   ]
  },
  {
   "cell_type": "code",
   "execution_count": 8,
   "metadata": {
    "scrolled": false
   },
   "outputs": [
    {
     "name": "stdout",
     "output_type": "stream",
     "text": [
      "ΡΙΝΙΚΟΣ ρινικος ΡΙΝ\n",
      "ΡΙΝΙΚΗ ρινικη ΡΙΝ\n",
      "ΡΙΝΙΚΗ ρινικη ΡΙΝ\n",
      "ΡΙΝΙΚΗ ρινικη ΡΙΝ\n",
      "ΡΙΝΙΚΕΣ ΡΙΝΙΚΕΣ ΡΙΝ\n",
      "ΡΙΝΙΚΕΣ ΡΙΝΙΚΕΣ ΡΙΝ\n",
      "ΡΙΝΙΚΕΣ ΡΙΝΙΚΕΣ ΡΙΝ\n",
      "ΡΙΝΙΚΕΣ ΡΙΝΙΚΕΣ ΡΙΝ\n",
      "ΡΙΝΙΚΕΣ ΡΙΝΙΚΕΣ ΡΙΝ\n"
     ]
    }
   ],
   "source": [
    "t = nlp('ρινικος ρινικη Ρινικη ΡΙΝΙΚΗ ρινικες ΡΙΝΙΚΕΣ ρινικες ρινικες ρινικες'.upper())\n",
    "for token in t:\n",
    "    print(token.text,token.lemma_,stemmer.stem(token.text))"
   ]
  },
  {
   "cell_type": "code",
   "execution_count": 9,
   "metadata": {
    "scrolled": true
   },
   "outputs": [
    {
     "name": "stdout",
     "output_type": "stream",
     "text": [
      "ΣΜΗΓΜΑΤΟΓΟΝΟΣ ΣΜΗΓΜΑΤΟΓΟΝΟΣ ΣΜΗΓΜΑΤΟΓΟΝ\n",
      "ΣΜΗΓΜΑΤΟΓΟΝΟΙ ΣΜΗΓΜΑΤΟΓΟΝΟΙ ΣΜΗΓΜΑΤΟΓΟΝ\n",
      "ΣΜΗΓΜΑΤΑΓΟΝΟΙ σμηγματαγονοι ΣΜΗΓΜΑΤΑΓΟΝ\n",
      "ΣΜΗΓΜΑΤΟΓΟΝΩΝ ΣΜΗΓΜΑΤΟΓΟΝΩΝ ΣΜΗΓΜΑΤΟΓΟΝ\n",
      "ΣΜΗΓΜΑΤΟΓΟΝΩΝ ΣΜΗΓΜΑΤΟΓΟΝΩΝ ΣΜΗΓΜΑΤΟΓΟΝ\n"
     ]
    }
   ],
   "source": [
    "t = nlp('σμηγματογονος σμηγματογονοι Σμηγματαγονοι σμηγματογονων ΣΜΗΓΜΑΤΟΓΟΝΩΝ'.upper())\n",
    "for token in t:\n",
    "    print(token.text,token.lemma_,stemmer.stem(token.text))"
   ]
  },
  {
   "cell_type": "code",
   "execution_count": 10,
   "metadata": {
    "scrolled": false
   },
   "outputs": [
    {
     "name": "stdout",
     "output_type": "stream",
     "text": [
      "ΑΓΚΙΝΑΡΑ αγκιναρας ΑΓΚΙΝΑΡ\n",
      "ΑΓΚΙΝΑΡΕΣ αγκιναρε ΑΓΚΙΝΑΡ\n",
      "ΑΓΚΙΝΑΡΕΣ αγκιναρε ΑΓΚΙΝΑΡ\n",
      "ΑΓΚΙΝΑΡΩΝ αγκιναρων ΑΓΚΙΝΑΡ\n",
      "ΑΓΚΙΝΑΡΑΣ αγκιναρας ΑΓΚΙΝΑΡ\n"
     ]
    }
   ],
   "source": [
    "t = nlp('αγκιναρα αγκιναρες ΑΓΚΙΝΑΡΕΣ αγκιναρων Αγκιναρας'.upper())\n",
    "for token in t:\n",
    "    print(token.text,token.lemma_,stemmer.stem(token.text))"
   ]
  },
  {
   "cell_type": "code",
   "execution_count": 11,
   "metadata": {
    "scrolled": false
   },
   "outputs": [
    {
     "name": "stdout",
     "output_type": "stream",
     "text": [
      "ΑΝΗΘΟΣ ανηθος ΑΝΗΘ\n",
      "ΑΝΗΘΟΥ ανηθο ΑΝΗΘ\n",
      "ΑΝΗΘΟ ανηθο ΑΝΗΘ\n",
      "ΑΝΗΘΟ ανηθο ΑΝΗΘ\n"
     ]
    }
   ],
   "source": [
    "t = nlp('Ανηθος ανηθου ανηθο ΑΝΗΘΟ'.upper())\n",
    "for token in t:\n",
    "    print(token.text,token.lemma_,stemmer.stem(token.text))"
   ]
  },
  {
   "cell_type": "code",
   "execution_count": 12,
   "metadata": {
    "scrolled": false
   },
   "outputs": [
    {
     "name": "stdout",
     "output_type": "stream",
     "text": [
      "ΔΑΜΑΣΚΗΝΙΑ δαμασκηνια ΔΑΜΑΣΚΗΝ\n",
      "ΔΑΜΑΣΚΗΝΑ δαμασκηνα ΔΑΜΑΣΚΗΝ\n",
      "ΔΑΜΑΣΚΗΝΟ δαμασκηνο ΔΑΜΑΣΚΗΝ\n",
      "ΔΑΜΑΣΚΗΝΩΝ δαμασκηνα ΔΑΜΑΣΚΗΝ\n",
      "ΔΑΜΑΣΚΗΝΟΥ δαμασκηνου ΔΑΜΑΣΚΗΝ\n",
      "ΔΜΑΣΚΗΝΙΑΣ δμασκηνιας ΔΜΑΣΚΗΝ\n"
     ]
    }
   ],
   "source": [
    "t = nlp('Δαμασκηνια δαμασκηνα ΔΑΜΑΣΚΗΝΟ δαμασκηνων Δαμασκηνου δμασκηνιας'.upper())\n",
    "for token in t:\n",
    "    print(token.text,token.lemma_,stemmer.stem(token.text))"
   ]
  },
  {
   "cell_type": "code",
   "execution_count": 13,
   "metadata": {
    "scrolled": true
   },
   "outputs": [
    {
     "name": "stdout",
     "output_type": "stream",
     "text": [
      "ΚΡΕΜΜΥΔΙ ΚΡΕΜΜΥΔΙ ΚΡΕΜΜΥΔ\n",
      "ΚΡΕΜΜΥΔΑ κρεμμυδας ΚΡΕΜΜΥΔ\n",
      "ΚΡΕΜΜΥΔΙΑ κρεμμυδια ΚΡΕΜΜΥΔ\n",
      "ΚΡΕΜΜΥΔΙΩΝ κρεμμυδιων ΚΡΕΜΜΥΔ\n",
      "ΚΡΕΜΜΥΔΙΟΥ κρεμμυδιου ΚΡΕΜΜΥΔ\n"
     ]
    }
   ],
   "source": [
    "t = nlp('κρεμμυδι Κρεμμυδα κρεμμυδια κρεμμυδιων Κρεμμυδιου'.upper())\n",
    "for token in t:\n",
    "    print(token.text,token.lemma_,stemmer.stem(token.text))"
   ]
  },
  {
   "cell_type": "code",
   "execution_count": 14,
   "metadata": {
    "scrolled": true
   },
   "outputs": [
    {
     "name": "stdout",
     "output_type": "stream",
     "text": [
      "ΚΥΣΤΗ κυστη ΚΥΣΤ\n",
      "ΚΥΣΤΗΣ κυστη ΚΥΣΤ\n",
      "ΚΥΣΤΕΩΣ κυστεως ΚΥΣΤ\n",
      "ΚΥΣΤΩΝ ΚΥΣΤΩΝ ΚΥΣΤ\n",
      "ΚΥΣΤΕΣ κυστε ΚΥΣΤ\n",
      "ΚΥΣΤΕΙΣ κυστει ΚΥΣΤ\n"
     ]
    }
   ],
   "source": [
    "t = nlp('κυστη κυστης κυστεως κυστων κυστες κυστεις'.upper())\n",
    "for token in t:\n",
    "    print(token.text,token.lemma_,stemmer.stem(token.text))"
   ]
  },
  {
   "cell_type": "code",
   "execution_count": 15,
   "metadata": {
    "scrolled": false
   },
   "outputs": [
    {
     "name": "stdout",
     "output_type": "stream",
     "text": [
      "ΑΔΕΝΑΣ αδενας ΑΔΕΝ\n",
      "ΑΔΕΝΩΝ αδενο ΑΔΕΝ\n",
      "ΑΔΕΝΑ αδενας ΑΔΕΝ\n"
     ]
    }
   ],
   "source": [
    "t = nlp('αδενας αδενων αδενα'.upper())\n",
    "for token in t:\n",
    "    print(token.text,token.lemma_,stemmer.stem(token.text))"
   ]
  },
  {
   "cell_type": "code",
   "execution_count": 16,
   "metadata": {
    "scrolled": true
   },
   "outputs": [
    {
     "name": "stdout",
     "output_type": "stream",
     "text": [
      "ΑΓΓΕΛΙΚΗ ΑΓΓΕΛΙΚΗ ΑΓΓΕΛ\n",
      "ΑΓΓΕΛΙΚΗΣ ΑΓΓΕΛΙΚΗΣ ΑΓΓΕΛ\n",
      "ΒΑΣΙΛΙΚΟΣ βασιλικος ΒΑΣΙΛ\n",
      "ΒΑΣΙΛΙΚΟΥ βασιλικος ΒΑΣΙΛ\n",
      "ΒΑΣΙΛΙΚΟ βασιλικος ΒΑΣΙΛ\n",
      "ΚΟΧΛΙΚΟ ΚΟΧΛΙΚΟ ΚΟΧΛ\n",
      "ΚΟΧΛΙΚΟΥ κοχλικου ΚΟΧΛ\n",
      "ΜΗΔΙΚΗ μηδικη ΜΗΔ\n",
      "ΜΗΔΙΚΗΣ μηδικης ΜΗΔ\n",
      "ΣΥΝΑΜΙΚΗ συναμικη ΣΥΝΑΜ\n",
      "ΣΥΝΑΜΙΚΗΣ συναμικης ΣΥΝΑΜ\n",
      "ΜΥΤΕΡΟ μυτερο ΜΥΤ\n",
      "ΜΑΣΤΟ μαστο ΜΑΣΤ\n",
      "ΜΑΣΤΟ ΜΑΣΤΟ ΜΑΣΤ\n"
     ]
    }
   ],
   "source": [
    "t = nlp('αγγελικη αγγελικης βασιλικος βασιλικου βασιλικο κοχλικο κοχλικου μηδικη μηδικης συναμικη συναμικης μυτερο μαςΤο μαστο'.upper())\n",
    "for token in t:\n",
    "    print(token.text,token.lemma_,stemmer.stem(token.text))"
   ]
  },
  {
   "cell_type": "code",
   "execution_count": 17,
   "metadata": {
    "scrolled": true
   },
   "outputs": [
    {
     "name": "stdout",
     "output_type": "stream",
     "text": [
      "ΜΥΕΣ μυα ΜΥ\n",
      "ΜΥΩΝ μυων ΜΥ\n",
      "ΜΥΟΥΜΑΙ μυουμαι ΜΥ\n",
      "ΜΥΗΘΕΙ ΜΥΗΘΕΙ ΜΥ\n",
      "ΜΥΗΣΗ μυηση ΜΥΗΣ\n",
      "ΜΥΕΙΤΑΙ μυειται ΜΥΕΙΤΑ\n",
      "ΜΥΕΙΤΕ μυειτε ΜΥ\n",
      "ΜΥΟΥΜΕ μυουμε ΜΥ\n",
      "ΜΥΕΙΣ μυεις ΜΥ\n",
      "ΜΥΩ μυω ΜΥ\n",
      "ΜΥΣ μυς Μ\n",
      "ΜΥ μυ ΜΥ\n"
     ]
    }
   ],
   "source": [
    "t = nlp('μυες μυων μυουμαι μυηθει μυηση μυειται μυειτε μυουμε μυεις μυω μυς μυ'.upper())\n",
    "for token in t:\n",
    "    print(token.text,token.lemma_,stemmer.stem(token.text))"
   ]
  },
  {
   "cell_type": "code",
   "execution_count": 13,
   "metadata": {},
   "outputs": [],
   "source": [
    "import pandas as pd\n",
    "import numpy as np\n",
    "\n",
    "import spacy\n",
    "import el_core_news_md\n",
    "nlp = el_core_news_md.load()\n",
    "stop_words = nlp.Defaults.stop_words\n",
    "stop_words |= {'.',',',';','?',':','!',' ','&','/','ή','-','(',')','[',']','{','}','\"','\"','`','~','\\xa0','αυτώ'}\n",
    "wrong_entities = ['πορτοκαλί','ρέικι','ίτα','μεα','μεις','μυρτω','μυρτώ','μυρτούς','τζιτζιφέ','σουρβώ','άρτεμις','ατρεμις',\n",
    "                 'νηρέα','νηρέας','νηρεα','βαλσάμικο', 'κροκί','σιελογόνα','αμάραντα','γλώσσες','γλωσσών','πουρνάρα']\n",
    "\n",
    "from greek_stemmer import GreekStemmer\n",
    "stemmer = GreekStemmer()\n",
    "\n",
    "\n",
    "\n",
    "def search_terms_from_txt(filename, encoding):\n",
    "    \"\"\"\n",
    "    Reads the content of a txt file and produces a list of strings \n",
    "    -in our case a list of search terms- separated by comma.\n",
    "\n",
    "    Parameters\n",
    "    ----------\n",
    "    filename : str\n",
    "        the path (relative or absolute) of the txt file \n",
    "        which contains search terms\n",
    "    encoding : str\n",
    "        the encoding of the txt file which contains search terms\n",
    "\n",
    "    Returns\n",
    "    -------\n",
    "    list\n",
    "        a list of strings - search terms (mutliword or singleword)\n",
    "    \"\"\"\n",
    "    with open(filename,'r',encoding=encoding) as f:\n",
    "        content = f.readlines()\n",
    "    content = [x.strip() for x in content] \n",
    "    for term in content:\n",
    "        search_terms = term.split(',')\n",
    "    return search_terms\n",
    "\n",
    "\n",
    "\n",
    "def removing_accents(word):\n",
    "    \"\"\"\n",
    "    Removes accents from a given word.\n",
    "    \n",
    "    Parameters\n",
    "    ----------\n",
    "    word : str\n",
    "        the word from which we want to remove the accents\n",
    "\n",
    "    Returns\n",
    "    -------\n",
    "    str\n",
    "        the word without accents\n",
    "    \"\"\"\n",
    "    return (word.replace('ά', 'α').replace('έ', 'ε').replace('ή', 'η').replace('ί', 'ι').replace('ό', 'ο').replace('ύ', 'υ')\n",
    "            .replace('ώ', 'ω').replace('ϊ', 'ι').replace('ϋ', 'υ').replace('ΐ', 'ι').replace('ΰ', 'υ').replace('Ά', 'Α')\n",
    "            .replace('Έ', 'Ε').replace('Ή', 'Η').replace('Ί', 'Ι').replace('Ό', 'Ο').replace('Ύ', 'Υ').replace('Ϊ', 'Ι')\n",
    "            .replace('Ϋ', 'Υ'))\n",
    "\n",
    "\n",
    "\n",
    "def expand_stop_words(stop_words_set):\n",
    "    \"\"\"\n",
    "    Add stop words without accents.\n",
    "    \n",
    "    Parameters\n",
    "    ----------\n",
    "    stop_words_set : set\n",
    "        the set of the already existing stop words\n",
    "\n",
    "    Returns\n",
    "    -------\n",
    "    list\n",
    "        a list that contains all the stopwords with or without accents\n",
    "    \"\"\"\n",
    "    new_stop_words = [word for word in stop_words_set]\n",
    "    new_stop_words += [removing_accents(word) for word in stop_words_set]\n",
    "    return new_stop_words\n",
    "\n",
    "\n",
    "\n",
    "def stemming(word):\n",
    "    \"\"\"\n",
    "    Implements stemming for a given word.\n",
    "    \n",
    "    Parameters\n",
    "    ----------\n",
    "    word : str\n",
    "        the word that is about to be stemmed\n",
    "\n",
    "    Returns\n",
    "    -------\n",
    "    str\n",
    "        the stem of the given word at uppercase letters\n",
    "    \"\"\"\n",
    "    return stemmer.stem((removing_accents(word)).upper())\n",
    "\n",
    "\n",
    "\n",
    "def multiword_terms_look_up_list(search_terms_list):\n",
    "    \"\"\"\n",
    "    Given a list of search terms where each of them contains\n",
    "    multiple words, produces a list of lists with the stems\n",
    "    of their tokens.\n",
    "\n",
    "    Parameters\n",
    "    ----------\n",
    "    search_terms_list : list\n",
    "        the list that contains the multiword search terms\n",
    "\n",
    "    Returns\n",
    "    -------\n",
    "    list\n",
    "        a list of lists, each of them containing the stems of \n",
    "        the tokens of one multiword search term\n",
    "    \"\"\"\n",
    "    look_up_list_parts = []\n",
    "    for term in search_terms_list:\n",
    "        stem_parts = [stemming(part) for part in term.split(' ')]\n",
    "        look_up_list_parts +=[stem_parts]\n",
    "    return look_up_list_parts\n",
    "\n",
    "\n",
    "\n",
    "def singleword_terms_look_up_list(search_terms_list):\n",
    "    \"\"\"\n",
    "    Given a list of singleword search terms, produces a list of \n",
    "    lists with their stems.\n",
    "\n",
    "    Parameters\n",
    "    ----------\n",
    "    search_terms_list : list\n",
    "        the list that contains the singleword search terms\n",
    "\n",
    "    Returns\n",
    "    -------\n",
    "    list\n",
    "        a list of the stems of the elements of the given list\n",
    "    \"\"\"\n",
    "    return list(np.unique([stemming(term) for term in search_terms_list]))\n",
    "\n",
    "\n",
    "\n",
    "def text_to_tokens_stems(text):\n",
    "    \"\"\"\n",
    "    Given a text, produces a list of its stemmed tokens, excluding\n",
    "    the stop words.\n",
    "\n",
    "    Parameters\n",
    "    ----------\n",
    "    text : str\n",
    "        the given text that is about to be tokenized\n",
    "\n",
    "    Returns\n",
    "    -------\n",
    "    list\n",
    "        a list of tuples that contain the tokens of the given text,\n",
    "        the stemmed text of them (str), the start position (int) \n",
    "        and the end position (int) of them in te text and a boolean \n",
    "        variable which indicates whether the token has been already\n",
    "        identified as a part of an entity or not\n",
    "    \"\"\"\n",
    "    text2 = nlp(text)\n",
    "    tokens_list = []\n",
    "    # keep token, text of token, start and end index of token in text \n",
    "    # and whether it belongs to an entity or not\n",
    "    for token in text2:\n",
    "        tokens_list += [(token, token.text, token.idx, token.idx + len(token), False)]\n",
    "    expanded_stopwords = expand_stop_words(stop_words)\n",
    "    # remove stop words\n",
    "    tokens = [(a,b,c,d,e) for (a,b,c,d,e) in tokens_list if not(a.is_stop or (a.lower_ in expanded_stopwords) \n",
    "                                                                or (a.lemma_ in expanded_stopwords))]\n",
    "    # preparation and stemming of each token\n",
    "    final_tokens = [(a, stemming(b), c, d,e) for (a,b,c,d,e) in tokens]\n",
    "    return final_tokens\n",
    "\n",
    "\n",
    "\n",
    "def check_iko_suffix(word, stem):\n",
    "    \"\"\"\n",
    "    Given a word, checks whether it is an adjective\n",
    "    or an existing entity.\n",
    "\n",
    "    Parameters\n",
    "    ----------\n",
    "    word : str\n",
    "        the word to be checked\n",
    "        \n",
    "    stem : str\n",
    "        the stem of the given word\n",
    "\n",
    "    Returns\n",
    "    -------\n",
    "    boolean\n",
    "        True if it is a correct entinty and not an adjective.\n",
    "    \"\"\"\n",
    "    return (not((word).endswith('ικός') or (word).endswith('ικού') or (word).endswith('ικό') or (word).endswith('ικέ') \n",
    "                or (word).endswith('ικοί') or (word).endswith('ικών') or (word).endswith('ικούς') or (word).endswith('ική') \n",
    "                or (word).endswith('ικής') or (word).endswith('ικές') or (word).endswith('ικά')) \n",
    "            or (stem == 'ΑΓΓΕΛ' or stem == 'ΒΑΣΙΛ' or stem == 'ΚΟΧΛ' or stem == 'ΜΗΔ' or stem == 'ΣΙΝΑΜ' or stem == 'ΣΥΝΑΜ'))\n",
    "\n",
    "\n",
    "\n",
    "def wrong_entity(word):\n",
    "    \"\"\"\n",
    "    Given a word, checks whether it is a correct entity or not.\n",
    "\n",
    "    Parameters\n",
    "    ----------\n",
    "    word : str\n",
    "        the word to be checked\n",
    "\n",
    "    Returns\n",
    "    -------\n",
    "    boolean\n",
    "        True if it is not an entinty.\n",
    "    \"\"\"\n",
    "    word = word.lower()\n",
    "    return (('λευκ' in word) or ('μυτερ' in word) or ('πιπερατ' in word) or (('αγν' in word) and not ('αγνι' in word))\n",
    "           or (('αρν' in word) and not ('ίκη' in word)) or \n",
    "            (('βασίλ' in word) or (('βασιλ' in word) and not ('ικό' in word or 'ικο' in word or 'ικέ' in word or 'ικώ' in word)))\n",
    "           or (('κασταν' in word) and not ('καστανι' in word)) \n",
    "           or ('κένταυρ' in word or ('κενταύρ' in word and not ('κενταύρι' in word))) or ('πνευμονί' in word)\n",
    "           or ('βήχ' in word and not ('βήχι' in word)) or ('σπάρτη' in word) \n",
    "           or ('μαραθ' in word or ('μαράθ' in word and not ('μαράθο' in word or 'μαράθω' in word)))\n",
    "           or ('φτερ' in word) or (('γαλ' in word) or ('γάλ' in word and not ('γάλι' in word)))\n",
    "           or ('μήλι' in word) or ('γκουαράν' in word and not ('γκουαράνα' in word))\n",
    "           or ('μάλλ' in word) or ('μπελλ' in word) or (('ματιά' in word) or ('ματιέ' in word)) or ('μαςτ' in word)\n",
    "           or ('κυμίνη' in word) or ('άγγελ' in word or 'αγγέλ' in word or ('αγγελ' in word and not ('αγγελική' in word)))\n",
    "           or ('μήδ' in word or ('μηδ' in word and not ('μηδική' in word)))\n",
    "           or ('βρωμ' in word or ('βρώμ' in word and not ('βρώμη' in word)))\n",
    "           or ('θάψ' in word and not ('θάψι' in word))\n",
    "           or ('κάψ' in word)\n",
    "           or ('ψύλλ' in word and not ('ψύλλι' in word))\n",
    "           or (stemming(word) == 'ΜΥ' and not (word == 'μυ' or removing_accents(word) == 'μυες' \n",
    "                                               or removing_accents(word) == 'μυων'))\n",
    "           or word in wrong_entities)\n",
    "\n",
    "\n",
    "\n",
    "def annotation(input_csv_filename, known_entities_with_labels, output_csv_filename):\n",
    "    \"\"\"\n",
    "    Annotates the texts in an input csv file with their entities.\n",
    "    The entities are detected through a search process using \n",
    "    predefined already known entities and their labels. The \n",
    "    annotated data are stored in a new output csv file.\n",
    "\n",
    "    Parameters\n",
    "    ----------\n",
    "    input_csv_file : str\n",
    "        the path (relative or absolute) of the file that contains\n",
    "        the texts\n",
    "        \n",
    "    known_entities_with_labels : list\n",
    "        list of tuples each of them referring to a category of entities\n",
    "        each tuple contains a path of a txt file with singleword\n",
    "        search terms - known entities (str), a path of a txt file with\n",
    "        multiword search terms - known entities (str) and the label of\n",
    "        the category of entities that they belong (str)\n",
    "        \n",
    "    output_csv_filename : str\n",
    "        the path (relative or absolute) of the output file where the\n",
    "        annotated data will be stored        \n",
    "    \"\"\"\n",
    "    df_texts = pd.read_csv(input_csv_filename)\n",
    "    df_texts['entities'] = np.empty((len(df_texts), 0)).tolist()\n",
    "    \n",
    "    entities_lists = [(multiword_terms_look_up_list(search_terms_from_txt(multiword_list_filename, 'utf-8')), \n",
    "                       singleword_terms_look_up_list(search_terms_from_txt(singleword_list_filename, 'utf-8')), label) \n",
    "                      for (singleword_list_filename, multiword_list_filename, label) in known_entities_with_labels]\n",
    "\n",
    "    total_singleword_entities = []\n",
    "    # for each text\n",
    "    for k in range(df_texts.shape[0]):\n",
    "        entities = []\n",
    "        text = df_texts.iloc[k]['text']\n",
    "        #tokenization and stemming of the text\n",
    "        text_tokens = text_to_tokens_stems(text)\n",
    "        \n",
    "        # firstly annotation of multiword entities \n",
    "        for (multiword_look_up_list, _, label) in entities_lists:\n",
    "            for i in range(len(text_tokens)):\n",
    "                (token, token_string, start_pos, end_pos, annotated) = text_tokens[i]\n",
    "                for terms_list in multiword_look_up_list:\n",
    "                    match = True\n",
    "                    for j in range(len(terms_list)):\n",
    "                        # string matching for each token in a multiword entity-search term\n",
    "                        if (i+j) < len(text_tokens):\n",
    "                            (_,b,_,next_end_pos,_) = text_tokens[i+j]\n",
    "                            if b != terms_list[j]:\n",
    "                                match = False\n",
    "                                break\n",
    "                        else:\n",
    "                            match = False\n",
    "                            break\n",
    "                    if match:\n",
    "                        for l in range(len(terms_list)):\n",
    "                            token_list = list(text_tokens[i+l])\n",
    "                            #set annotated=True for each token in the entity \n",
    "                            # to avoid double annotation as a singleword entity as well\n",
    "                            token_list[4] = True     \n",
    "                            text_tokens[i+l] = tuple(token_list)\n",
    "                        entities += [(start_pos, next_end_pos, label)]\n",
    "        \n",
    "        # annotation of singleword entities \n",
    "        for (_, singleword_look_up_list, label) in entities_lists:\n",
    "            for (token, token_string, start_pos, end_pos, annotated) in text_tokens:\n",
    "                for term in singleword_look_up_list:\n",
    "                    if (token_string == term and not annotated and len(token.text) > 1 \n",
    "                        and check_iko_suffix(token.text, token_string) and not wrong_entity(token.text)):\n",
    "                        if token_string == 'ΑΜΥΓΔΑΛ':\n",
    "                            if ('λές' in token.text or 'λες' in token.text or 'ΛΕΣ' in token.text or 'λών' in token.text):\n",
    "                                entities += [(start_pos, end_pos, 'ORGAN')]\n",
    "                            else:\n",
    "                                entities += [(start_pos, end_pos, 'PLANT')]\n",
    "                        elif token_string == 'ΝΥΧ':\n",
    "                            if ('άκι' in token.text or 'ακι' in token.text or 'ΑΚΙ' in token.text):\n",
    "                                entities += [(start_pos, end_pos, 'PLANT')]\n",
    "                            else:\n",
    "                                entities += [(start_pos, end_pos, 'ORGAN')]\n",
    "                        else:    \n",
    "                            entities += [(start_pos, end_pos, label)]\n",
    "                        total_singleword_entities += [token.text]\n",
    "\n",
    "        df_texts.at[k,'entities'] = df_texts.iloc[k]['entities'] + entities\n",
    "        \n",
    "    df_texts.to_csv(output_csv_filename, index=False)\n",
    "    return total_singleword_entities\n",
    "\n",
    "\n",
    "\n",
    "def merge_two_annotated_datasets(input_filename1, input_filename2, output_filename):\n",
    "    \"\"\"\n",
    "    It merges two annotated datasets stored in two csv files\n",
    "    into one csv file.\n",
    "\n",
    "    Parameters\n",
    "    ----------\n",
    "    input_filename1 : str\n",
    "        the path of the first file that is about to be merged\n",
    "        \n",
    "    input_filename2 : str\n",
    "        the path of the second file that is about to be merged\n",
    "        \n",
    "    output_filename : str\n",
    "        the path of the output file that the merged dataset \n",
    "        will be stored\n",
    "    \"\"\"\n",
    "    df1 = pd.read_csv(input_filename1)\n",
    "    df2 = pd.read_csv(input_filename2)\n",
    "    df_total = df1.append(df2, ignore_index=True)\n",
    "    df_total.to_csv(output_filename, index=False)"
   ]
  },
  {
   "cell_type": "code",
   "execution_count": 14,
   "metadata": {
    "scrolled": true
   },
   "outputs": [],
   "source": [
    "ents = annotation('../data/proionta_tis_fisis_votana.csv',[('../data/organs.txt', '../data/multiword_organs.txt', 'ORGAN'),\n",
    "                                                    ('../data/plants.txt', '../data/multiword_plants.txt', 'PLANT')], \n",
    "          '../data/proionta_tis_fisis_votana_annotated.csv')"
   ]
  },
  {
   "cell_type": "code",
   "execution_count": 15,
   "metadata": {
    "scrolled": true
   },
   "outputs": [
    {
     "name": "stdout",
     "output_type": "stream",
     "text": [
      "['ASHWAGANDHA', 'Acmella', 'Alfalfa', 'Ashwagandha', 'Boswellia', 'Camellia', 'Canella', 'Capsicum', 'Chaparral', 'Chia', 'Cimicifuga', 'Cordyceps', 'GINSENG', 'GRAVIOLA', 'Galangal', 'Ginger', 'Ginkgo', 'Ginseng', 'Graviola', 'Gynostemma', 'Jiaogulan', 'Lapacho', 'MACA', 'Maca', 'Matcha', 'Nigella', 'Psyllium', 'alfalfa', 'ashwagandha', 'boswellia', 'capsicum', 'chaparral', 'chia', 'cordyceps', 'galangal', 'ginger', 'ginkgo', 'ginseng', 'gymnema', 'gynostemma', 'konjac', 'maca', 'matcha', 'nigella', 'µέντας', 'µήλα', 'µήλο', 'µανιτάρια', 'µπελαντόνα', 'ΆΜΠΕΛΟΣ', 'Άβρωνία', 'Άγνος', 'Άδωνις', 'Άκορο', 'Άκορος', 'Άμπελος', 'Άνηθος', 'Άνηθου', 'Άνθρίσκου', 'Άρκευθος', 'Άρνικα', 'Έλίχρυσο', 'Έντερα', 'Έντερο', 'Ήπαρ', 'Ήπατος', 'Ίλεξ', 'Ίνουλα', 'Ίριδα', 'Ίταμο', 'Ίταμος', 'Ύσσωπο', 'Ύσσωπος', 'ΑΓΚΙΝΑΡΑ', 'ΑΓΡΙΑΔΑ', 'ΑΓΡΙΜΟΝΙΟ', 'ΑΚΟΡΟΣ', 'ΑΛΘΑΙΑ', 'ΑΛΟΗ', 'ΑΛΧΗΜΙΛΛΗ', 'ΑΜΥΓΔΑΛΙΑ', 'ΑΝΗΘΟΣ', 'ΑΝΤΡΑΚΛΑ', 'ΑΠΗΓΑΝΟΣ', 'ΑΡΚΕΥΘΟΣ', 'ΑΡΠΑΓΟΦΥΤΟ', 'ΑΣΠΕΡΟΥΛΑ', 'ΑΥΤΙΑ', 'ΑΧΙΛΛΕΑ', 'Αβγαριά', 'Αβοκάντο', 'Αβρωνία', 'Αβρωνιά', 'Αγγελική', 'Αγγελικής', 'Αγγουριά', 'Αγιάγκαθο', 'Αγιόκλημα', 'Αγκινάρα', 'Αγκινάρας', 'Αγκινάρες', 'Αγριάδα', 'Αγριαγκινάρα', 'Αγριμονιά', 'Αγριμονιο', 'Αγριμόνια', 'Αγριμόνιο', 'Αγριοκάστανο', 'Αγριοκαπνός', 'Αγριοκαστανιά', 'Αγριομολόχα', 'Αγριοτριανταφυλλιά', 'Αδίαντο', 'Αδίαντου', 'Αδωνις', 'Αζα', 'Αζαρο', 'Αιματόριζα', 'Αιμοφόρα', 'Ακανθος', 'Ακορος', 'Ακόνιτο', 'Αλεξανδρινή', 'Αλθαία', 'Αλθαίας', 'Αλφαλφα', 'Αλχεμίλη', 'Αλχημίλλη', 'Αλχημίλλης', 'Αλόη', 'Αλόης', 'Αμάραντο', 'Αμάραντος', 'Αμαμελίδα', 'Αμπελος', 'Αμυγδάλων', 'Αμυγδαλές', 'Αμυγδαλιά', 'Αμύγδαλα', 'Ανηθος', 'Αντράκλα', 'Απήγανος', 'Απήγανου', 'Αρθρώσεις', 'Αρθρώσεων', 'Αριστολοχία', 'Αριστολοχίας', 'Αριστολόχια', 'Αρκουδοπούρναρο', 'Αρκουδόβατος', 'Αρκτοστάφυλο', 'Αρκτοστάφυλος', 'Αρκτοστάφυλου', 'Αρμπαρόριζα', 'Αρνίκη', 'Αρπαγόφυτο', 'Αρπαγόφυτου', 'Αρτεμίσιο', 'Αρτεμισία', 'Αρτηρίας', 'Αρτηρίες', 'Ασβαγκάντα', 'Ασκόλυμπρος', 'Ασπερούλα', 'Ασφάκα', 'Ασφόδελος', 'Αυγαριά', 'Αχίλλειο', 'Αχίλλειος', 'Αχιλλέα', 'Αχιλλέας', 'Αχιλλεία', 'Αχλαδιά', 'Αψιθιά', 'Αψιθιάς', 'ΒΑΛΕΡΙΑΝΑ', 'ΒΑΛΕΡΙΑΝΑΣ', 'ΒΑΛΣΑΜΟ', 'ΒΑΣΙΛΙΚΟΣ', 'ΒΕΛΑΝΙΔΙΑ', 'ΒΕΡΒΕΝΑ', 'ΒΕΡΒΕΡΙΔΑ', 'ΒΕΡΜΠΑΣΚΟ', 'ΒΕΡΟΝΙΚΑ', 'ΒΗΧΑΣ', 'ΒΗΧΙΟ', 'Βάλσαμο', 'Βάλσαμου', 'Βέρατρο', 'Βήχιο', 'Βήχιον', 'Βίσκον', 'Βαλεριάνα', 'Βαλεριάνας', 'Βαλσαμόχορτο', 'Βαλσαμόχορτου', 'Βασιλικού', 'Βασιλικό', 'Βασιλικός', 'Βασκαντήρα', 'Βατομουριά', 'Βατόμουρα', 'Βελανιδιά', 'Βελανιδιάς', 'Βερβένα', 'Βερβερίδα', 'Βερμπάσκο', 'Βερόνικα', 'Βιβούρνο', 'Βιβούρνου', 'Βλήτα', 'Βλίτο', 'Βρυωνία', 'Βρυώνιας', 'Βρώμη', 'Βρώμης', 'ΓΑΝΟΔΕΡΜΑ', 'ΓΑΝΟΔΕΡΜΑΤΟΣ', 'ΓΑΪΔΟΥΡΑΓΚΑΘΟ', 'ΓΕΝΤΙΑΝΗ', 'ΓΕΡΑΝΙΟ', 'ΓΚΙ', 'ΓΚΡΑΒΙΌΛΑ', 'ΓΛΥΚΑΝΙΣΟ', 'ΓΛΥΚΟΡΙΖΑ', 'Γάλιο', 'Γάλιος', 'Γέο', 'Γανοδέρμα', 'Γανόδερμα', 'Γαρίφαλα', 'Γαρίφαλο', 'Γαϊδουράγκαθα', 'Γαϊδουράγκαθο', 'Γεντιανή', 'Γεράνι', 'Γεράνιο', 'Γιανιτσάρα', 'Γιασεμί', 'Γκίγκο', 'Γκίνγκο', 'Γκαλέγκα', 'Γκαλανγκάλ', 'Γκαλεγκα', 'Γκαλεγκας', 'Γκι', 'Γκουαράνα', 'Γκουρμάρ', 'Γκραβιόλα', 'Γλιστρίδα', 'Γλομπουλάρια', 'Γλυκάνισο', 'Γλυκάνισος', 'Γλυκάνισου', 'Γλυκόριζα', 'Γλώσσα', 'Γωλθέρια', 'Γωλθέριας', 'Γωλθερία', 'Γωλθερίας', 'ΔΑΦΝΗ', 'ΔΕΝΔΡΟΛΙΒΑΝΟ', 'ΔΙΚΤΑΜΟ', 'ΔΡΑΚΟΝΤΙΑ', 'ΔΥΟΣΜΟΣ', 'Δάφνη', 'Δάφνης', 'Δέρμα', 'Δίανθο', 'Δίκταμο', 'Δίκταμος', 'Δίψακος', 'Δαμασκηνός', 'Δατούρα', 'Δαφνοκερασιά', 'Δαχτυλίδα', 'Δελφίνιο', 'Δενδρολίβανο', 'Δεντρολίβανο', 'Δικτάμου', 'Διωναία', 'Δρακοντιά', 'Δρακόντιο', 'Δρακόντιον', 'Δυόσμος', 'Δόντια', 'ΕΓΚΕΦΑΛΙΚΑ', 'ΕΛΙΑ', 'ΕΛΙΑΣ', 'ΕΠΙΛΟΒΙΟ', 'ΕΡΥΘΡΑΙΑ', 'ΕΣΤΡΑΓΚΟΝ', 'ΕΥΚΑΛΥΠΤΟΣ', 'ΕΦΕΔΡΑ', 'ΕΧΙΝΑΚΕΙΑ', 'Εγκέφαλος', 'Εγκεφάλου', 'Εκατόφυλλο', 'Εκουιζέτο', 'Εκουϊζέτο', 'Ελίχρυσος', 'Ελίχρυσου', 'Ελιά', 'Ελιάς', 'Ελιές', 'Ελιχρύση', 'Ελλέβορος', 'Ελλέβορου', 'Εντέρου', 'Επιλόβια', 'Επιλόβιο', 'Επιλόβιου', 'Επινεφρίδια', 'Ερίγκερο', 'Ερείκη', 'Ερυθραία', 'Ερυθραίας', 'Εστραγκόν', 'Ευκάλυπτος', 'Ευκάλυπτου', 'Ευφρασία', 'Ευφόρβια', 'Ευφόρβιας', 'Ευφόρβιο', 'Ευφόρβιον', 'Ευώνυμο', 'Εφέδρα', 'Εφέδρας', 'Εχινάκεια', 'ΖΑΜΠΟΥΚΟΣ', 'Ζαμπούκος', 'Ζαμπούκου', 'Ζοχός', 'ΗΠΑΤΟΣ', 'Ηλίανθος', 'Ηλιοτρόπιο', 'ΘΡΟΥΜΠΑ', 'ΘΥΜΑΡΙ', 'Θάψια', 'Θρούμπα', 'Θρούμπι', 'Θυμάρι', 'Θυμαριού', 'Θυρεοειδής', 'ΙΒΙΣΚΟΣ', 'ΙΝΟΥΛΑ', 'ΙΞΟΣ', 'ΙΡΙΔΑ', 'ΙΤΙΑ', 'Ιβίσκος', 'Ινούλα', 'Ιξός', 'Ιπέκα', 'Ιπέροξο', 'Ιπποφαές', 'Ιτέα', 'Ιταμου', 'Ιτιά', 'Ιτιάς', 'ΚΑΛΑΜΠΟΚΙΟΥ', 'ΚΑΛΕΝΤΟΥΛΑ', 'ΚΑΝΕΛΑ', 'ΚΑΝΕΛΛΑ', 'ΚΑΡΔΑΜΟ', 'ΚΑΡΥΔΙΑ', 'ΚΑΣΤΑΝΙΑ', 'ΚΑΨΕΛΛΑ', 'ΚΙΣΤΟΣ', 'ΚΟΛΙΑΝΔΡΟ', 'ΚΟΛΙΑΝΔΡΟΣ', 'ΚΟΛΛΙΤΣΙΔΑ', 'ΚΟΜΒΑΛΛΑΡΙΑ', 'ΚΟΥΜΑΡΙΑ', 'ΚΟΥΡΚΟΥΜΗ', 'ΚΡΑΤΑΙΓΟΣ', 'ΚΡΕΜΜΥΔΙ', 'ΚΡΙΘΑΡΙ', 'ΚΡΟΚΟΣ', 'ΚΥΔΩΝΙΑ', 'ΚΥΜΙΝΟ', 'Κάβα', 'Κάνναβη', 'Κάνναβης', 'Κάππαρη', 'Κάρβι', 'Κάρδαμο', 'Κάρδαμος', 'Κάσσια', 'Κάστανα', 'Κίστο', 'Κίστος', 'Κίστου', 'Κακάο', 'Καλέντουλα', 'Καλέντουλας', 'Καλαμποκιού', 'Καλαμπόκι', 'Καλεντούλα', 'Καμφορά', 'Κανέλα', 'Καναπίτσα', 'Κανελλή', 'Κανελλής', 'Καρδάμινο', 'Καρδαμίνη', 'Καρδιά', 'Καρδιάς', 'Καρυδιά', 'Καρότο', 'Καρύδας', 'Καρύδι', 'Καρύδια', 'Κασσία', 'Καστανιά', 'Καυκαλήθρες', 'Καψέλλα', 'Κενταύριο', 'Κενταύριον', 'Κεράσι', 'Κεράσια', 'Κερασιά', 'Κετραρία', 'Κισσού', 'Κισσός', 'Κιχώρι', 'Κιχώριο', 'Κλήμα', 'Κνίκος', 'Κολίανδρο', 'Κολίανδρος', 'Κολλιτσίδα', 'Κολοκυθιά', 'Κολοκύθα', 'Κομβαλλάρια', 'Κομβαλλάριας', 'Κουκιά', 'Κουκουμέλα', 'Κουμαριά', 'Κουμαριάς', 'Κουρκουμά', 'Κουρκουμάς', 'Κουρκούμη', 'Κουρκούμι', 'Κουσκούτα', 'Κούμαρο', 'Κράνα', 'Κράταιγο', 'Κράταιγος', 'Κρίταμο', 'Κρίταμος', 'Κρίταμου', 'Κρανιά', 'Κρεμμύδι', 'Κρεμμύδια', 'Κριθάρι', 'Κρόκο', 'Κρόκος', 'Κρόκου', 'Κρότωνα', 'Κρότωνας', 'Κυδωνιά', 'Κυδωνιού', 'Κυδωνιών', 'Κυδώνι', 'Κυδώνια', 'Κυνοροδή', 'Κυνόγλωσσο', 'Κυνόροδα', 'Κυνόροδο', 'Κυπάρισσος', 'Κυπαρίσσι', 'Κυπαρίσσια', 'Κόλιανδρο', 'Κόλιανδρος', 'Κόυκος', 'Κύμινο', 'Κύμινου', 'Κώνειο', 'ΛΑΓΟΚΟΙΜΗΘΙΑ', 'ΛΑΠΑΘΟ', 'ΛΕΒΑΝΤΑ', 'ΛΕΜΟΝΙ', 'ΛΕΟΝΟΥΡΟΣ', 'ΛΙΝΑΡΟΣΠΟΡΟΣ', 'ΛΥΚΙΣΚΟΣ', 'ΛΥΚΙΣΚΟΥ', 'ΛΥΚΟΠΟΔΙ', 'Λάβδανο', 'Λάδανο', 'Λάμα', 'Λάμιο', 'Λάπαθο', 'Λάππα', 'Λάχανο', 'Λαβρόχορτο', 'Λαγοκοιμηθιά', 'Λεβάντα', 'ΛεβάνταΜε', 'Λεμονιά', 'Λεμόνι', 'Λεόνουρο', 'Λεόνουρος', 'Λεύκα', 'Λεύκας', 'Λεύκη', 'Λεύκης', 'Λινάρι', 'Λιναρόσπορο', 'Λιναρόσπορος', 'Λομπέλια', 'Λομπέλιας', 'Λουΐζα', 'Λουίζα', 'Λουίζας', 'Λυγαριά', 'Λυγαριάς', 'Λυγιά', 'Λυκίσκο', 'Λυκίσκος', 'Λυκίσκου', 'Λυκοπόδιο', 'Λυκοπόδιον', 'ΜΑΙΝΤΑΝΟΣ', 'ΜΑΝΔΡΑΓΟΡΑΣ', 'ΜΑΝΙΤΑΡΙΑ', 'ΜΑΝΤΖΟΥΡΑΝΑ', 'ΜΑΣΤΟΥ', 'ΜΕΛΙΣΣΟΧΟΡΤΟ', 'ΜΕΝΤΑ', 'ΜΕΝΤΑΣ', 'ΜΗΝΥΑΝΘΟΣ', 'ΜΟΎΡΑ', 'ΜΟΛΟΧΑ', 'ΜΟΥΡΑ', 'ΜΟΥΡΙΕΣ', 'ΜΠΕΛΑΝΤΟΝΑ', 'ΜΠΟΛΝΤΟ', 'ΜΠΟΡΑΝΤΖΑ', 'ΜΥΡΤΙΛΛΟΣ', 'Μάραθα', 'Μάραθο', 'Μάραθος', 'Μάραθου', 'Μάτια', 'Μέντα', 'Μήλο', 'Μήλος', 'Μήτρας', 'Μαγιοβότανο', 'Μαλλιά', 'Μαλλιών', 'Μαλοτήρα', 'Μανδραγόρα', 'Μανδραγόρας', 'Μανιτάρι', 'Μανιτάρια', 'Μαντζουράνα', 'Μαντζουράνας', 'Μαράθου', 'Μαρούλι', 'Μαρρούβιο', 'Μαρρούβιου', 'Μαστίχα', 'Μαστίχας', 'Μαστού', 'Μαϊντανού', 'Μαϊντανό', 'Μαϊντανός', 'Μελίλωτος', 'Μελιλωτός', 'Μελισσόχορτο', 'Μελισσόχορτου', 'Μελιτζάνα', 'Μενεξέ', 'Μενεξές', 'Μερκουριάλις', 'Μηδική', 'Μηλιά', 'Μηνυάνθες', 'Μηνυανθές', 'Μηνύανθο', 'Μηνύανθος', 'Μηνύανθου', 'Μολόχα', 'Μολόχας', 'Μολόχες', 'Μορχέλλα', 'Μος', 'Μοσχολάχανο', 'Μουλάγκα', 'Μουριά', 'Μουρτσάρι', 'Μούρα', 'Μούρο', 'Μπάμια', 'Μπέλλα', 'Μπελίς', 'Μπελαντόνα', 'Μπετούλα', 'Μπολντέα', 'Μπολντό', 'Μποράγκο', 'Μποράντζα', 'Μποσβέλλια', 'Μπρόκολο', 'Μυγκέ', 'Μυρτιά', 'Μυρτιάς', 'Μυρώνι', 'Μύρρο', 'Μύρτιλλα', 'Μύρτιλλο', 'Μύρτιλλος', 'Μύρτος', 'Μύτης', 'Νήριο', 'Νήριον', 'Ναστούρτσιο', 'Νεράντζια', 'Νεραντζιά', 'Νεραντζιάς', 'Νεφρά', 'Νεφρών', 'Νεύρα', 'Νούφαρο', 'Ντουλκαμάρα', 'Νυχάκι', 'Νύχι', 'Ονωνίδα', 'Οστά', 'Ουροδόχου', 'ΠΑΣΙΦΛΟΡΑ', 'ΠΕΝΤΑΝΕΥΡΟ', 'ΠΕΡΔΙΚΑΚΙ', 'ΠΕΥΚΟ', 'ΠΙΚΡΑΛΙΔΑ', 'ΠΙΠΕΡΙΑ', 'ΠΙΠΕΡΟΡΙΖΑ', 'ΠΟΛΥΚΟΜΠΙ', 'ΠΟΛΥΤΡΙΧΙ', 'ΠΡΙΜΟΥΛΑ', 'Πάγκρεας', 'Παγκρέατος', 'Παναγιόχορτο', 'Πανσές', 'Παντζάρι', 'Παντζάρια', 'Παντζαριού', 'Παπαρουνόσπορος', 'Παρθενούλι', 'Πασιφλόρα', 'Πασχαλιά', 'Πασχαλιάς', 'Πασχαλιές', 'Πατάτα', 'Πεντάνευρο', 'Πεντάνευρου', 'Πεπόνι', 'Περδικάκι', 'Πεύκο', 'Πεύκου', 'Πικραγγουριά', 'Πικραλίδα', 'Πικροδάφνη', 'Πικροδιαλέτα', 'Πικροράδικο', 'Πικροραδίκο', 'Πικρόξυλο', 'Πιπέρι', 'Πιπεριά', 'Πιπερόριζα', 'Πλάτανος', 'Πλαντάγκο', 'Πνεύμονες', 'Πολυκόμπι', 'Πολυτρίχι', 'Πολύκομπο', 'Πορτοκάλι', 'Πορτοκαλιά', 'Πορτοκαλιού', 'Ποτεντίλλα', 'Ποτεντίλλη', 'Πουλμονάρια', 'Πουρνάρι', 'Πράσο', 'Πρίμουλα', 'Πρίμουλας', 'Προστάτη', 'Προστάτης', 'Προυνέλλα', 'Προύνη', 'Πτελέα', 'Πτελιά', 'ΡΕΙΚΙ', 'ΡΙΓΑΝΗ', 'Ράμνος', 'Ρίγανη', 'Ρίγανης', 'Ραβέντι', 'Ραδίκι', 'Ραδίκια', 'Ραδικιού', 'Ραπανάκια', 'Ρείκι', 'Ροδέλο', 'Ροδακινιά', 'Ροδιά', 'Ροδιόλα', 'Ροδοδάφνη', 'Ρόδι', 'Ρόδιο', 'Ρύζι', 'ΣΑΛΕΠΙ', 'ΣΑΜΠΟΥΚΟΣ', 'ΣΕΔΟΝ', 'ΣΕΛΙΝΟ', 'ΣΕΝΝΑ', 'ΣΗΜΥΔΑ', 'ΣΙΝΑΜΙΚΗ', 'ΣΚΟΡΔΟ', 'ΣΚΟΡΠΙΔΙ', 'ΣΚΟΥΤΕΛΛΑΡΙΑ', 'ΣΟΛΙΝΤΑΓΚΟ', 'ΣΤΕΒΙΑ', 'ΣΤΕΒΙΑΣ', 'ΣΥΚΩΤΙ', 'ΣΥΜΦΥΤΟ', 'Σέλινο', 'Σέλινος', 'Σέλινου', 'Σέννα', 'Σέννας', 'Σαλέπι', 'Σαμπουκος', 'Σαμπούκα', 'Σαμπούκο', 'Σαμπούκος', 'Σαμπούκου', 'Σαπαράλ', 'Σαφράν', 'Σελινούς', 'Σεντέλα', 'Σεντέλας', 'Σερενόα', 'Σημύδα', 'Σινάπι', 'Σιναμική', 'Σιναμικής', 'Σισάνδρα', 'Σιτρονέλλα', 'Σκαρουχιά', 'Σκορπίδι', 'Σκουτελλάρια', 'Σκουτελλάριας', 'Σκόρδο', 'Σκόρδου', 'Σολανό', 'Σολιντάγκο', 'Σουσάμι', 'Σούρβα', 'Σούρβο', 'Σπάρτιον', 'Σπάρτο', 'Σπαθόχορτο', 'Σπανάκι', 'Σπιρουλίνα', 'Σπλήνα', 'Στέβια', 'Στέβιας', 'Σταμναγκάθι', 'Σταφυλιού', 'Σταφύλια', 'Στελλάρια', 'Στελλάριας', 'Στελλαρία', 'Στομάχι', 'Στομάχου', 'Στοματόχορτο', 'Στουρέκι', 'Στύφνο', 'Στύφνος', 'Συκή', 'Συκιά', 'Συκωτιού', 'Συκώτι', 'Συναμική', 'Σφένδαμος', 'Σχιζάνδρα', 'Σχοινόπρασο', 'Σύκα', 'Σύκο', 'Σύμφυτο', 'ΤΑΝΑΤΣΕΤΟ', 'ΤΑΡΑΞΑΚΟ', 'ΤΖΙΝΣΕΝΓΚ', 'ΤΙΛΙΟ', 'ΤΡΙΑΝΤΑΦΥΛΛΟ', 'ΤΡΙΒΟΛΙ', 'ΤΡΙΓΩΝΕΛΛΑ', 'ΤΡΙΦΥΛΛΙ', 'ΤΣΙΜΙΤΣΙΦΟΥΓΚΑ', 'ΤΣΟΥΚΝΙΔΑ', 'Τίλιο', 'Τίλιου', 'Ταμάρινδος', 'Τανατσέτο', 'Ταραξάκο', 'Ταραξάκου', 'Τεύκριο', 'Τεύκριον', 'Τζίνσενγκ', 'Τζίντζερ', 'Τζίτζιφα', 'Τζιτζιφιά', 'Τζιτζιφιάς', 'Τριαντάφυλλα', 'Τριαντάφυλλο', 'Τριανταφυλλιά', 'Τριανταφυλλιάς', 'Τριανταφυλλιές', 'Τριβόλι', 'Τριγωνέλλα', 'Τριφυλλίας', 'Τριφύλλι', 'Τριόλι', 'Τσίλι', 'Τσαπουρνιά', 'Τσαπουρνιάς', 'Τσιμιτσιφούγκα', 'Τσιμιτσιφούγκας', 'Τσουκνίδα', 'Τσουκνίδας', 'Τόνγκα', 'ΥΔΡΑΣΤΙΣ', 'ΥΟΣΚΥΑΜΟΣ', 'ΥΣΣΩΠΟΣ', 'Υδραστίς', 'Υδροκοτύλη', 'Υσσώπου', 'ΦΑΣΚΟΜΗΛΟ', 'ΦΛΙΣΚΟΥΝΙ', 'ΦΡΑΟΥΛΙΑ', 'ΦΤΕΛΙΑ', 'Φαγόπυρο', 'Φασκομηλιά', 'Φασκομηλο', 'Φασκόμηλο', 'Φιλιπέντουλα', 'Φιλύρα', 'Φιλύρας', 'Φλαμουρι', 'Φλαμουριά', 'Φλαμουριάς', 'Φλαμούρι', 'Φλισκούνι', 'Φλόμο', 'Φλόμος', 'Φράουλα', 'Φραγκοστάφυλα', 'Φραγκοστάφυλο', 'Φραουλιά', 'Φτέρη', 'Φτελιά', 'Φτελιάς', 'Φτελιός', 'Φυτολάκκα', 'ΧΑΜΟΜΗΛΙ', 'ΧΑΡΟΥΠΙΑ', 'ΧΕΛΙΔΟΝΙΟ', 'ΧΡΥΣΑΝΘΕΜΟ', 'ΧΡΥΣΟΒΕΡΓΑ', 'Χαμολεύκη', 'Χαμομηλιού', 'Χαρουπιά', 'Χαρούπι', 'Χαρούπια', 'Χελιδονίου', 'Χελιδονιού', 'Χελιδόνιο', 'Χρένο', 'Χρυσάνθεμα', 'Χρυσάνθεμο', 'Χρυσόβεργα', 'ΨΥΛΛΙΟΝ', 'Ψυλλόχορτο', 'Ψύλλιο', 'άγνος', 'άγνου', 'άζα', 'άζαρο', 'άκανθος', 'άκορος', 'άκορου', 'άμπελο', 'άμπελος', 'άνηθο', 'άνηθος', 'άνηθου', 'άρθρωση', 'άρθρωσης', 'άρκευθο', 'άρκευθος', 'άρκευθου', 'άρνικα', 'έντερα', 'έντερο', 'έντερό', 'ήπαρ', 'ήπατος', 'ίλεξ', 'ίνουλα', 'ίριδα', 'ίριδας', 'ίριδος', 'ίταμο', 'ίταμος', 'ίταμου', 'ίταμους', 'αβοκάντο', 'αβρωνία', 'αβρωνιά', 'αβρωνιάς', 'αγγεία', 'αγγείο', 'αγγείου', 'αγγείων', 'αγγελική', 'αγγελικής', 'αγγουριά', 'αγγουριού', 'αγγούρι', 'αγγούρια', 'αγιάγκαθα', 'αγιάγκαθο', 'αγιοκλήματος', 'αγιόκλημα', 'αγκινάρα', 'αγκινάρας', 'αγκινάρες', 'αγκλέουρα', 'αγκλέουρας', 'αγλέουρας', 'αγλεουρας', 'αγνιά', 'αγριάδα', 'αγριάδας', 'αγριαγκινάρα', 'αγριαγκινάρας', 'αγριμονία', 'αγριμονίου', 'αγριμόνια', 'αγριμόνιας', 'αγριμόνιο', 'αγριμόνιου', 'αγριοµάρουλο', 'αγριογαρύφαλλο', 'αγριοκάστανο', 'αγριοκαπνός', 'αγριοκαστανιά', 'αγριοκαστανιάς', 'αγριομάρουλο', 'αγριομάρουλου', 'αγριοτριανταφυλλιά', 'αγριοτριανταφυλλιάς', 'αγριοτριανταφυλλιές', 'αδίαντο', 'αδίαντος', 'αδίαντου', 'αιματόριζα', 'αιμοφόρα', 'αιμοφόρων', 'ακόνιτο', 'αλεξανδρινή', 'αλθαία', 'αλθαίας', 'αλικάκαβο', 'αλφάλφα', 'αλχεμίλη', 'αλχημίλλη', 'αλόη', 'αλόης', 'αμάραντο', 'αμάραντος', 'αμαμέλιδα', 'αμαμελίδα', 'αμαμελίδας', 'αμπέλι', 'αμπέλια', 'αμπέλου', 'αμπελιού', 'αμυγδάλη', 'αμυγδάλου', 'αμυγδάλων', 'αμυγδαλάς', 'αμυγδαλέα', 'αμυγδαλές', 'αμυγδαλή', 'αμυγδαλής', 'αμυγδαλιά', 'αμυγδαλιάς', 'αμυγδαλιών', 'αμυγδαλών', 'αμύγδαλα', 'αμύγδαλο', 'αμύγδαλος', 'ανήθου', 'αντράκλα', 'αντράκλας', 'απήγανο', 'απήγανος', 'απήγανου', 'απαρίνης', 'αρθρώσεις', 'αρθρώσεων', 'αριστολόχια', 'αρκεύθου', 'αρκουδοπούρναρο', 'αρκουδοπούρναρου', 'αρκτοστάφυλος', 'αρμπαρόριζα', 'αρμπαρόριζας', 'αρπαγόφυτο', 'αρπαγόφυτου', 'αρπαγόφυτων', 'αρτεμισία', 'αρτεμισίας', 'αρτηρία', 'αρτηρίας', 'αρτηρίες', 'αρτηριών', 'ασβαγκάντα', 'ασκολύμπρου', 'ασκολύμπρους', 'ασκόλυμπροι', 'ασκόλυμπρος', 'ασκόλυμπρου', 'ασπερούλα', 'ασπερούλας', 'ασπράγκαθο', 'ασφάκα', 'ασφάκας', 'ασφοδέλου', 'ασφόδελο', 'ασφόδελος', 'ασφόδελου', 'αυγαριά', 'αυτί', 'αυτιά', 'αυτιού', 'αυτιών', 'αχίλλεια', 'αχιλλέα', 'αχιλλέας', 'αχιλλείας', 'αχλάδι', 'αχλάδια', 'αχλαδιά', 'αχλαδιάς', 'αχλαδιού', 'αψιθιά', 'αψιθιάς', 'αύτη', 'βάλσαμο', 'βάλσαμου', 'βέρατρο', 'βέρβενα', 'βέρβενας', 'βήχια', 'βήχιο', 'βήχιον', 'βίσκον', 'βαλεριάνα', 'βαλεριάνας', 'βαλσάμου', 'βαλσαμόχορτο', 'βαλσαμόχορτου', 'βαλσαμόχορτό', 'βασιλικοί', 'βασιλικού', 'βασιλικό', 'βασιλικόν', 'βασιλικός', 'βασκαντήρα', 'βατομουριά', 'βατομουριάς', 'βατομουρια', 'βατομούρων', 'βατόμουρα', 'βατόμουρο', 'βατόμουρου', 'βελανίδι', 'βελανίδια', 'βελανιδιά', 'βελανιδιάς', 'βελανιδιές', 'βελανιδιών', 'βερβένα', 'βερβένας', 'βερβερίδα', 'βερβερίδας', 'βερβερίδες', 'βερμπάσκο', 'βερόνικα', 'βηχίου', 'βιβούρνο', 'βιβούρνου', 'βλήτα', 'βλήτο', 'βλήτων', 'βλίτα', 'βλίτο', 'βλεννογόνες', 'βλεννογόνο', 'βλεννογόνοι', 'βλεννογόνος', 'βλεννογόνου', 'βλεννογόνους', 'βλεννογόνων', 'βρυωνία', 'βρόγχοι', 'βρόγχους', 'βρόγχων', 'βρώμη', 'βρώμης', 'γάλιο', 'γάλιου', 'γαιδουράγκαθο', 'γανοδέρματος', 'γανόδερμα', 'γαρίφαλα', 'γαρίφαλο', 'γαρίφαλου', 'γαρίφαλων', 'γαριφάλων', 'γαρυφαλλιά', 'γαρύφαλλα', 'γαρύφαλλο', 'γαϊδουράγκαθα', 'γαϊδουράγκαθο', 'γαϊδουράγκαθου', 'γεντιανή', 'γεντιανής', 'γεράνι', 'γεράνια', 'γερανιού', 'γιασεμί', 'γιασεμιού', 'γκίγκο', 'γκίνγκο', 'γκαλέγκα', 'γκαλέγκας', 'γκαλανγκάλ', 'γκι', 'γκουαράνα', 'γκουαρανί', 'γκραβιόλα', 'γκυ', 'γλιστρίδα', 'γλιστρίδας', 'γλιστρίδες', 'γλυκάνισο', 'γλυκάνισος', 'γλυκάνισου', 'γλυκομαννάνη', 'γλυκορίζι', 'γλυκόριζα', 'γλυκόριζας', 'γλώσσα', 'γλώσσας', 'γωλθερία', 'γωλθερίας', 'δάφνες', 'δάφνη', 'δάφνης', 'δέρµα', 'δέρµατος', 'δέρμα', 'δέρμαΤο', 'δέρματα', 'δέρματος', 'δέρματός', 'δίανθο', 'δίανθος', 'δίανθου', 'δίκταµο', 'δίκταμο', 'δίκταμος', 'δίκταμου', 'δίψακο', 'δίψακος', 'δαμάσκηνα', 'δαμάσκηνο', 'δαμασκηνή', 'δαμασκηνής', 'δαμασκηνιά', 'δαμασκηνιάς', 'δαμασκηνιές', 'δατούρα', 'δαφνοκέρασου', 'δαχτυλίδα', 'δαχτυλίδι', 'δαχτυλιδιού', 'δελφίνιο', 'δελφινιών', 'δενδρολίβανο', 'δενδρολίβανου', 'δεντρολίβανο', 'δεντρολίβανου', 'δερμάτων', 'δεσποινόχορτο', 'διάνθος', 'διάφραγμα', 'διαβολόχορτο', 'δικτάμου', 'διωναία', 'δοντιού', 'δοντιών', 'δρακοντίου', 'δρακοντι', 'δρακοντιά', 'δρακοντιάς', 'δρακοντια', 'δρακόντεια', 'δρακόντειος', 'δρακόντι', 'δρακόντια', 'δρακόντιο', 'δυόσμο', 'δυόσμος', 'δυόσμου', 'δυόσμουΣε', 'δόντι', 'δόντια', 'εγκέφαλο', 'εγκέφαλος', 'εγκέφαλου', 'εγκέφαλό', 'εγκέφαλός', 'εγκεφάλου', 'εγκεφάλουΣε', 'εγκεφάλων', 'εκουιζέτο', 'ελίχρυσο', 'ελίχρυσος', 'ελίχρυσου', 'ελιά', 'ελιάς', 'ελιές', 'ελλέβορο', 'ελλέβορος', 'ελλέβορου', 'ενδοκρινές', 'ενδοκρινείς', 'ενδοκρινών', 'εντέρου', 'εντέρων', 'επίφυση', 'επιλόβια', 'επιλόβιο', 'επιλόβιου', 'επινεφρίδιά', 'επινεφρίδια', 'επινεφριδίων', 'ερίγκερο', 'ερείκη', 'ερείκης', 'ερυθραία', 'ερυθραίας', 'εστραγκόν', 'ευκάλυπτο', 'ευκάλυπτος', 'ευκάλυπτου', 'ευκαλύπτου', 'ευκαλύπτους', 'ευφορβία', 'ευφορβιών', 'ευφρασία', 'ευφρασίας', 'ευφόρβιες', 'ευφόρβιο', 'ευώνυμο', 'εφέδρα', 'εφέδρας', 'εχινάκεια', 'εχινάκειας', 'ζαμπούκο', 'ζαμπούκος', 'ζαμπούκου', 'ζοχιά', 'ζοχοί', 'ζοχούς', 'ζοχός', 'ζόχια', 'ηλίανθο', 'ηλίανθος', 'ηλίανθου', 'ηλίανθους', 'ηλίανθων', 'ηλιάνθου', 'ηλιοτροπίου', 'ηλιοτρόπια', 'ηλιοτρόπιο', 'θάψια', 'θάψιας', 'θαψία', 'θρουμπιού', 'θρούμπα', 'θρούμπας', 'θρούμπι', 'θυμάρι', 'θυμάρια', 'θυμαριού', 'θυρεοειδή', 'θυρεοειδής', 'θυρεοειδούς', 'ιβίσκο', 'ιβίσκος', 'ιβίσκου', 'ινούλα', 'ινούλας', 'ιξία', 'ιξιά', 'ιξού', 'ιξό', 'ιξός', 'ιπέκα', 'ιπέροξο', 'ιπέροξου', 'ιπποφαές', 'ιτάμου', 'ιτιά', 'ιτιάς', 'κάμφορα', 'κάνναβη', 'κάνναβης', 'κάνναβι', 'κάππαρη', 'κάππαρης', 'κάρβι', 'κάρδαμο', 'κάρδαμος', 'κάρδαμου', 'κάσσια', 'κάστανα', 'κάστανο', 'κάστανου', 'κίστος', 'κίστου', 'κακάο', 'κακουλές', 'καλέντουλα', 'καλέντουλας', 'καλέντουλες', 'καλαμποκιού', 'καλαμπόκι', 'καλεντούλα', 'καλεντούλας', 'καμφορά', 'καμφοράς', 'κανέλα', 'κανέλας', 'κανέλλα', 'καναπίτσα', 'καππαριά', 'καππαριάς', 'καρδία', 'καρδίας', 'καρδαμίνη', 'καρδιά', 'καρδιάς', 'καρδιές', 'καρδιο', 'καρυδιά', 'καρυδιάς', 'καρυδιές', 'καρυδιού', 'καρυδιών', 'καρότα', 'καρότο', 'καρότου', 'καρότων', 'καρύδα', 'καρύδας', 'καρύδι', 'καρύδια', 'κασσία', 'κασσίας', 'καστάνια', 'καστάνων', 'καστανιά', 'καστανιάς', 'καστανιές', 'καυκαλήθρα', 'καυκαλήθρας', 'καυκαλήθρες', 'καψέλλα', 'κενταύριο', 'κενταύριον', 'κεράσι', 'κεράσια', 'κερασιά', 'κερασιάς', 'κερασιές', 'κερασιού', 'κερασιών', 'κετραρία', 'κισσού', 'κισσό', 'κισσός', 'κιχωρίου', 'κιχώρι', 'κιχώριο', 'κιχώριον', 'κλήμα', 'κλήματα', 'κλήματος', 'κνίκο', 'κνίκος', 'κοκκινοπίπερο', 'κοκκινοπιπεριά', 'κολίανδρος', 'κολίανδρου', 'κολλιτσίδα', 'κολλιτσίδας', 'κολλιτσίδες', 'κολοκυθιά', 'κολοκυθιάς', 'κολοκύθα', 'κολοκύθας', 'κολοκύθι', 'κομβαλλάρια', 'κουκιά', 'κουμαριά', 'κουμαριάς', 'κουμαριές', 'κουρκουμά', 'κουρκουμάς', 'κουρκουμας', 'κουρκούμα', 'κουρκούμη', 'κουρκούμης', 'κουρκούμι', 'κούμαρα', 'κούμαρο', 'κούμαρου', 'κούμαρων', 'κράνα', 'κράνιον', 'κράνο', 'κράνος', 'κράνου', 'κράνων', 'κράταιγο', 'κράταιγος', 'κράταιγου', 'κρένα', 'κρένο', 'κρίταμα', 'κρίταμαΤο', 'κρίταμο', 'κρίταμου', 'κρανίο', 'κρανίου', 'κρανιά', 'κρανιάς', 'κρεμμυδιού', 'κρεμμυδιών', 'κρεμμύδα', 'κρεμμύδας', 'κρεμμύδι', 'κρεμμύδια', 'κριθάρι', 'κριθαριού', 'κριτάμου', 'κρόκο', 'κρόκος', 'κρόκου', 'κρόκους', 'κρότωνα', 'κρότωνας', 'κυδωνιά', 'κυδωνιάς', 'κυδωνιού', 'κυδωνιών', 'κυδώνι', 'κυδώνια', 'κυνοροδή', 'κυνοροδα', 'κυνόγλωσσο', 'κυνόροδα', 'κυνόροδο', 'κυνόροδου', 'κυπαρίσσι', 'κυπαρίσσια', 'κυπαρισσίας', 'κυπαρισσιού', 'κυπαρισσόμηλα', 'κωνείου', 'κόκαλα', 'κόλιανδρο', 'κόλιανδρος', 'κόλιανδρου', 'κόρντισεπς', 'κύμινο', 'κύμινου', 'κώνειο', 'κώνειος', 'κώνειου', 'λάβδανο', 'λάβδανου', 'λάδανο', 'λάμιο', 'λάπαθο', 'λάπαθου', 'λάππα', 'λάππας', 'λάρυγγα', 'λάρυγγος', 'λάχανα', 'λάχανο', 'λάχανου', 'λαβρόχορτο', 'λαγοκοιμηθιά', 'λαδάνου', 'λαδανιά', 'λαδανιάς', 'λαχάνων', 'λεµόνι', 'λεβάντα', 'λεβάντας', 'λεμονιά', 'λεμονιού', 'λεμονιών', 'λεμόνι', 'λεμόνια', 'λεονούριο', 'λεόνουρος', 'λεύκα', 'λεύκας', 'λεύκες', 'λεύκη', 'λεύκης', 'λινάρι', 'λιναρόσπορο', 'λιναρόσπορος', 'λιναρόσπορου', 'λομπέλια', 'λομπέλιας', 'λουΐζα', 'λουίζα', 'λουίζας', 'λυγαριά', 'λυγαριάς', 'λυγιά', 'λυκίσκο', 'λυκίσκος', 'λυκίσκου', 'λυκοπόδιο', 'μάραθα', 'μάραθο', 'μάραθος', 'μάραθου', 'μάραθων', 'μάτι', 'μάτια', 'μέντα', 'μέντας', 'μέντες', 'μήλα', 'μήλο', 'μήλου', 'μήλων', 'μήτρα', 'μήτρας', 'μαγιοβότανο', 'μαλλί', 'μαλλιά', 'μαλλιού', 'μαλλιών', 'μαλοτήρα', 'μαλοτήρας', 'μανδραγόρα', 'μανδραγόρας', 'μανδραγόρες', 'μανιτάρι', 'μανιτάρια', 'μανιταριού', 'μανιταριών', 'μαντζουράνα', 'μαντζουράνας', 'μαράθου', 'μαρουλιού', 'μαρουλιών', 'μαρούλι', 'μαρούλια', 'μαρρούβιο', 'μαρρούβιου', 'μαστίχα', 'μαστίχας', 'μαστιχιού', 'μαστού', 'μαστούς', 'μαστό', 'μαστών', 'ματιού', 'ματιών', 'μαϊντανού', 'μαϊντανό', 'μαϊντανός', 'μελίλωτο', 'μελίλωτου', 'μελισσόχορτα', 'μελισσόχορτο', 'μελισσόχορτου', 'μελιτζάνα', 'μελιτζάνας', 'μελιτζάνες', 'μενεξές', 'μηδική', 'μηδικής', 'μηλιά', 'μηλιές', 'μηνύανθος', 'μητρας', 'μολόχα', 'μολόχας', 'μοσχολάχανο', 'μουριά', 'μουριάς', 'μουριές', 'μούρα', 'μούρο', 'μούρων', 'μπάμια', 'μπάμιες', 'μπέλλα', 'μπελαντόνα', 'μπελαντόνας', 'μπετούλα', 'μπετούλας', 'μποζουέλια', 'μπολντέα', 'μπολντέας', 'μπολντό', 'μποράγκο', 'μποράντζα', 'μποράντζας', 'μποσβέλλια', 'μπρόκολο', 'μπρόκολου', 'μπόραγκο', 'μυ', 'μυαλά', 'μυαλού', 'μυαλό', 'μυγκέ', 'μυρτιά', 'μυρτιάς', 'μυρτιές', 'μυρώνια', 'μυς', 'μυών', 'μύες', 'μύρρα', 'μύρρο', 'μύρρου', 'μύρτα', 'μύρτιλλα', 'μύρτιλλο', 'μύρτιλλου', 'μύρτων', 'μύς', 'μύτη', 'μύτης', 'νήριον', 'ναστούρτσιο', 'νεπέτα', 'νεράντζι', 'νεράντζια', 'νεράντζιον', 'νεραντζιά', 'νεραντζιάς', 'νεραντζιού', 'νεραντζιών', 'νευρά', 'νευρών', 'νεφρά', 'νεφροί', 'νεφρού', 'νεφρούς', 'νεφρό', 'νεφρών', 'νεύρα', 'νεύρο', 'νεύρου', 'νεύρων', 'νούφαρο', 'νυχάκι', 'νυχιού', 'νυχιών', 'νύχια', 'οισοφάγο', 'οισοφάγου', 'οστά', 'οστού', 'οστών', 'ουρήθρα', 'ουρήθρας', 'ουρητήρες', 'ουροδόχο', 'ουροδόχου', 'πάγκρεας', 'πέος', 'πέους', 'παγκρέατος', 'παναγιόχορτο', 'παναγιόχορτου', 'πανσέ', 'πανσέδες', 'πανσές', 'παντζάρι', 'παντζάρια', 'παντζαριού', 'παντζαριών', 'παπαρουνόσπορος', 'παρθενούλι', 'πασιφλόρα', 'πασιφλόρας', 'πασχαλιά', 'πασχαλιάς', 'πατάτα', 'πατάτας', 'πατάτες', 'πεντάνευρο', 'πεντάνευρου', 'πενταξύλια', 'πεπονιά', 'πεπονιού', 'πεπόνι', 'πεπόνια', 'περδικάκι', 'πετρόχορτο', 'πεύκα', 'πεύκο', 'πεύκος', 'πεύκου', 'πεύκων', 'πικραγγουριά', 'πικραγγουριάς', 'πικραγγουριές', 'πικραλίδα', 'πικραλίδας', 'πικραλίδες', 'πικροδάφνη', 'πικροδάφνης', 'πικροράδικα', 'πικροράδικο', 'πικρόξυλο', 'πιπέρι', 'πιπέρια', 'πιπεράτος', 'πιπεριά', 'πιπεριάς', 'πιπεριές', 'πιπεριού', 'πιπεριών', 'πιπερόριζα', 'πιπερόριζας', 'πλάτανο', 'πλάτανος', 'πλάτανου', 'πλαντάγκο', 'πλατάνια', 'πλατανόμηλα', 'πνευμόνια', 'πνευμόνων', 'πνεύμονές', 'πνεύμονα', 'πνεύμονας', 'πνεύμονες', 'πνεύμονος', 'πολυκόμπι', 'πολυτρίχι', 'πολυτριχιά', 'πολύκομπο', 'πορτοκάλι', 'πορτοκάλια', 'πορτοκαλιά', 'πορτοκαλιάς', 'πορτοκαλιές', 'πορτοκαλιού', 'πορτοκαλιών', 'πουλμονάρια', 'πουρνάρι', 'πουρναριού', 'πράσα', 'πράσιο', 'πράσο', 'πράσου', 'πράσων', 'πρίμουλα', 'πρίμουλας', 'πρίμουλες', 'πριμούλα', 'προστάτη', 'προστάτης', 'προστάτου', 'προστατη', 'ράμνος', 'ρίγανή', 'ρίγανη', 'ρίγανης', 'ραβέντι', 'ραβεντιού', 'ραδίκι', 'ραδίκια', 'ραδικιού', 'ραδικιών', 'ραπανάκι', 'ραπανάκια', 'ρείκι', 'ρείκια', 'ρεικιών', 'ροδάκινα', 'ροδάκινο', 'ροδάκινων', 'ροδέλα', 'ροδέλες', 'ροδακινιά', 'ροδακινιές', 'ροδιά', 'ροδιές', 'ροδιού', 'ροδιόλα', 'ροδιών', 'ροδοδάφνη', 'ρυζιού', 'ρόδι', 'ρόδια', 'ρύζι', 'σάλπιγγα', 'σέλινο', 'σέλινου', 'σέννα', 'σέννας', 'σαλέπι', 'σαλπίγγων', 'σαμπούκα', 'σαμπούκο', 'σαμπούκος', 'σαμπούκου', 'σαπαράλ', 'σαφράν', 'σελίνου', 'σεννα', 'σερενόα', 'σημύδα', 'σημύδας', 'σημύδες', 'σιελογόνους', 'σινάπι', 'σιναμικό', 'σιναπιού', 'σιτάρι', 'σιταρίων', 'σιταριού', 'σιτρονέλλα', 'σκάρφη', 'σκαρουχιές', 'σκαρούχια', 'σκαρφι', 'σκελετούς', 'σκελετό', 'σκορπίδι', 'σκουτελλάρια', 'σκουτελλαρία', 'σκουτελλαρίας', 'σκόλιαντρος', 'σκόρδα', 'σκόρδο', 'σκόρδου', 'σκόρδων', 'σολανό', 'σουρβιά', 'σουρβιάς', 'σουσάμι', 'σουσαμιού', 'σούρβα', 'σπάρτα', 'σπάρτο', 'σπάρτου', 'σπαθόχορτο', 'σπαθόχορτου', 'σπανάκι', 'σπανακιού', 'σπιρουλίνα', 'σπιρουλίνας', 'σπλήνα', 'σπλήνας', 'σπληνός', 'στέβια', 'στέβιας', 'σταµναγκαθιού', 'σταμναγκάθι', 'σταμναγκαθιού', 'σταφυλάς', 'σταφυλής', 'σταφυλιού', 'σταφυλιών', 'σταφύλι', 'σταφύλια', 'στελλάρια', 'στομάχι', 'στομάχια', 'στομάχου', 'στομάχους', 'στομάχουσαν', 'στομαχιού', 'στουρέκι', 'στόμαχο', 'στύφνο', 'στύφνος', 'στύφνου', 'συκής', 'συκιά', 'συκιάς', 'συκωτιού', 'συκώτι', 'συκώτιΟι', 'σφενδάμι', 'σφενδάμου', 'σχιζάνδρα', 'σχοινόπρασο', 'σχοινόπρασου', 'σύκα', 'σύκο', 'σύκου', 'σύκων', 'σύμφυτο', 'σύμφυτου', 'τένοντες', 'τίλιο', 'τίλιου', 'τανάτσετο', 'τανατσέτο', 'ταράξακο', 'ταραξάκο', 'ταραξάκος', 'ταραξάκου', 'τενόντων', 'τζίνσένγκ', 'τζίνσενγκ', 'τζίντζερ', 'τζίτζιφα', 'τζινσενγκ', 'τζιντζερ', 'τζιτζιφιά', 'τζιτζιφιάς', 'τρίβολα', 'τρίβολο', 'τρίφυλλα', 'τρίφυλλο', 'τραχήλου', 'τραχεία', 'τραχείας', 'τριαντάφυλλα', 'τριαντάφυλλο', 'τριαντάφυλλου', 'τριαντάφυλλων', 'τριανταφυλλιά', 'τριανταφυλλιάς', 'τριανταφυλλιές', 'τριβόλι', 'τριγωνέλλα', 'τριγωνέλλας', 'τριφυλλιού', 'τριφύλλι', 'τριφύλλια', 'τριφύλλιο', 'τριχοειδή', 'τριχοειδούς', 'τριχοειδών', 'τριόλι', 'τριόλια', 'τς', 'τσάπουρνα', 'τσάπουρνο', 'τσάπουρνων', 'τσία', 'τσίλι', 'τσαπουρνιά', 'τσαπουρνιάς', 'τσιμιτσιφούγκα', 'τσιμιτσιφούγκας', 'τσουκνίδα', 'τσουκνίδας', 'τσουκνίδες', 'υοσκύαμος', 'υποθάλαμο', 'υποθάλαμος', 'υποθαλάμου', 'υπόφυση', 'υπόφυσης', 'υσσώπου', 'φάρυγγα', 'φαγόπυρο', 'φαγόπυρου', 'φασκομηλιά', 'φασκομηλιάς', 'φασκομηλο', 'φασκόµηλου', 'φασκόμηλο', 'φασκόμηλου', 'φιλιπέντουλα', 'φιλύρα', 'φλέβα', 'φλέβες', 'φλαμουριά', 'φλαμουριάς', 'φλαμουριές', 'φλαμούρι', 'φλεβών', 'φλισκουνιού', 'φλισκούνι', 'φλομοι', 'φλομος', 'φλόμο', 'φλόμος', 'φλόμου', 'φορσκολίνη', 'φορσκολίνης', 'φράουλα', 'φράουλας', 'φράουλες', 'φραγκοστάφυλα', 'φραγκοστάφυλο', 'φραγκοστάφυλου', 'φραουλιά', 'φτέρα', 'φτέρας', 'φτέρες', 'φτέρη', 'φτέρης', 'φτελιά', 'φτελιάς', 'φυτολάκκα', 'χένα', 'χαμολεύκη', 'χαμολεύκης', 'χαμολεύκι', 'χαμομηλιού', 'χαμόμηλο', 'χαμόμηλου', 'χαρουπιά', 'χαρουπιάς', 'χαρουπιές', 'χαρουπιού', 'χαρουπιών', 'χαρούπι', 'χαρούπια', 'χελιδονιά', 'χελιδόνιο', 'χοληδόχο', 'χοληδόχου', 'χονδρά', 'χονδροτέρους', 'χονδρού', 'χρένο', 'χρένου', 'χρυσάνθεμα', 'χρυσάνθεμο', 'χρυσάνθεμου', 'χρυσάνθεμων', 'χρυσανθέμων', 'χρυσόβεργα', 'χόνδρο', 'χόνδρος', 'χόνδρου', 'χόνδρους', 'χόνδρων', 'ψυλλόχορτο', 'ψύλλιο', 'ψύλλιον', 'ψύλλιου', 'ωοθήκες', 'ωοθήκη', 'ωοθηκών', 'όρχεις', 'όρχεων', 'ύσσωπο', 'ύσσωπος']\n"
     ]
    }
   ],
   "source": [
    "print(list(np.unique(ents)))"
   ]
  },
  {
   "cell_type": "code",
   "execution_count": 16,
   "metadata": {
    "scrolled": false
   },
   "outputs": [],
   "source": [
    "ents = annotation('../data/itrofi_votana.csv',[('../data/organs.txt', '../data/multiword_organs.txt', 'ORGAN'), \n",
    "                                               ('../data/plants.txt', '../data/multiword_plants.txt', 'PLANT')], \n",
    "                  '../data/itrofi_votana_annotated.csv')"
   ]
  },
  {
   "cell_type": "code",
   "execution_count": 17,
   "metadata": {
    "scrolled": true
   },
   "outputs": [
    {
     "name": "stdout",
     "output_type": "stream",
     "text": [
      "['Alfalfa', 'Ashitaba', 'Ashwagandha', 'Capsicum', 'Chia', 'Cordyceps', 'Ginger', 'Ginseng', 'Maca', 'Psyllium', 'chia', 'ginkgo', 'ginseng', 'matcha', 'psyllium', 'Άνηθος', 'Άρνικα', 'Όρχι', 'Ύσσωπος', 'Αντράκλα', 'Αρτεμισία', 'Αψιθιάς', 'Βάλσαμα', 'Βαλεριάνα', 'Βαλσαμόχορτο', 'Βασιλικό', 'Βασιλικός', 'Βρώμη', 'Γαϊδουράγκαθο', 'Γλιστρίδα', 'Γλυκάνισος', 'Γλυκόριζα', 'Γλυκόριζας', 'Δενδρολίβανο', 'Δεντρολίβανο', 'Δυόσμος', 'Εστραγκόν', 'Θυμάρι', 'Κάνναβη', 'Κάρδαμο', 'Κανέλα', 'Κοκκινοπίπερο', 'Κολλιτσίδα', 'Κουρκουμάς', 'Κρίταμο', 'Κόλιανδρος', 'Κύμινο', 'Λεμόνι', 'Λουΐζα', 'Λουίζας', 'Μέντα', 'Μαντζουράνα', 'Μαϊντανός', 'Μελισσόχορτο', 'Μολόχα', 'Μυρώνι', 'Οστά', 'Παντζάρι', 'Παπαρουνόσπορος', 'Πικραλίδα', 'Πιπεριές', 'Ρίγανη', 'Ρίγανης', 'Σέννα', 'Σισάνδρα', 'Σκόρδο', 'Στέβια', 'Ταραξάκο', 'Τζίντζερ', 'Τριγωνέλλα', 'Τσίλι', 'Τσουκνίδα', 'Φασκόμηλο', 'Φιλύρα', 'Φτελιά', 'Χρένο', 'Ψύλλιουμ', 'άνηθο', 'άνηθος', 'άνηθου', 'άρνικα', 'έντερα', 'έντερο', 'ήπαρ', 'ήπατος', 'αβοκάντο', 'αγγείων', 'αγγούρι', 'αγγούρια', 'αγκινάρες', 'αγριομάρουλο', 'αγριομολόχα', 'αλόη', 'αλόης', 'αμαμελίδα', 'αντράκλα', 'αντράκλας', 'απήγανος', 'αρθρώσεις', 'αρθρώσεων', 'αρκεύθου', 'αρτηρίες', 'αρτηριών', 'ασιτάμπα', 'αυτί', 'αυτιά', 'αυτιού', 'αυτιών', 'αψιθιά', 'αψιθιάς', 'βάλσαμα', 'βάλσαμο', 'βαλεριάνα', 'βαλεριάνας', 'βαλσαμόχορτο', 'βασιλικού', 'βασιλικό', 'βασιλικός', 'βατόμουρα', 'βλεννογόνο', 'βλεννογόνου', 'βλεννογόνους', 'βλεννογόνων', 'βρώμη', 'βρώμης', 'γαιδουράγκαθο', 'γανόδερμα', 'γαρίφαλα', 'γαρίφαλο', 'γαρύφαλλα', 'γαρύφαλλο', 'γαϊδουράγκαθα', 'γαϊδουράγκαθο', 'γαϊδουράγκαθου', 'γεράνια', 'γλιστρίδα', 'γλιστρίδας', 'γλιστρίδες', 'γλυκάνισο', 'γλυκάνισος', 'γλυκάνισου', 'γλυκόριζα', 'γλυκόριζας', 'γλώσσα', 'δάφνης', 'δέρμα', 'δέρματος', 'δαμάσκηνα', 'δενδρολίβανο', 'δενδρολίβανου', 'δεντρολίβανο', 'δεντρολίβανου', 'διαβολόχορτου', 'δοντιών', 'δρακόντι', 'δρακόντια', 'δυόσμο', 'δυόσμος', 'δυόσμου', 'δόντι', 'δόντια', 'εγκέφαλο', 'εγκέφαλος', 'εγκέφαλό', 'εγκέφαλός', 'εγκεφάλου', 'εκουιζέτο', 'εντέρου', 'εντέρων', 'επιλόβια', 'επινεφριδίων', 'εστραγκόν', 'εχινάκεια', 'ηλίανθος', 'θυμάρι', 'θυμαριού', 'θυρεοειδή', 'θυρεοειδούς', 'ιβίσκος', 'ιβίσκου', 'ισπάγκουλα', 'κάνναβη', 'κάνναβης', 'κάρδαμο', 'κακάου', 'καλέντουλα', 'καλέντουλας', 'κανέλα', 'κανέλλα', 'καρδιά', 'καρδιάς', 'καρότα', 'καρότο', 'καρότου', 'καρύδας', 'κασσία', 'κεράσια', 'κοκκινοπίπερο', 'κοκκινοπιπεριές', 'κολλιτσίδα', 'κολλιτσίδας', 'κολοκύθα', 'κουρκουμά', 'κουρκουμάς', 'κρίταμο', 'κρίταμου', 'κρεμμυδιών', 'κρεμμύδι', 'κρεμμύδια', 'κριθάρι', 'κριθαριού', 'κυμίνου', 'κόλιανδρο', 'κόλιανδρος', 'κόλιανδρου', 'κύμινο', 'κύμινου', 'κώνειου', 'λάππα', 'λάχανο', 'λεβάντα', 'λεβάντας', 'λεμονιού', 'λεμόνι', 'λεμόνια', 'λουΐζα', 'λουΐζας', 'λυκίσκο', 'λυκίσκος', 'λυκίσκου', 'μάραθο', 'μάραθος', 'μάραθου', 'μάτι', 'μάτια', 'μέντα', 'μέντας', 'μήλα', 'μήλο', 'μήλου', 'μήτρα', 'μήτρας', 'μαγιοβότανο', 'μαλλιά', 'μαλλιών', 'μαλοτήρας', 'μανδραγόρα', 'μανδραγόρας', 'μανιτάρια', 'μαντζουράνα', 'μαντζουράνας', 'μαρουλιού', 'μαρούλια', 'μαστού', 'ματιού', 'ματιών', 'μαϊντανού', 'μαϊντανό', 'μαϊντανός', 'μελίλωτο', 'μελίλωτος', 'μελίλωτου', 'μελισσόχορτο', 'μελισσόχορτου', 'μελιτζάνες', 'μολόχα', 'μολόχας', 'μολόχες', 'μπάμιας', 'μπελαντόνα', 'μπρόκολο', 'μυαλό', 'μυρώνι', 'μυς', 'μυών', 'μύες', 'μύρτιλλα', 'μύτη', 'νεφρά', 'νεφρού', 'νεφρών', 'νεύρα', 'νεύρο', 'νεύρων', 'νυχάκι', 'νύχια', 'οισοφάγο', 'οισοφάγου', 'οστά', 'οστών', 'πάγκρεας', 'παγκρέατος', 'παντζάρια', 'πασιφλόρα', 'πασιφλόρας', 'πατάτες', 'πεύκα', 'πεύκου', 'πικραλίδα', 'πικραλίδας', 'πικραλίδες', 'πιπέρι', 'πιπεριές', 'πιπεριών', 'πιπερόριζα', 'πιπερόριζας', 'πνευμόνων', 'πνεύμονα', 'πνεύμονες', 'πράσα', 'προστάτη', 'ρίγανη', 'ρίγανης', 'ραδίκι', 'ραπανάκι', 'ροδάκινα', 'ροδιού', 'ρόδι', 'ρύζι', 'σέλινο', 'σέλινου', 'σέννα', 'σαλέπι', 'σαλεπιού', 'σαφράν', 'σιελογόνους', 'σιναμική', 'σιτάρι', 'σκόρδο', 'σκόρδου', 'σπανάκι', 'σπλήνα', 'σταφύλια', 'στομάχι', 'στομάχου', 'συκωτιού', 'συκώτι', 'σχοινόπρασο', 'τίλιο', 'τίλιου', 'ταραξάκο', 'ταραξάκος', 'ταραξάκου', 'τζίνσενγκ', 'τζίντζερ', 'τριαντάφυλλα', 'τριαντάφυλλο', 'τριαντάφυλλου', 'τριαντάφυλλων', 'τριγωνέλλα', 'τριγωνέλλας', 'τριφυλλιού', 'τριφύλλι', 'τριχοειδών', 'τσίλι', 'τσουκνίδα', 'τσουκνίδας', 'τσουκνίδες', 'φάρυγγα', 'φασκομηλιά', 'φασκόμηλο', 'φασκόμηλου', 'φιλύρα', 'φιλύρας', 'φιλύρες', 'φλέβες', 'φλαμούρι', 'φλεβών', 'φράουλας', 'φράουλες', 'φτελιά', 'φτελιάς', 'χαμομηλιού', 'χρένο', 'χρένου', 'χρυσάνθεμα', 'χρυσάνθεμο', 'χρυσανθέμων', 'ψυλλόχορτο', 'ψύλλιου', 'ψύλλιουμ', 'ωοθηκών', 'όρχεις', 'ύσσωπος']\n"
     ]
    }
   ],
   "source": [
    "print(list(np.unique(ents)))"
   ]
  },
  {
   "cell_type": "code",
   "execution_count": 18,
   "metadata": {
    "scrolled": true
   },
   "outputs": [],
   "source": [
    "merge_two_annotated_datasets('../data/proionta_tis_fisis_votana_annotated.csv', '../data/itrofi_votana_annotated.csv', \n",
    "                             '../data/votana_total_texts_annotated.csv')"
   ]
  },
  {
   "cell_type": "markdown",
   "metadata": {},
   "source": [
    "Είναι σημαντικό πως πρέπει να κρατήσουμε τη θέση , βασικά την αρχή και το τέλος κάθε token. Αυτό είναι απαραίτητο, καθώς στα χαρακτηρισμένα δεδομένα πέρα από τις οντότητες που περιέχονται σε ένα κείμενο πρέπει να υπάχρουν και οι θέσεις εμφάνισης αυτών.\n",
    "\n",
    "Επίσης, για να επιταχυνθεί η διαδικασία και να αποφευχθεί το ταίριασμα κάποιου όρου αναζήτησης με μία stop word, οι τελευταίες απορρίπτονται πριν αρχίσει η διαδικασία της αναζήτησης. Με αυτόν τον τρόπο γλιτώνουμε κάποιες άσκοπες συγκρίσεις.\n",
    "\n",
    "Επίσης, φροντίζουμε να εντοπίσουμε πρώτα τις οντότητες που αποτελούνται από παραπάνω λέξεις και μετά θα επισημάνουμε τις υπόλοιπες εφόσον δεν ανήκουν σε κάποια από τις προηγούμενες. Αυτό γίνεται γιατί ως οντότητες υπάρχουν π.χ. τόσο η \"χοληδόχος κύστη\" όσο και η \"χοληδόχος\" σκέτο. Αν αναγνωριζόταν πρώτα η μονολεξική οντότητα, η άλλη δε θα εντοπιζόταν ποτέ.\n",
    "\n",
    "Τέλος, για να λάβουμε καλύτερα αποτελέσματα δε λάβαμε υπόψη μας κάποιες οντότητες. Πιο συγκεκριμένα, αφαιρέθηκε ο θύμος αδένας από το σύστημα ενδοκρινών και το λεμφικό σύστημα, καθώς στα κείμενο ο θύμος συναντάται μόνο ως αρχαία ονομασία του θυμαριού. Ακόμα, οι σύνδεσμοι μόνο μία φορά εμφανίζονταν με την επιθυμητή σημασία που σχετίζεται με το ανθρώπινο σώμα και όλες τις άλλες με άλλη καθημερινή σημασία. Τέλος, από τα βότανα αφαιρέθηκε και η φούσκα, γιατί υπάρχει και στο ανθρώπινο σώμα."
   ]
  }
 ],
 "metadata": {
  "kernelspec": {
   "display_name": "Python 3",
   "language": "python",
   "name": "python3"
  },
  "language_info": {
   "codemirror_mode": {
    "name": "ipython",
    "version": 3
   },
   "file_extension": ".py",
   "mimetype": "text/x-python",
   "name": "python",
   "nbconvert_exporter": "python",
   "pygments_lexer": "ipython3",
   "version": "3.6.10"
  }
 },
 "nbformat": 4,
 "nbformat_minor": 2
}
